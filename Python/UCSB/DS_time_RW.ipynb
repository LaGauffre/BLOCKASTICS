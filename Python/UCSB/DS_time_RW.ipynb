{
 "cells": [
  {
   "cell_type": "code",
   "execution_count": 114,
   "id": "02b0d330-f58a-469a-945c-9753f27d0c96",
   "metadata": {},
   "outputs": [],
   "source": [
    "import numpy as np\n",
    "import scipy.special as sp\n",
    "import matplotlib.pyplot as plt\n",
    "import seaborn as sns"
   ]
  },
  {
   "cell_type": "markdown",
   "id": "8d7cc469-c5f1-44fe-97a7-b87474fb8f89",
   "metadata": {},
   "source": [
    "# Double spending time distribution with random walk\n",
    "\n",
    "The difference between the number of blocks of the public blockchain and the private one is given by \n",
    "$$\n",
    "R_0 = z,\\text{ }R_n = R_{n-1}+Y_n,\\text{ for }n\\geq1,\n",
    "$$\n",
    "where the $Y_i$'s are iid with probability mass fuunction \n",
    "\n",
    "$$\n",
    "\\mathbb{P}(Y = 1)=p\\text{ and }\\mathbb{P}(Y = -1)=1-p = q.\n",
    "$$\n",
    "\n",
    "Define the double spending time as $\\tau_0 = \\inf\\{n\\geq0\\text{ ; }R_n = 0\\}$\n",
    "\n",
    "We wish to verify the following formula\n",
    "\n",
    "$$\n",
    "\\mathbb{P}(\\tau_0 = n|R_0 = z) = \\frac{z}{n}\\binom{n}{(n-z)/2}p^{(n-z)/2}q^{(n+z)/2},\n",
    "$$\n",
    "\n",
    "via simulations.\n",
    "\n",
    "1) Write a function **pmf_ds** that compute the probability mass function of the double spending time. the **pmf_ds** takes as argument \n",
    "\n",
    "- p the hashpower of the honest miners\n",
    "- z the number of blocks that the honest chain is ahead of the dishonest one\n",
    "- n the time horizon\n",
    "\n",
    "and returns the $\\mathbb{P}(\\tau_0 = n|R_0 = z)$. Evaluate the ds probability with $p= 2/3, z = 2,$ and $n = 6$."
   ]
  },
  {
   "cell_type": "code",
   "execution_count": 115,
   "id": "cba2be6b-ae73-4bea-a005-6921bf380bcd",
   "metadata": {},
   "outputs": [
    {
     "data": {
      "text/plain": [
       "0.02743484224965708"
      ]
     },
     "execution_count": 115,
     "metadata": {},
     "output_type": "execute_result"
    }
   ],
   "source": [
    "def pmf_ds(p, z, n):\n",
    "    q = 1-p\n",
    "    if z > n or (n - z) % 2 == 1:\n",
    "        res = 0\n",
    "    else:\n",
    "        a = int((n - z) / 2)\n",
    "        res = z / n * sp.binom(n, a) * p**(a) * q**(a + z)\n",
    "    return(res)\n",
    "p, z, n = 2/3, 2, 6\n",
    "pmf_ds(p, z, n)"
   ]
  },
  {
   "cell_type": "markdown",
   "id": "4f4be0bc-266c-4375-904f-c721a3cb2537",
   "metadata": {},
   "source": [
    "2) Verify that it checks out with the probability of double spending"
   ]
  },
  {
   "cell_type": "code",
   "execution_count": 116,
   "id": "5d3ccc44-f33c-4025-949e-bd210a10652a",
   "metadata": {},
   "outputs": [
    {
     "data": {
      "text/plain": [
       "(0.24998389315180378, 0.2500000000000001)"
      ]
     },
     "execution_count": 116,
     "metadata": {},
     "output_type": "execute_result"
    }
   ],
   "source": [
    "sum([pmf_ds(p, z, k) for k in range(100)]), ((1-p)/p)**z"
   ]
  },
  {
   "cell_type": "markdown",
   "id": "0f2350ec-cbd9-483f-86b8-33826d6dbfec",
   "metadata": {},
   "source": [
    "3) Write a function **sample_ds_time** that sample value of $\\tau_0$ up to given time horizon $n$. **pmf_ds_MC** takes as argument\n",
    "\n",
    "- K the number of MC runs\n",
    "- n the time horizon (beyond which we state that $\\tau_0 = \\infty$)\n",
    "- p the hashpower of the honest miners\n",
    "- z the number of blocks that the honest chain is ahead of the dishonest one\n",
    "\n",
    "and returns a vector of values of $\\tau_0$. Estimate the ds probability with $p= 2/3, z = 2,n = 6$ and $K = 10,000$."
   ]
  },
  {
   "cell_type": "code",
   "execution_count": 85,
   "id": "69af7dad-de44-4da7-a06c-b5ec579f2f3e",
   "metadata": {},
   "outputs": [
    {
     "data": {
      "text/plain": [
       "0.03"
      ]
     },
     "execution_count": 85,
     "metadata": {},
     "output_type": "execute_result"
    }
   ],
   "source": [
    "def sample_ds_time(p, z, n, K):\n",
    "    tau = []\n",
    "    for k in range(K):\n",
    "\n",
    "        Y_n = 2*np.random.binomial(1, p, size = n) -1\n",
    "        R_n = z + np.cumsum(Y_n)\n",
    "        # R_n = np.array([0, 0,0])\n",
    "        if np.any(np.where(R_n == 0)[0]):\n",
    "            tau.append(np.where(R_n == 0)[0][0]+1)\n",
    "        else:\n",
    "            tau.append(np.NaN)\n",
    "    return(np.array(tau))\n",
    "p, z, n, K = 2/3, 2, 7, 10000\n",
    "tau = sample_ds_time(p, z, n, K)\n",
    "np.mean(tau == 6)"
   ]
  },
  {
   "cell_type": "markdown",
   "id": "309f0a09-1f8f-4bb1-ab4a-469eb10bd7af",
   "metadata": {},
   "source": [
    "4) Compare the Monte Carlo approximation and the true value by plotting the values $\\mathbb{P}(\\tau_0 = n|R_0 = z)$ for $n =1,\\ldots,10$. We want the true value surrounded by the $5\\%$ confidence band of the MC estimator. "
   ]
  },
  {
   "cell_type": "code",
   "execution_count": 112,
   "id": "efa93985-fe6c-4d50-a68f-290f9fa6ee55",
   "metadata": {},
   "outputs": [
    {
     "data": {
      "image/png": "[encoded data removed]",
      "text/plain": [
       "<Figure size 432x288 with 1 Axes>"
      ]
     },
     "metadata": {
      "needs_background": "light"
     },
     "output_type": "display_data"
    }
   ],
   "source": [
    "n = np.arange(1,11,1)*2\n",
    "p, z, K = 2/3, 2, 1000\n",
    "true_value = [pmf_ds(p, z, k) for k in n]\n",
    "MC_values = []\n",
    "for i in range(100):\n",
    "    tau = sample_ds_time(p, z, max(n), K)\n",
    "    MC_values.append([np.mean(tau == k) for k in n])\n",
    "    \n",
    "MC_bands = np.quantile(np.matrix(MC_values), q = np.array([0.05, 0.95]), axis = 0)    \n",
    "plt.plot(n, true_value)\n",
    "plt.plot(n, MC_bands[0,:], linestyle = \"dashed\")\n",
    "plt.plot(n, MC_bands[1,:], linestyle = \"dashed\")\n",
    "sns.despine()"
   ]
  },
  {
   "cell_type": "code",
   "execution_count": null,
   "id": "6b89f7ea-1612-4108-9df9-9fdabc1f78b6",
   "metadata": {},
   "outputs": [],
   "source": []
  }
 ],
 "metadata": {
  "kernelspec": {
   "display_name": "Python 3 (ipykernel)",
   "language": "python",
   "name": "python3"
  },
  "language_info": {
   "codemirror_mode": {
    "name": "ipython",
    "version": 3
   },
   "file_extension": ".py",
   "mimetype": "text/x-python",
   "name": "python",
   "nbconvert_exporter": "python",
   "pygments_lexer": "ipython3",
   "version": "3.9.7"
  }
 },
 "nbformat": 4,
 "nbformat_minor": 5
}
