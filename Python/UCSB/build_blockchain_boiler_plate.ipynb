{
 "cells": [
  {
   "cell_type": "markdown",
   "metadata": {},
   "source": [
    "# Building a blockchain in python\n",
    "\n",
    "Inspired from [Python Tutorial: Build A Blockchain In < 60 Lines of Code](https://medium.com/coinmonks/python-tutorial-build-a-blockchain-713c706f6531) and [Learn Blockchains by Building One](https://hackernoon.com/learn-blockchains-by-building-one-117428612f46)."
   ]
  },
  {
   "cell_type": "code",
   "execution_count": 5,
   "metadata": {},
   "outputs": [],
   "source": [
    "import datetime\n",
    "import hashlib\n",
    "import numpy as np\n",
    "import matplotlib.pyplot as plt\n",
    "import pandas as pd"
   ]
  },
  {
   "cell_type": "markdown",
   "metadata": {},
   "source": [
    "## The SHA-256 function"
   ]
  },
  {
   "cell_type": "code",
   "execution_count": 6,
   "metadata": {},
   "outputs": [
    {
     "data": {
      "text/plain": [
       "'81b524b34b3f0959ff89f59a505ce51564a9917d3c7d18276dbab55772e056a1'"
      ]
     },
     "execution_count": 6,
     "metadata": {},
     "output_type": "execute_result"
    }
   ],
   "source": [
    "hashlib.sha256(b\"Is DeFi the future\").hexdigest()"
   ]
  },
  {
   "cell_type": "markdown",
   "metadata": {},
   "source": [
    "The \"b\" before the text means that it is presented as a bytes objects rathers than a string. One popular encoding format for a string is ASCII. Each caracter is a specific sequence of 8 bits (0 or 1) making a byte."
   ]
  },
  {
   "cell_type": "code",
   "execution_count": 7,
   "metadata": {},
   "outputs": [
    {
     "name": "stdout",
     "output_type": "stream",
     "text": [
      "['01001001', '01110011', '00100000', '01000100', '01100101', '01000110', '01101001', '00100000', '01110100', '01101000', '01100101', '00100000', '01100110', '01110101', '01110100', '01110101', '01110010', '01100101']\n"
     ]
    }
   ],
   "source": [
    "text = \"Is DeFi the future\"\n",
    "binary_numbers = [bin(ord(char))[2:].zfill(8) for char in text]\n",
    "print(binary_numbers)"
   ]
  },
  {
   "cell_type": "markdown",
   "metadata": {},
   "source": [
    "## The block class"
   ]
  },
  {
   "cell_type": "code",
   "execution_count": 8,
   "metadata": {},
   "outputs": [],
   "source": [
    "class Block:\n",
    "    hash = None # Hash of the block info\n",
    "    index = 0 # Index of the block inside the chain\n",
    "    timestamp = datetime.datetime.now() # Time of creation of the block\n",
    "    nonce = 0 # Solution to the cryptopuzzle\n",
    "    transactions = [] # Transaction data\n",
    "    mined = False # Boolean set to True whenever the problem has been solved\n",
    "    previous_hash = 0x0 # Hash of the previous block\n",
    "    \n",
    "\n",
    "    def __init__(self, transactions):\n",
    "        self.transactions = transactions\n",
    "        self.timestamp = datetime.datetime.now()\n",
    "\n",
    "    def hash(self):# Compute the hash of the blockdata\n",
    "        h = hashlib.sha256()\n",
    "        h.update(\n",
    "        str(self.nonce).encode('utf-8') +\n",
    "        str(self.transactions).encode('utf-8') +\n",
    "        str(self.previous_hash).encode('utf-8') \n",
    "        )\n",
    "        return h.hexdigest()\n",
    "    \n",
    "    # Add a new transaction to a block\n",
    "    def new_transaction(self, sender, recipient, amount, fee):\n",
    "        transaction = {\n",
    "            'sender': sender,\n",
    "            'recipient': recipient,\n",
    "            'amount': amount,\n",
    "            'fee' : fee\n",
    "        }\n",
    "        self.transactions.append(transaction)\n",
    "    \n",
    "    # Print the block info\n",
    "    def __str__(self):\n",
    "        return \"Block Height: \" + str(self.index) + \\\n",
    "    \"\\nBlock Hash: \" + str(self.hash()) + \\\n",
    "    \"\\nTime:\" + str(self.timestamp) + \\\n",
    "    \"\\nBlock data: \" + str(self.transactions) + \\\n",
    "    \"\\nMined: \" + str(self.mined) + \\\n",
    "    \"\\nPrevious block hash: \" + str(self.previous_hash) +\"\\n--------------\"\n",
    "    \n",
    "    # Solve the cryptopuzzle of the block\n",
    "    \n"
   ]
  },
  {
   "cell_type": "markdown",
   "metadata": {},
   "source": [
    "1. Create an empty block and add two transactions to it. Use the print() function to display your block."
   ]
  },
  {
   "cell_type": "code",
   "execution_count": null,
   "metadata": {},
   "outputs": [],
   "source": []
  },
  {
   "cell_type": "markdown",
   "metadata": {},
   "source": [
    "## The blockchain class"
   ]
  },
  {
   "cell_type": "code",
   "execution_count": 12,
   "metadata": {},
   "outputs": [],
   "source": [
    "class Blockchain:\n",
    "    diff = 0\n",
    "    maxNonce = 2**32\n",
    "    target = 2 ** (256-diff)\n",
    "    reward = 50\n",
    "    miner = \"Miner\"\n",
    "\n",
    "    def __init__(self, genesis_block):\n",
    "        self.chain = [genesis_block]\n",
    "        self.pending_transactions = []\n",
    "        \n",
    "    def new_transaction(self, sender, recipient, amount, fee):\n",
    "        transaction = {\n",
    "            'sender': sender,\n",
    "            'recipient': recipient,\n",
    "            'amount': amount,\n",
    "            'fee' : fee\n",
    "        }\n",
    "        self.pending_transactions.append(transaction) \n",
    "    \n",
    "    def add_block(self):\n",
    "#         blockchain.pending_transactions\n",
    "        current_block = blockchain.chain[-1]\n",
    "        new_block = Block(blockchain.pending_transactions)\n",
    "        new_block.index = current_block.index + 1\n",
    "        new_block.previous_hash = current_block.hash()\n",
    "        blockchain.chain.append(new_block)\n",
    "        blockchain.pending_transactions = []\n",
    "    \n",
    "    def adjust_difficulty(self, new_diff):\n",
    "        self.diff = new_diff\n",
    "        self.target = 2 ** (256-new_diff)\n",
    "    \n",
    "    def halve_reward(self):\n",
    "        self.reward = self.reward / 2\n",
    "    \n",
    "    def mine(self):\n",
    "        block = self.chain[-1]\n",
    "        target = self.target\n",
    "\n",
    "        if block.transactions:\n",
    "            fee = pd.DataFrame.from_records(block.transactions).fee.sum()\n",
    "        else:\n",
    "            fee = 0\n",
    "\n",
    "        block.new_transaction(\"Coinbase\", self.miner, self.reward + fee, 0)\n",
    "        while int(block.hash(), 16) > target:\n",
    "            block.nonce = int(np.random.uniform(low = 0, high = 2**32 + 1))\n",
    "        block.mined = True\n",
    "        block.timestamp = datetime.datetime.now() \n",
    "        \n",
    "\n"
   ]
  },
  {
   "cell_type": "markdown",
   "metadata": {},
   "source": [
    "2. Initialize your blockchain by creating a genesis block. Print the last block of your blockchain. "
   ]
  },
  {
   "cell_type": "code",
   "execution_count": null,
   "metadata": {},
   "outputs": [],
   "source": [
    "\n"
   ]
  },
  {
   "cell_type": "markdown",
   "metadata": {},
   "source": [
    "3. Set the difficulty of your blockchain to $4$, halve the reward and mine the last block of your blockchain befire printing it. "
   ]
  },
  {
   "cell_type": "code",
   "execution_count": null,
   "metadata": {},
   "outputs": [],
   "source": []
  },
  {
   "cell_type": "markdown",
   "metadata": {},
   "source": [
    "4. Add two transactions to the list of pending transaction of your blockchain. Add a new block and print the the blocks of your blockchain using a for loop. "
   ]
  },
  {
   "cell_type": "code",
   "execution_count": null,
   "metadata": {},
   "outputs": [],
   "source": []
  },
  {
   "cell_type": "markdown",
   "metadata": {},
   "source": [
    "5. Mine the last block of your blockchain and print all the blocks. "
   ]
  },
  {
   "cell_type": "code",
   "execution_count": null,
   "metadata": {},
   "outputs": [],
   "source": []
  },
  {
   "cell_type": "code",
   "execution_count": null,
   "metadata": {},
   "outputs": [],
   "source": [
    "\n"
   ]
  },
  {
   "cell_type": "code",
   "execution_count": null,
   "metadata": {},
   "outputs": [],
   "source": []
  },
  {
   "cell_type": "code",
   "execution_count": null,
   "metadata": {},
   "outputs": [],
   "source": []
  },
  {
   "cell_type": "code",
   "execution_count": null,
   "metadata": {},
   "outputs": [],
   "source": []
  }
 ],
 "metadata": {
  "kernelspec": {
   "display_name": "Python 3 (ipykernel)",
   "language": "python",
   "name": "python3"
  },
  "language_info": {
   "codemirror_mode": {
    "name": "ipython",
    "version": 3
   },
   "file_extension": ".py",
   "mimetype": "text/x-python",
   "name": "python",
   "nbconvert_exporter": "python",
   "pygments_lexer": "ipython3",
   "version": "3.9.18"
  }
 },
 "nbformat": 4,
 "nbformat_minor": 4
}
