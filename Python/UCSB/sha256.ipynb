{
 "cells": [
  {
   "cell_type": "code",
   "execution_count": 1,
   "id": "c3b050be-8b67-49a1-8ef1-f2e44c28b1c3",
   "metadata": {},
   "outputs": [
    {
     "name": "stdout",
     "output_type": "stream",
     "text": [
      "Padded Message (in bytes): b'Hello, world!\\x80\\x00\\x00\\x00\\x00\\x00\\x00\\x00\\x00\\x00\\x00\\x00\\x00\\x00\\x00\\x00\\x00\\x00\\x00\\x00\\x00\\x00\\x00\\x00\\x00\\x00\\x00\\x00\\x00\\x00\\x00\\x00\\x00\\x00\\x00\\x00\\x00\\x00\\x00\\x00\\x00\\x00\\x00\\x00\\x00\\x00\\x00\\x00\\x00\\x00h'\n",
      "Padded Message (in hexadecimal): 48656c6c6f2c20776f726c6421800000000000000000000000000000000000000000000000000000000000000000000000000000000000000000000000000068\n"
     ]
    }
   ],
   "source": [
    "def sha256_padding(message):\n",
    "    # Step 1: Add a single \"1\" bit to the end of the message\n",
    "    padded_message = message + b'\\x80'\n",
    "\n",
    "    # Step 2: Append \"0\" bits until the length is congruent to 448 bits modulo 512 bits\n",
    "    while len(padded_message) % 64 != 56:\n",
    "        padded_message += b'\\x00'\n",
    "\n",
    "    # Step 3: Append the 64-bit representation of the original message length\n",
    "    message_bit_length = len(message) * 8  # Length of original message in bits\n",
    "    padded_message += message_bit_length.to_bytes(8, byteorder='big')\n",
    "\n",
    "    return padded_message\n",
    "\n",
    "# Example usage:\n",
    "message = b'Hello, world!'\n",
    "padded_message = sha256_padding(message)\n",
    "print(\"Padded Message (in bytes):\", padded_message)\n",
    "print(\"Padded Message (in hexadecimal):\", padded_message.hex())\n"
   ]
  },
  {
   "cell_type": "code",
   "execution_count": 5,
   "id": "06556f9d-94bb-4773-8837-4e56a4d7e722",
   "metadata": {},
   "outputs": [
    {
     "data": {
      "text/plain": [
       "(104, 13, b'\\x00\\x00\\x00\\x00\\x00\\x00\\x00h')"
      ]
     },
     "execution_count": 5,
     "metadata": {},
     "output_type": "execute_result"
    }
   ],
   "source": [
    "message_bit_length = len(message) * 8\n",
    "message_bit_length, len(message), message_bit_length.to_bytes(8, byteorder='big')"
   ]
  },
  {
   "cell_type": "code",
   "execution_count": 6,
   "id": "c212ee9c-1ef1-4401-ab8b-e247a746192d",
   "metadata": {},
   "outputs": [
    {
     "data": {
      "text/plain": [
       "8"
      ]
     },
     "execution_count": 6,
     "metadata": {},
     "output_type": "execute_result"
    }
   ],
   "source": [
    "len(message_bit_length.to_bytes(8, byteorder='big'))"
   ]
  },
  {
   "cell_type": "code",
   "execution_count": 8,
   "id": "da4f80d6-20db-4646-8a06-e55896dd7140",
   "metadata": {},
   "outputs": [
    {
     "name": "stdout",
     "output_type": "stream",
     "text": [
      "Number of blocks: 1\n",
      "Block 1: b'Hello, world!\\x80\\x00\\x00\\x00\\x00\\x00\\x00\\x00\\x00\\x00\\x00\\x00\\x00\\x00\\x00\\x00\\x00\\x00\\x00\\x00\\x00\\x00\\x00\\x00\\x00\\x00\\x00\\x00\\x00\\x00\\x00\\x00\\x00\\x00\\x00\\x00\\x00\\x00\\x00\\x00\\x00\\x00\\x00\\x00\\x00\\x00\\x00\\x00\\x00\\x00h'\n"
     ]
    }
   ],
   "source": [
    "def parse_message_blocks(padded_message):\n",
    "    # Determine the number of blocks\n",
    "    num_blocks = len(padded_message) // 64\n",
    "\n",
    "    # Parse the padded message into blocks of 512 bits (64 bytes) each\n",
    "    blocks = [padded_message[i*64:(i+1)*64] for i in range(num_blocks)]\n",
    "\n",
    "    return blocks\n",
    "\n",
    "# Example usage:\n",
    "padded_message = sha256_padding(message)  # Assume the message has already been padded\n",
    "message_blocks = parse_message_blocks(padded_message)\n",
    "print(\"Number of blocks:\", len(message_blocks))\n",
    "for i, block in enumerate(message_blocks):\n",
    "    print(f\"Block {i + 1}: {block}\")"
   ]
  },
  {
   "cell_type": "code",
   "execution_count": 14,
   "id": "610e0d49-b0fc-4e2f-8e10-3f86d406c603",
   "metadata": {},
   "outputs": [
    {
     "name": "stdout",
     "output_type": "stream",
     "text": [
      "Initial hash value: 0x6a09e667\n"
     ]
    }
   ],
   "source": [
    "\n",
    "def initial_hash_value(prime_number_index):\n",
    "    # First 32 bits of the fractional part of the square root of the prime number\n",
    "    fractional_part = math.sqrt(prime_number_index)\n",
    "    fractional_part -= int(fractional_part)  # Remove the integer part\n",
    "    fractional_part *= 2**32  # Convert fractional part to a 32-bit value\n",
    "    return int(fractional_part)\n",
    "\n",
    "# First 8 prime numbers\n",
    "prime_numbers = [2, 3, 5, 7, 11, 13, 17, 19]\n",
    "\n",
    "# Calculate the initial hash value using the first prime number (index 0)\n",
    "initial_value = initial_hash_value(prime_numbers[0])\n",
    "print(\"Initial hash value:\", hex(initial_value))"
   ]
  },
  {
   "cell_type": "code",
   "execution_count": 9,
   "id": "4d780270-92ad-484c-80a6-d96e84db99cf",
   "metadata": {},
   "outputs": [
    {
     "name": "stdout",
     "output_type": "stream",
     "text": [
      "Initial hash values: [1779033703, 3144134277, 1013904242, 2773480762, 1359893119, 2600822924, 528734635, 1541459225]\n"
     ]
    }
   ],
   "source": [
    "import math\n",
    "\n",
    "def initialize_hash_values():\n",
    "    # First 32 bits of the fractional parts of the square roots of the first 8 prime numbers\n",
    "    initial_hash_values = [\n",
    "        0x6a09e667, 0xbb67ae85, 0x3c6ef372, 0xa54ff53a,\n",
    "        0x510e527f, 0x9b05688c, 0x1f83d9ab, 0x5be0cd19\n",
    "    ]\n",
    "    return initial_hash_values\n",
    "\n",
    "# Example usage:\n",
    "hash_values = initialize_hash_values()\n",
    "print(\"Initial hash values:\", hash_values)"
   ]
  },
  {
   "cell_type": "code",
   "execution_count": 13,
   "id": "db18e260-83f3-4960-98a0-71757e71936e",
   "metadata": {},
   "outputs": [
    {
     "data": {
      "text/plain": [
       "1.4142135623730951"
      ]
     },
     "execution_count": 13,
     "metadata": {},
     "output_type": "execute_result"
    }
   ],
   "source": [
    "import numpy as np\n",
    "np.sqrt(2)"
   ]
  },
  {
   "cell_type": "code",
   "execution_count": 15,
   "id": "1aa43a8d-834f-4a5f-a448-95bc814bce70",
   "metadata": {},
   "outputs": [
    {
     "name": "stdout",
     "output_type": "stream",
     "text": [
      "Message schedule array: [1633837924, 1701209960, 1633837924, 1701209960, 1633837924, 1701209960, 1633837924, 1701209960, 1633837924, 1701209960, 1633837924, 1701209960, 1633837924, 1701209960, 1633837924, 1701209960, 2320222283, 574669636, 2844986084, 2629984534, 4035545471, 2676951327, 36767869, 2977276057, 1854991678, 3483678522, 2936290453, 2138134756, 3768658282, 1262513367, 171188613, 2217344388, 2881403479, 2976990708, 1513398942, 2340158310, 4015880860, 3843913827, 3857413675, 3128544316, 932287527, 992776706, 3292833739, 3450750126, 1236765923, 525428467, 1671027472, 1880165015, 1812991627, 957393826, 1360195865, 2423313978, 3134985313, 1370593993, 4223910515, 1380492695, 830404577, 2040545542, 3468396201, 3722789355, 193192414, 2122655158, 2768274483, 4043001627]\n"
     ]
    }
   ],
   "source": [
    "def generate_message_schedule(block):\n",
    "    # Initialize the message schedule array with the first 16 words of the block\n",
    "    message_schedule = [int.from_bytes(block[i:i+4], byteorder='big') for i in range(0, 64, 4)]\n",
    "\n",
    "    # Extend the message schedule array to contain 64 words\n",
    "    for i in range(16, 64):\n",
    "        s0 = (right_rotate(message_schedule[i-15], 7) ^\n",
    "              right_rotate(message_schedule[i-15], 18) ^\n",
    "              (message_schedule[i-15] >> 3))\n",
    "        s1 = (right_rotate(message_schedule[i-2], 17) ^\n",
    "              right_rotate(message_schedule[i-2], 19) ^\n",
    "              (message_schedule[i-2] >> 10))\n",
    "        message_schedule.append((message_schedule[i-16] + s0 + message_schedule[i-7] + s1) & 0xFFFFFFFF)\n",
    "\n",
    "    return message_schedule\n",
    "\n",
    "# Function for right rotation (circular shift) of a 32-bit integer\n",
    "def right_rotate(x, n):\n",
    "    return ((x >> n) | (x << (32 - n))) & 0xFFFFFFFF\n",
    "\n",
    "# Example usage:\n",
    "block = b'abcdefghabcdefghabcdefghabcdefghabcdefghabcdefghabcdefghabcdefgh'\n",
    "message_schedule = generate_message_schedule(block)\n",
    "print(\"Message schedule array:\", message_schedule)\n"
   ]
  },
  {
   "cell_type": "code",
   "execution_count": 18,
   "id": "7cee8bbd-a6a8-4172-be8a-ef5ca2e4a886",
   "metadata": {},
   "outputs": [
    {
     "name": "stdout",
     "output_type": "stream",
     "text": [
      "4\n"
     ]
    }
   ],
   "source": [
    "x = 16     # binary: 00001000\n",
    "result = x >> 2   # shift x right by 2 positions\n",
    "print(result)   "
   ]
  },
  {
   "cell_type": "code",
   "execution_count": null,
   "id": "67c22678-cdf2-4850-ac9d-6007c78a078d",
   "metadata": {},
   "outputs": [],
   "source": []
  }
 ],
 "metadata": {
  "kernelspec": {
   "display_name": "Python 3 (ipykernel)",
   "language": "python",
   "name": "python3"
  },
  "language_info": {
   "codemirror_mode": {
    "name": "ipython",
    "version": 3
   },
   "file_extension": ".py",
   "mimetype": "text/x-python",
   "name": "python",
   "nbconvert_exporter": "python",
   "pygments_lexer": "ipython3",
   "version": "3.9.13"
  }
 },
 "nbformat": 4,
 "nbformat_minor": 5
}
