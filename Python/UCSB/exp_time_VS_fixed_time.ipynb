{
 "cells": [
  {
   "cell_type": "code",
   "execution_count": 1,
   "metadata": {},
   "outputs": [],
   "source": [
    "import numpy as np\n",
    "import scipy as sc\n",
    "import scipy.special as sp\n",
    "import scipy.stats as ss\n",
    "import pandas as pd\n",
    "import math as ma\n",
    "import matplotlib.pyplot as plt\n",
    "import seaborn as sns\n",
    "import requests\n",
    "import json\n",
    "import datetime\n",
    "fontsize_axes = 18.0\n",
    "fontsize_ticker = 16.0"
   ]
  },
  {
   "cell_type": "markdown",
   "metadata": {},
   "source": [
    "# Profit and loss of blockchain miners\n",
    "\n",
    "Let $\\pi_{\\text{BTC}}$ be the bitcoin price in USD and $\\pi_{\\text{BTC}}$ be the number of bitcoin as a bounty for finding a new block. The reward is worth\n",
    "\n",
    "$$b = n_{\\text{BTC}}\\cdot\\pi_{\\text{BTC}}$$"
   ]
  },
  {
   "cell_type": "code",
   "execution_count": 2,
   "metadata": {},
   "outputs": [
    {
     "name": "stdout",
     "output_type": "stream",
     "text": [
      "The BTC price is $36303.27\n",
      "The reward for finding a block amount to $226895.43749999997\n"
     ]
    }
   ],
   "source": [
    "# r = requests.get('https://blockchain.info/ticker')\n",
    "# quote  = dict(r.json())\n",
    "n_BTC, π_BTC = 6.25, 36303.27\n",
    "b = n_BTC * π_BTC\n",
    "print('The BTC price is $' + str(π_BTC) )\n",
    "print('The reward for finding a block amount to $' + str(b) )"
   ]
  },
  {
   "cell_type": "markdown",
   "metadata": {},
   "source": [
    "The electricity consumption estimated by the Cambridge Bitcoin Electricity Consumption Index [CBECI](https://cbeci.org/) in TWh per year is converted into kWh par hour and denoted by $W$."
   ]
  },
  {
   "cell_type": "code",
   "execution_count": 3,
   "metadata": {},
   "outputs": [
    {
     "name": "stdout",
     "output_type": "stream",
     "text": [
      "The network consumes 95.67 tWh per year\n",
      "The network consumes 10913757.70020534 kWh per hour\n"
     ]
    }
   ],
   "source": [
    "\n",
    "W =  95.67 * 10**9 / 365.25 / 24\n",
    "\n",
    "print('The network consumes ' + str(95.67) + ' tWh per year')  \n",
    "print('The network consumes ' + str(W) + ' kWh per hour')  "
   ]
  },
  {
   "cell_type": "markdown",
   "metadata": {},
   "source": [
    "The time unit is the hour, The network finds 6 new blocks eevry hour. The number of blocks up to time $t$ is a Poisson process $(N_t)_{t\\geq0}$ of intensity $\\lambda = 6$."
   ]
  },
  {
   "cell_type": "code",
   "execution_count": 4,
   "metadata": {},
   "outputs": [
    {
     "name": "stdout",
     "output_type": "stream",
     "text": [
      "The time unit is the hour, the Poisson process intensity is λ = 6\n"
     ]
    }
   ],
   "source": [
    "# Intensity of the Poisson process\n",
    "λ = 6\n",
    "print('The time unit is the hour, the Poisson process intensity is λ = ' + str(λ))"
   ]
  },
  {
   "cell_type": "markdown",
   "metadata": {},
   "source": [
    "The wealth of a miner is given by  \n",
    "\n",
    "$$\n",
    "R_t = u-c\\cdot t+b\\cdot \\tilde{N}_t,\n",
    "$$\n",
    "\n",
    "where \n",
    "\n",
    "- $u$ is the initial reserves\n",
    "- $c$ is the operational cost of mining\n",
    "- $b$ the block finding reward\n",
    "- $\\tilde{N}_t$ is a Poisson process of intensity $p\\lambda$ the number of blocks found by the considered miner until $t\\geq0$\n",
    "\n",
    "$p\\in(0,1/2)$ corresponds to the share of the network hash power owned by the miner. The operational cost is given by\n",
    "\n",
    "$$\n",
    "c = p\\cdot W\\cdot \\pi_{\\text{W}}, \n",
    "$$\n",
    "\n",
    "where $\\pi_{W}$ is the prices ff one kWh of électricité. The net profit condition reads as \n",
    "\n",
    "$$\n",
    "b\\cdot\\lambda -  W\\cdot \\pi_{\\text{W}}>0\n",
    "$$\n",
    "\n",
    "and does not depend on $p$."
   ]
  },
  {
   "cell_type": "code",
   "execution_count": 5,
   "metadata": {},
   "outputs": [
    {
     "name": "stdout",
     "output_type": "stream",
     "text": [
      "The net profit condition holds if the cost of electricity is lower than 0.125 when following the protocol\n"
     ]
    }
   ],
   "source": [
    "print('The net profit condition holds if the cost of electricity is lower than '\n",
    "      + str(np.around(λ * b / W, decimals = 3))+\n",
    "      ' when following the protocol')"
   ]
  },
  {
   "cell_type": "markdown",
   "metadata": {},
   "source": [
    "The ruin time is defined by\n",
    "\n",
    "$$\n",
    "\\tau_u = \\inf\\{t\\geq0\\text{ ; }R_t<0\\}.\n",
    "$$\n",
    "\n",
    "The ruin probability up to time horizon $t\\geq0$ is defined as \n",
    "\n",
    "$$\n",
    "\\psi(u,t) = \\mathbb{P}(\\tau_u \\leq t).\n",
    "$$\n",
    "\n",
    "The ultimate ruin probability\n",
    "\n",
    "$$\n",
    "\\psi(u) = \\mathbb{P}(\\tau_u < \\infty)\n",
    "$$\n",
    "\n",
    "The miner surplus if ruin does not occur is given by\n",
    "$$\n",
    "V(u,t) = \\mathbb{E}(R_t\\mathbb{I}_{\\tau_u>t}).\n",
    "$$\n",
    "\n",
    "The ruin probability and expected surplus up to an exponential time horizon $T\\sim \\text{Exp}(t)$ are denoted by\n",
    "\n",
    "$$\n",
    "\\widehat{\\psi}(u,t) = \\mathbb{E}[\\psi(u,T)],\\text{ et } \\widehat{V}(u,t) = \\mathbb{E}[V(u,T)].\n",
    "$$\n",
    "\n",
    "The goal of this notebook is to compare $\\psi(u,t)$ and $\\widehat{\\psi}(u,t)$, and $V(u,t)$ et $\\widehat{V}(u,t)$. "
   ]
  },
  {
   "cell_type": "markdown",
   "metadata": {},
   "source": [
    "1. For any $u\\ge 0$, the infinite-time ruin probability is given by\n",
    "$$\n",
    "\\psi(u) =e^{-\\theta^\\ast u},\n",
    "$$\n",
    "where $\\theta^\\ast$ is the positive solution in $\\theta$ of the equation \n",
    "$$\n",
    "{c}\\,\\theta + p\\lambda \\, (e^{-b\\, \\theta }-1)=0.\n",
    "$$\n",
    "Write a function *ψ(u, b, c, p, λ)* to compute the infinite time horizon ruin probability, evaluate the ruin probability for $u = 10^{6}, p = 0.1$ and $\\pi_W = 0.09$. \n",
    "\n",
    "**Tips**: Check out the *root_scalar* function in the scipy.optimize library to find $\\theta^{\\ast}$."
   ]
  },
  {
   "cell_type": "code",
   "execution_count": 6,
   "metadata": {},
   "outputs": [
    {
     "data": {
      "text/plain": [
       "0.047229557433501254"
      ]
     },
     "execution_count": 6,
     "metadata": {},
     "output_type": "execute_result"
    }
   ],
   "source": [
    "# Function to compute the ultimate ruin probability\n",
    "def ψ(u, b, c, p, λ):\n",
    "    def f(x): \n",
    "        return(c * x + p * λ * (np.exp(-b*x) - 1))\n",
    "    theta_star = sc.optimize.root_scalar(f, bracket=[np.log(p * b * λ / c) / b, 100],\n",
    "                                            method='brentq').root\n",
    "    return(np.exp(-theta_star * u))\n",
    "# Evaluation \n",
    "u, p, π_W = 1000000, 0.1, 0.09\n",
    "ψ(u, b, p * W * π_W, p, λ)\n",
    "# 0.047229557433501254"
   ]
  },
  {
   "cell_type": "markdown",
   "metadata": {},
   "source": [
    "2. The finite-time ruin probability is given by \n",
    "$$\n",
    "\\psi(u,t) = \\sum_{n = 0}^{\\infty}\\frac{u}{u+bn}\\;\\mathbb{P}\\left[\\tilde{N}_{\\frac{u+bn}{c}} = n\\right]\\mathbb{I}_{\\left\\{t>\\frac{u+bn}{c}\\right\\}}. \n",
    "$$\n",
    "Write a function *ψ_t(u, t, b, c, p, λ)* to compute the finite time ruin probability. Evaluate the finite time ruin probability for $t = 24, u = 10^{6}, p = 0.1$ and $\\pi_W = 0.09$. "
   ]
  },
  {
   "cell_type": "code",
   "execution_count": 7,
   "metadata": {},
   "outputs": [
    {
     "data": {
      "text/plain": [
       "0.019827763265097983"
      ]
     },
     "execution_count": 7,
     "metadata": {},
     "output_type": "execute_result"
    }
   ],
   "source": [
    "# Function to compute the ruin probability up to time t\n",
    "def ψ_t(u, t, b, c, p, λ):\n",
    "    n = ma.floor((c * t - u) / b)\n",
    "    return(sum([u / (u + b * k) * ss.poisson.pmf(k, p * λ * (u + b * k) / c) for k in range(n+1)]))\n",
    "u, p, π_W, t = 1000000, 0.1, 0.09, 24\n",
    "ψ_t(u, t, b, p * W * π_W, p, λ)\n",
    "# 0.019827763265097983"
   ]
  },
  {
   "cell_type": "markdown",
   "metadata": {},
   "source": [
    "3. The finite time ruin probability up to an exponential time horizon is given by \n",
    "$$\n",
    "\\widehat{\\psi}(u,t) = e^{\\rho^\\ast u},\\text{ For any }u\\geq0 \n",
    "$$\n",
    "whre $\\rho^\\ast$ solves the equation\n",
    "$$\n",
    "-c\\rho + p\\lambda(e^{b\\rho}-1) = 1/t.\n",
    "$$\n",
    "The solution $\\rho^\\ast$  is given by \n",
    "$$\n",
    "  \\rho^{\\ast}=-\\frac{p\\lambda t+1}{ct}\n",
    "  -\\frac{1}{b} \\,{\\rm W} \\left[-\\frac{p\\lambda\n",
    "    \\,b}{c}\\,{e^{-b\\,\\left(\\frac{p\\lambda t+1}{ct}\\right)}}\n",
    "  \\right],\n",
    "$$  \n",
    "where $W(.)$ denotes the Lambert function. Write a function * ψ_T(u, t, b, c, p, λ)* top compute the finite time ruin probability up to an exponential time horizon for $t = 24, u = 10^{6}, p = 0.1$ and $\\pi_W = 0.09$.\n",
    "\n",
    "**Tips**: Check out the function *lambertw* from the scipy.special library. Mind the outcome which is a complex number of which th real part must be extracted!"
   ]
  },
  {
   "cell_type": "code",
   "execution_count": 8,
   "metadata": {},
   "outputs": [
    {
     "data": {
      "text/plain": [
       "0.015750599475250534"
      ]
     },
     "execution_count": 8,
     "metadata": {},
     "output_type": "execute_result"
    }
   ],
   "source": [
    "def ψ_T(u, t, b, c, p, λ):\n",
    "    \n",
    "    rho_star = -(p * λ * t +1) / c / t - sp.lambertw(- p * λ *b / c * np.exp(-b*(p * λ * t +1) / c / t))/b\n",
    "    return(np.exp(np.real(rho_star) * u))\n",
    "\n",
    "# Evaluation\n",
    "u, p, π_W, t = 1000000, 0.1, 0.09, 24\n",
    "ψ_T(u, t, b, p * W * π_W, p, λ)\n",
    "# 0.015750599579366593"
   ]
  },
  {
   "cell_type": "markdown",
   "metadata": {},
   "source": [
    "4. Plot on a the same graph the curve $\\psi(u), \\psi(u,t), $ and $\\widehat{\\psi}(u,t)$ as function of $u$ for $t = 24, u = 10^{6}, p = 0.1$ and $\\pi_W = 0.09$.\n"
   ]
  },
  {
   "cell_type": "code",
   "execution_count": 14,
   "metadata": {},
   "outputs": [
    {
     "data": {
      "image/png": "[encoded data removed]",
      "text/plain": [
       "<Figure size 432x288 with 1 Axes>"
      ]
     },
     "metadata": {
      "needs_background": "light"
     },
     "output_type": "display_data"
    }
   ],
   "source": [
    "# Time horizon, price of the electricity and  hashpower\n",
    "t, π_W, p = 24, 0.09, 0.1\n",
    "# operational cost per hour\n",
    "c = p * π_W * W\n",
    "u_vec = np.arange(1000, 510000, 1000) # Sequence of initial reserves\n",
    "ψ_u_t_vec = [ψ_t(u, t, b, c, p, λ) for u in u_vec]\n",
    "ψ_u_T_vec = [ψ_T(u, t, b, c, p, λ) for u in u_vec]\n",
    "ψ_u_vec = [ψ(u, b, c, p, λ) for u in u_vec]\n",
    "plt.plot(u_vec *1e-6, ψ_u_vec, '-', label = '$\\psi(u)$', linewidth=2)\n",
    "plt.plot(u_vec *1e-6, ψ_u_t_vec, '--', label = '$\\psi(u,24h)$', linewidth=2, color ='k')\n",
    "plt.plot(u_vec*1e-6, ψ_u_T_vec, linestyle = 'dotted', label = '$\\widehat{\\psi}(u,24h)$', linewidth=2, color ='k')\n",
    "plt.xlabel('u (initial reserves in millions of USD)', fontsize = fontsize_axes)\n",
    "plt.title('Ruin probability', fontsize = fontsize_axes)\n",
    "plt.tick_params(labelsize=fontsize_ticker)\n",
    "plt.legend(fontsize=fontsize_ticker)\n",
    "\n",
    "plt.tight_layout()\n",
    "sns.despine()\n",
    "plt.savefig('../../Figures/rp_exp_fixed_time.pdf')"
   ]
  },
  {
   "cell_type": "markdown",
   "metadata": {},
   "source": [
    "5. For any $u\\ge 0$, the expected surplus at time $t$ in case ruin has not occurred until then, can be written as \n",
    "$$\n",
    "V(u,t) = \\mathbb{E}\\left[\\left(u+b\\tilde{N}_t - ct\\right)_+(-1)^{\\tilde{N}_t}G_{\\tilde{N}_t}\\left(0\\;\\Big\\rvert \\left\\{\\frac{u}{ct}\\land 1,\\ldots, \\frac{u+(\\tilde{N}_t-1)b}{ct}\\land 1\\right\\}\\right) \\right],\n",
    "$$\n",
    "where $(.)_+$ denotes the positive part, $\\land$ stands for the minimum operator and $\\left(G_n(\\cdot\\rvert\\{\\ldots\\}\\right)_{n\\in\\mathbb{N}}$ is the sequence of Abel-Gontcharov polynomials. The latter satisfies the following recursive relationship\n",
    "$$\n",
    "G_{n}(x|U)=x^{n}-\\sum_{k=0}^{n-1} \\binom{n}{k} u_{k+1}^{n-k} G_{k}(x|U), \\quad n\\geq 1.\n",
    "$$\n",
    "Write a function *V_t(u, t, b, c, p, λ, K)* to compute the expected wealth, where $K$ denotes the order of trucation of the involved infinite series. Compute the expected wealth given that ruin did not occur and the expected wealth without ruin considerations (that is $\\mathbb{E}(R_t)$) for $t = 24, u = 10^{6}, p = 0.1,\\pi_W = 0.09$ and $K = 40$ "
   ]
  },
  {
   "cell_type": "code",
   "execution_count": 19,
   "metadata": {},
   "outputs": [
    {
     "data": {
      "text/plain": [
       "(1904119.1856785547, 1909922.6367556476)"
      ]
     },
     "execution_count": 19,
     "metadata": {},
     "output_type": "execute_result"
    }
   ],
   "source": [
    "# Function to compute the revenue function over a finite time horizon using Prop 1\n",
    "def V_t(u, t, b, c, p, λ, K):\n",
    "    # K is a truncation order for the infinite serie     \n",
    "    U = [min(1, (u + b * k) / c / t) for k in range(K)]\n",
    "    V = [max(0, u + k * b - c * t) * (-1) ** k * ss.poisson.pmf(k, p * λ * t) for k in range(K)]\n",
    "    G_k = [1]\n",
    "    for k in range(1,K,1):\n",
    "        G_k.append(\n",
    "            -sum([\n",
    "                sp.binom(k,i) * U[i]**(k-i)*G_k[i] \n",
    "                for i in range(0,k,1)]))\n",
    "    return(np.dot(V,G_k))\n",
    "\n",
    "# Evaluation\n",
    "u, p, π_W, t, K = 1000000, 0.1, 0.09, 24, 40\n",
    "c = p * π_W * W\n",
    "V_t(u, t, b, c, p, λ, K), u - c*t + λ*p*b*t\n",
    "# (1904119.1856785547, 1909922.6367556476)\n"
   ]
  },
  {
   "cell_type": "markdown",
   "metadata": {},
   "source": [
    "6. For any $u\\geq0$, The expected surplus given that ruin did not occur up to an exponential time horizon\n",
    "$$\n",
    "\\widehat{V}(u,t) = u+(p\\lambda b-c)t\\left(1-e^{\\rho^\\ast u }\\right),\n",
    "$$\n",
    "where $\\rho^\\ast$ is the negative solution of the equation\n",
    "$$\n",
    "-c\\rho + p\\lambda(e^{b\\rho}-1) = 1/t.\n",
    "$$\n",
    "The solution $\\rho^\\ast$ is given by \n",
    "$$\n",
    "  \\rho^{\\ast}=-\\frac{p\\lambda t+1}{ct}\n",
    "  -\\frac{1}{b} \\,{\\rm W} \\left[-\\frac{p\\lambda\n",
    "    \\,b}{c}\\,{e^{-b\\,\\left(\\frac{p\\lambda t+1}{ct}\\right)}}\n",
    "  \\right],\n",
    " $$  \n",
    " where $W(.)$ denotes the Lambert function. Compute the expected wealth given that ruin did not occur up to an exponential time horizon and the expected wealth without ruin considerations (that is $\\mathbb{E}(R_T)$) for $t = 24, u = 10^{6}, p = 0.1,$ and $\\pi_W = 0.09$"
   ]
  },
  {
   "cell_type": "code",
   "execution_count": 24,
   "metadata": {},
   "outputs": [
    {
     "data": {
      "text/plain": [
       "(1895590.8097506454, 1909922.6367556476)"
      ]
     },
     "execution_count": 24,
     "metadata": {},
     "output_type": "execute_result"
    }
   ],
   "source": [
    "# Function to compute the value function over an exponential time horizon\n",
    "def V_T(u, t, b, c, p, λ):\n",
    "    γ = p * λ * b - c\n",
    "    rho_star = -(p * λ * t +1) / c / t - sp.lambertw(- p * λ *b / c * np.exp(-b*(p * λ * t +1) / c / t))/b\n",
    "    return(γ * t + u - γ * t * np.exp(np.real(rho_star) * u))\n",
    "\n",
    "# Evaluation\n",
    "u, p, π_W, t = 1000000, 0.1, 0.09, 24\n",
    "c = p * π_W * W\n",
    "V_T(u, t, b, c, p, λ), u - c*t + λ*p*b*t\n",
    "# (1895590.8097506454, 1909922.6367556476)"
   ]
  },
  {
   "cell_type": "markdown",
   "metadata": {},
   "source": [
    "7. Plot the functions $V(u,t)-u,\\widehat{V}(u,t)-u$ and $\\mathbb{E}(R_t)-u$ as a function of $u$ for for $t = 24, u = 10^{6}, p = 0.1,\\pi_W = 0.09$ and $K = 40$"
   ]
  },
  {
   "cell_type": "code",
   "execution_count": 29,
   "metadata": {},
   "outputs": [
    {
     "data": {
      "image/png": "[encoded data removed]",
      "text/plain": [
       "<Figure size 432x288 with 1 Axes>"
      ]
     },
     "metadata": {
      "needs_background": "light"
     },
     "output_type": "display_data"
    }
   ],
   "source": [
    "# Time horizon, price of the electricity and  hashpower\n",
    "t, π_W, p = 24, 0.09, 0.1\n",
    "c = p * π_W * W\n",
    "u_vec = np.arange(1000, 1000000, 1000) # Sequence of initial reserves\n",
    "V_u_t_vec = np.array([V_t(u, t, b, c, p, λ, 40)-u for u in u_vec])/1000\n",
    "V_u_T_vec = np.array([ V_T(u, t, b, c, p, λ)-u for u in u_vec])/1000\n",
    "plt.axhline(y = (- c * t + p * λ * b * t)/1000, label = '$E(R_{24h})-u$', linewidth=2)\n",
    "plt.plot(u_vec*1e-6, V_u_t_vec, label = '$V(u,24h)-u$', linestyle = 'dashed', color = 'k', linewidth=2)\n",
    "plt.plot(u_vec*1e-6, V_u_T_vec, linestyle = 'dotted', label = '$\\widehat{V}(u,24h)-u$', color = 'k', linewidth=2)\n",
    "plt.xlabel('u (initial reserves in millions USD)', fontsize = fontsize_axes)\n",
    "plt.title('Expected profit (in thousands of USD)', fontsize = fontsize_axes)\n",
    "plt.tick_params(labelsize=fontsize_ticker)\n",
    "plt.legend(fontsize=fontsize_ticker)\n",
    "sns.despine()\n",
    "plt.tight_layout()\n",
    "sns.despine()\n",
    "plt.savefig('../../Figures/V_exp_fixed_time.pdf')"
   ]
  },
  {
   "cell_type": "code",
   "execution_count": null,
   "metadata": {},
   "outputs": [],
   "source": []
  }
 ],
 "metadata": {
  "kernelspec": {
   "display_name": "Python 3 (ipykernel)",
   "language": "python",
   "name": "python3"
  },
  "language_info": {
   "codemirror_mode": {
    "name": "ipython",
    "version": 3
   },
   "file_extension": ".py",
   "mimetype": "text/x-python",
   "name": "python",
   "nbconvert_exporter": "python",
   "pygments_lexer": "ipython3",
   "version": "3.9.7"
  }
 },
 "nbformat": 4,
 "nbformat_minor": 4
}
