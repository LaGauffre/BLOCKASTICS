{
 "cells": [
  {
   "cell_type": "code",
   "execution_count": 4,
   "metadata": {},
   "outputs": [],
   "source": [
    "import numpy as np\n",
    "import pandas as pd\n",
    "import matplotlib.pyplot as plt\n",
    "import seaborn as sns\n",
    "import scipy.special as sp\n",
    "import scipy.stats as ss\n",
    "import scipy as sc"
   ]
  },
  {
   "cell_type": "markdown",
   "metadata": {},
   "source": [
    "# Blockchain queue\n",
    "\n",
    "Blockchain efficiency is characterized by the \n",
    "- throughput (how many transactions are confirmed per time unit) \n",
    "- latency (the average confirmation time of a transaction). \n",
    "\n",
    "These quantities are studied within the frame of a queueing model. \n",
    "\n",
    "- The pending transactions arrive at a Poisson rate $\\lambda$ to form a queue, \n",
    "- a fixed number $b$ (the first which entered the queue) will be processed in a block. \n",
    "- The block generation time has distribution $G$ on $\\mathbb{R}_+$. \n",
    "\n",
    "The result is a $M/G^b/1$ queue. \n",
    "\n",
    "We are going to simulate trajectories of this process to study the average confirmation time and the number of pending transaction in the queue at stationarity. \n",
    "\n",
    "Let us assume that $G$ is exponential with mean $1/\\mu$, which corresponds to the empirical data on the block arrival time in the bitcoin blockchain.\n",
    "\n",
    "Denote by $(S_i)$ the transaction arrival time and $(T_i)$ the blockarrival times.\n",
    "\n",
    "We denote by $N_t$ the number of transaction and $M_t$ the number of block up to time $t>0$. Both of the processes are Poisson process with respective intensity $\\lambda$ and $\\mu$.\n",
    "\n",
    "The incoming transactions form the queue. When a block is built, some transactions move from the queue to the server via a first in first out discipline. The server may contain at most $b$ transactions which will be part of the next block. \n",
    "\n",
    "1. Write a function *MC_queue_blockchain(λ, μ, b, t)* to compute that return a list withe the number of transactions in the server between two block arrival and the average time spent by a transaction in the queue. The queueing process is simulated up to some time horizon $t$, the larger the better in terms of accuracy. Compute the average number of transaction in the server and the average time spent by transactions in the queue with the following parameters\n",
    "\n",
    "$$\n",
    "\\mu =1, \\lambda=2, b=4, t=10000\n",
    "$$"
   ]
  },
  {
   "cell_type": "code",
   "execution_count": 5,
   "metadata": {},
   "outputs": [
    {
     "name": "stdout",
     "output_type": "stream",
     "text": [
      "stationarity condition holds? True\n"
     ]
    }
   ],
   "source": [
    "# MC_queue_blockchain function\n",
    "def MC_queue_blockchain(λ, μ, b, t):\n",
    "    return(n_server, queue_tim)\n",
    "\n",
    "# Parameters of the transaction arrival, the block size and the service time\n",
    "μ, λ, b, t  = 1, 2, 4, 10000\n",
    "print(\"stationarity condition holds? \"+ str(λ < b * μ) )\n",
    "# np.random.seed(1234)\n",
    "\n",
    "# n_server, queue_time = MC_queue_blockchain(λ, μ, b, t)\n",
    "# np.mean(n_server), queue_time\n",
    "# (1.9893808855940693, 1.444426157490472)"
   ]
  },
  {
   "cell_type": "markdown",
   "metadata": {},
   "source": [
    "Theoreticaly the mean confirmation time (time spent by a transaction in the queue and then in the server) is given by \n",
    "\n",
    "$$\n",
    "\\frac{p}{(1-p)\\lambda} +\\frac{1}{\\mu}\n",
    "$$\n",
    "where $p=1/z^\\ast$ and $z^\\ast$ is the only root to \n",
    "$$\n",
    "-\\frac{\\lambda}{\\mu}z^{b+1}+z^b\\left(\\frac{\\lambda}{\\mu}+1\\right) - 1,\n",
    "$$\n",
    "such that $|z^\\ast$|>1.   \n",
    "\n",
    "Throughput is the average number of transactions being processed per time unit, we have\n",
    "\n",
    "$$\n",
    "    \\text{Throughput} = \\mu\\mathbb{E}(N^q\\mathbb{I}_{N^q\\leq b}+b\\mathbb{I}_{N^q> b}) = \\mu\\sum_{n = 0}^bn(1-p)p^n + bp^{b+1}.\n",
    "$$\n",
    "\n",
    "where $N^{q}$ is geometrically distributed random variable with parameter $p$ such that \n",
    "$$\n",
    "\\mathbb{P}(N^{q} = n) = (1-p)p^{n},\\text{ }n\\geq 0\n",
    "$$\n",
    "that corresponds to the number of transactions in the queue.\n",
    "\n",
    "2. Write a function to compute the theoretical troughput and latency. Compare the theoretical throughput and latency to the Monte Carlo approximation provided by the previous function. The parameters are once again\n",
    "\n",
    "$$\n",
    "\\mu =1, \\lambda=2, b=4, t=10000\n",
    "$$"
   ]
  },
  {
   "cell_type": "code",
   "execution_count": 6,
   "metadata": {},
   "outputs": [],
   "source": [
    "def exact_latency_throughput(λ, μ, b):\n",
    "\n",
    "    return(latency, throughput)\n",
    "\n",
    "# Parameters of the transaction arrival, the block size and the service time\n",
    "μ, λ, b, t  = 1, 2, 4, 10000\n",
    "\n",
    "# np.random.seed(1234)\n",
    "# print(exact_latency_throughput(λ, μ, b))\n",
    "# server, queue_time = MC_queue_blockchain(λ, μ, b, t)\n",
    "\n",
    "# (2.432523324276415, 1.9999999999999987)\n",
    "# 2.444426157490472 1.9893808855940693\n"
   ]
  },
  {
   "cell_type": "markdown",
   "metadata": {},
   "source": [
    "3. plot the histogram of the number of transaction in the server using the function *MC_queue_blockchain(λ, μ, b, t)* and the following parameter\n",
    "$$\n",
    "\\mu =1, \\lambda=2, b=4, t=10000\n",
    "$$\n",
    "It provides us insight on the server occupancy"
   ]
  },
  {
   "cell_type": "code",
   "execution_count": 7,
   "metadata": {},
   "outputs": [],
   "source": [
    "# Parameters of the transaction arrival, the block size and the service time\n",
    "μ, λ, b, t  = 1, 2, 4, 10000\n",
    "np.random.seed(1234)\n",
    "# server, queue_time = MC_queue_blockchain(λ, μ, b, t)\n"
   ]
  },
  {
   "cell_type": "code",
   "execution_count": null,
   "metadata": {},
   "outputs": [],
   "source": []
  }
 ],
 "metadata": {
  "kernelspec": {
   "display_name": "Python 3 (ipykernel)",
   "language": "python",
   "name": "python3"
  },
  "language_info": {
   "codemirror_mode": {
    "name": "ipython",
    "version": 3
   },
   "file_extension": ".py",
   "mimetype": "text/x-python",
   "name": "python",
   "nbconvert_exporter": "python",
   "pygments_lexer": "ipython3",
   "version": "3.9.7"
  }
 },
 "nbformat": 4,
 "nbformat_minor": 4
}
