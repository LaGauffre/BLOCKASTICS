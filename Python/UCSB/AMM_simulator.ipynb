{
 "cells": [
  {
   "cell_type": "code",
   "execution_count": 1,
   "id": "4c893a91-109e-49f5-bb31-75292263d1ee",
   "metadata": {},
   "outputs": [],
   "source": [
    "import numpy as np\n",
    "import matplotlib.pyplot as plt\n",
    "import seaborn as sns\n",
    "import copy"
   ]
  },
  {
   "cell_type": "markdown",
   "id": "fbcf4556-1c69-431a-8238-19b05b80cf35",
   "metadata": {},
   "source": [
    "# Simulated Automated Market Maker (AMM)\n",
    "\n",
    "We simulate an AMM to swap between two tokens equipped with a constant product market maker (CPMM). Let $x$ be the number of stable coin (DAI) and $y$ be the number of crypto (ETH). CPMM means that there exists $k$ such that \n",
    "\n",
    "$$\n",
    "x\\cdot y =k\n",
    "$$\n",
    "\n",
    "Assume that the initial price of token $Y$ is $\\pi^Y_0 = \\$500$ while the price for token $X$ is constant equal to $\\$1$. The first Liquidity Provider (LP) supply $\\$10,000$ worth of each asset to the pool.\n",
    "\n",
    "|| Price | Supplied | Value|\n",
    "|-----|-------|----------|---------|\n",
    "| DAI |1|10,000|10,000|\n",
    "| ETH |500|20| 10,000|  \n",
    "\n",
    "We have $k = 20,000$. The price of token $Y$ is given by $\\pi^Y_0 = x / y = 500$ and the initial liquidity is given by $L = \\sqrt{x\\cdot y}$ (this is the geometric mean of the number of units of token $X$ and $Y$.\n",
    "\n",
    "We add two features, the ability to swap one token for the other and the ability to add lquidity to the pool. \n",
    "\n",
    "**Swap:** I want to get $dy$ quantity of $Y$ so I must add $dx = \\frac{x\\cdot dy}{y-dy}$\n",
    "\n",
    "**Adding Liquidity:** I want to increase the liquidity of the pool by providing $\\$5000$, I need to provide $\\$2500$ worth of each token. We then write a function to add liquidity where $dx = 2500$ units of token $X$ is provided, so we must provide $dy = \\frac{y}{x}dx$ \n",
    "\n",
    "\n"
   ]
  },
  {
   "cell_type": "code",
   "execution_count": 56,
   "id": "74f2b896-7ab5-46cd-adb0-fcde27a114c0",
   "metadata": {},
   "outputs": [],
   "source": [
    "class AMM:\n",
    "\n",
    "    def __init__(self, x, y, fee_rate=0.05):\n",
    "        self.x = x # Units of token X\n",
    "        self.y = y # Units of token Y\n",
    "        self.k = x * y # Constant k\n",
    "        self.π = x / y # Price of Y (X is the numeraire)\n",
    "        self.L = [np.sqrt(x * y)] # Measure of Liquidity\n",
    "        self.fee_rate = fee_rate # Liquidity Providers' cut on each swap transaction\n",
    "        self.LP = [\"LP1\"] # Id of Liquidity Providers\n",
    "        self.weights = [1]\n",
    "        self.fee_collected = np.array([0]) # Fee accumulated by the pool\n",
    "        \n",
    "\n",
    "    def swap_x_for_y(self, dy):\n",
    "        res = copy.deepcopy(self)\n",
    "        res.x = self.x + self.x * dy / (self.y - dy)\n",
    "        res.y = self.y - dy\n",
    "        res.π = res.x / res.y \n",
    "        res.fee_collected = self.fee_collected + np.array(self.weights) * self.fee_rate * self.x * dy / (self.y - dy)\n",
    "        return(res)\n",
    "        \n",
    "    def swap_y_for_x(self, dx):\n",
    "        res = copy.deepcopy(self)\n",
    "        res.y = self.y + self.y * dx / (self.x - dx)\n",
    "        res.x = self.x - dx\n",
    "        res.π = res.x / res.y \n",
    "        res.fee_collected = self.fee_collected + np.array(self.weights) * self.fee_rate * dx\n",
    "        return(res)\n",
    "    \n",
    "    def add_liquidity(self, dx, new_LP, which_LP):\n",
    "        res = copy.deepcopy(self)\n",
    "        dy = self.y / self.x * dx\n",
    "        res.y = self.y + dy\n",
    "        res.x = self.x + dx\n",
    "        res.k = res.y * res.x # Constant k\n",
    "        res.π = res.x / res.y # Price of Y (X is the numeraire)\n",
    "\n",
    "        if new_LP:\n",
    "            res.LP.append(\"LP\"+str(len(self.LP)+1))\n",
    "            res.L.append(np.sqrt(dx*dy))\n",
    "            res.weights = res.L/(sum(res.L))\n",
    "            res.fee_collected = np.append(res.fee_collected, 0)\n",
    "        else:\n",
    "            res.L[np.where(np.array(res.LP) == which_LP)[0][0]] += np.sqrt(dx*dy)  \n",
    "            res.weights = res.L/(sum(res.L))\n",
    "        return(res)\n",
    "        \n",
    "    def __str__(self):\n",
    "        return \"The state of the AMM is\" + \\\n",
    "    \"\\nNumber of token X: \" + str(self.x) + \\\n",
    "    \"\\nNumber of token Y: \" + str(self.y) + \\\n",
    "    \"\\nConstant k: \" + str(self.k) + \\\n",
    "    \"\\nPrice of Y: \" + str(self.π)  + \\\n",
    "    \"\\nAmount of Liquidity: \" + str(sum(self.L))  +\\\n",
    "    \"\\nNumber of Liquidity provider: \" + str(self.LP)  + \\\n",
    "    \"\\nWeights of Liquidity provider: \" + str(self.weights)  + \\\n",
    "    \"\\nFees collected by LPs: \" + str(self.fee_collected) + \"\\n--------------\""
   ]
  },
  {
   "cell_type": "markdown",
   "id": "6d3bbf77-c2ab-4523-8369-ed35d2f74184",
   "metadata": {},
   "source": [
    "1. Initialize the AMM by adding $x = 10,000$ DAI and $y = 20$ ETH. Display the state AMM_0 of the AMM using print()"
   ]
  },
  {
   "cell_type": "code",
   "execution_count": 57,
   "id": "be5b2212-9888-4e66-829c-671a000b827f",
   "metadata": {},
   "outputs": [
    {
     "name": "stdout",
     "output_type": "stream",
     "text": [
      "The state of the AMM is\n",
      "Number of token X: 10000\n",
      "Number of token Y: 20\n",
      "Constant k: 200000\n",
      "Price of Y: 500.0\n",
      "Amount of Liquidity: 447.21359549995793\n",
      "Number of Liquidity provider: ['LP1']\n",
      "Weights of Liquidity provider: [1]\n",
      "Fees collected by LPs: [0]\n",
      "--------------\n"
     ]
    }
   ],
   "source": [
    "AMM_0 = AMM(10000, 20)\n",
    "print(AMM_0)"
   ]
  },
  {
   "cell_type": "markdown",
   "id": "9398ac46-ac8a-4d03-a9c2-74f83daa22ea",
   "metadata": {},
   "source": [
    "2. From state AMM_0, add some liquidity coming from a new liquidity provider that add $dx = 2500$ of token X. Display the new state AMM_after_drop"
   ]
  },
  {
   "cell_type": "code",
   "execution_count": 58,
   "id": "649aba00-b8c9-4efd-9363-927870cba355",
   "metadata": {},
   "outputs": [
    {
     "name": "stdout",
     "output_type": "stream",
     "text": [
      "The state of the AMM is\n",
      "Number of token X: 12500\n",
      "Number of token Y: 25.0\n",
      "Constant k: 312500.0\n",
      "Price of Y: 500.0\n",
      "Amount of Liquidity: 559.0169943749474\n",
      "Number of Liquidity provider: ['LP1', 'LP2']\n",
      "Weights of Liquidity provider: [0.8 0.2]\n",
      "Fees collected by LPs: [0 0]\n",
      "--------------\n"
     ]
    }
   ],
   "source": [
    "# Here we have a new comer LP2 that add 2500 units of token X\n",
    "dx, new_LP, which_LP = 2500, True, \"LP2\"\n",
    "AMM_after_drop = AMM_0.add_liquidity(dx, new_LP, which_LP)\n",
    "print(AMM_after_drop)"
   ]
  },
  {
   "cell_type": "markdown",
   "id": "b36a1192-d422-4b63-8e53-3a935d55af8d",
   "metadata": {},
   "source": [
    "3. Assume that LP consolidates her position by adding again $dx = 2500$. Dispaly the new state AMM_after_drop2 of the AMM"
   ]
  },
  {
   "cell_type": "code",
   "execution_count": 59,
   "id": "bdb29e6b-e1fe-43d3-a1da-d55e9a9505af",
   "metadata": {},
   "outputs": [
    {
     "name": "stdout",
     "output_type": "stream",
     "text": [
      "The state of the AMM is\n",
      "Number of token X: 15000\n",
      "Number of token Y: 30.0\n",
      "Constant k: 450000.0\n",
      "Price of Y: 500.0\n",
      "Amount of Liquidity: 670.8203932499368\n",
      "Number of Liquidity provider: ['LP1', 'LP2']\n",
      "Weights of Liquidity provider: [0.66666667 0.33333333]\n",
      "Fees collected by LPs: [0 0]\n",
      "--------------\n"
     ]
    }
   ],
   "source": [
    "# Now LP2 consolidates her position by providing more liquidity\n",
    "dx, new_LP, which_LP = 2500, False, \"LP2\"\n",
    "AMM_after_drop2 = AMM_after_drop.add_liquidity(dx, new_LP, which_LP)\n",
    "print(AMM_after_drop2)"
   ]
  },
  {
   "cell_type": "markdown",
   "id": "7564b684-821a-48bc-a054-fd29374ae956",
   "metadata": {},
   "source": [
    "After adding liquidity we change the level of the curve from $k$ to \n",
    "$$\n",
    "k' = (x+dx)\\cdot (y+dy)\n",
    "$$\n",
    "\n",
    "4. Take $dy = 2$ of the $Y$ token from the pool using the swap_x_for_y method. Display the current state AMM_after_swap of the AMM"
   ]
  },
  {
   "cell_type": "code",
   "execution_count": 60,
   "id": "1a751920-81ad-4c2d-9254-836d9a5b74c2",
   "metadata": {},
   "outputs": [
    {
     "name": "stdout",
     "output_type": "stream",
     "text": [
      "The state of the AMM is\n",
      "Number of token X: 16071.42857142857\n",
      "Number of token Y: 28.0\n",
      "Constant k: 450000.0\n",
      "Price of Y: 573.9795918367347\n",
      "Amount of Liquidity: 670.8203932499368\n",
      "Number of Liquidity provider: ['LP1', 'LP2']\n",
      "Weights of Liquidity provider: [0.66666667 0.33333333]\n",
      "Fees collected by LPs: [35.71428571 17.85714286]\n",
      "--------------\n"
     ]
    }
   ],
   "source": [
    "AMM_after_swap = AMM_after_drop2.swap_x_for_y(2)\n",
    "print(AMM_after_swap)"
   ]
  },
  {
   "cell_type": "markdown",
   "id": "c509c759-b1bd-40b9-9e6a-ccb287834bae",
   "metadata": {},
   "source": [
    "The price of $Y$ now rose in the pool. We go back to the original state if a trader comes in, withdraw $dx$ and deposit $dy$. \n",
    "\n",
    "5. Use the method swap_y_for_x and the previous state of the AMM to come back to the state right before the swap. We will denote by AMM_after_swap_2 this state"
   ]
  },
  {
   "cell_type": "code",
   "execution_count": 61,
   "id": "164143be-968c-4c90-a501-391a0e57a0b4",
   "metadata": {},
   "outputs": [
    {
     "name": "stdout",
     "output_type": "stream",
     "text": [
      "The state of the AMM is\n",
      "Number of token X: 15000.0\n",
      "Number of token Y: 30.0\n",
      "Constant k: 450000.0\n",
      "Price of Y: 500.0\n",
      "Amount of Liquidity: 670.8203932499368\n",
      "Number of Liquidity provider: ['LP1', 'LP2']\n",
      "Weights of Liquidity provider: [0.66666667 0.33333333]\n",
      "Fees collected by LPs: [71.42857143 35.71428571]\n",
      "--------------\n"
     ]
    }
   ],
   "source": [
    "AMM_after_swap_2 = AMM_after_swap.swap_y_for_x(AMM_after_swap.x- AMM_after_drop2.x)\n",
    "print(AMM_after_swap_2)"
   ]
  },
  {
   "cell_type": "markdown",
   "id": "2a60a88b-54cd-467e-97ca-f238af9edf8c",
   "metadata": {},
   "source": [
    "Liquidity providers are exposed to the risk of unpermanent loss. This is the loss incurred when locking ones asset instead of holding them. Assume that the price of ETH to $\\$550$ on other trading venues. Arbitrageurs will come to the pool to buy ETH.\n",
    "\n",
    "How many ETH are being bought taking into account the price variation linked to the trade and the trading fee? \n",
    "\n",
    "Fisrt how many ETH can be bought so the price of ETH reaches $P' = 550$ in the pool (considering the state of the AMM after LP2 enters the game). We have \n",
    "$$\n",
    "P' = \\frac{x+dx}{y-dy}\\Leftrightarrow dy = \\frac{\\sqrt{P'}y-\\sqrt{k}}{\\sqrt{P'}}\n",
    "$$\n",
    "after multiplying both sides by $(y-dy)^2$. Then of course \n",
    "$$\n",
    "dx = \\frac{xdy}{y-dy}\n",
    "$$\n",
    "\n",
    "let us apply this trade!\n",
    "\n",
    "5. Use the method swap_x_for_y to get $dy = y - \\frac{\\sqrt{k}}{\\sqrt{P'}}$ of token Y. We go from state AMM_after_swap_2 to state AMM_after_arb."
   ]
  },
  {
   "cell_type": "code",
   "execution_count": 77,
   "id": "867b9733-feab-48ee-91eb-9059dc49e246",
   "metadata": {},
   "outputs": [
    {
     "name": "stdout",
     "output_type": "stream",
     "text": [
      "The state of the AMM is\n",
      "Number of token X: 15000.0\n",
      "Number of token Y: 30.0\n",
      "Constant k: 450000.0\n",
      "Price of Y: 500.0\n",
      "Amount of Liquidity: 670.8203932499368\n",
      "Number of Liquidity provider: ['LP1', 'LP2']\n",
      "Weights of Liquidity provider: [0.66666667 0.33333333]\n",
      "Fees collected by LPs: [71.42857143 35.71428571]\n",
      "--------------\n",
      "The state of the AMM is\n",
      "Number of token X: 15732.132722552273\n",
      "Number of token Y: 28.60387767736777\n",
      "Constant k: 450000.0\n",
      "Price of Y: 550.0\n",
      "Amount of Liquidity: 670.8203932499368\n",
      "Number of Liquidity provider: ['LP1', 'LP2']\n",
      "Weights of Liquidity provider: [0.66666667 0.33333333]\n",
      "Fees collected by LPs: [95.83299551 47.91649776]\n",
      "--------------\n"
     ]
    }
   ],
   "source": [
    "P_new = 550\n",
    "print(AMM_after_swap_2)\n",
    "AMM_after_arb = AMM_after_swap_2.swap_x_for_y(AMM_after_swap_2.y - np.sqrt(AMM_after_swap_2.k) / np.sqrt(P_new))\n",
    "print(AMM_after_arb)"
   ]
  },
  {
   "cell_type": "markdown",
   "id": "98c8b8a1-c71e-4d0b-a6be-369347bf71e4",
   "metadata": {},
   "source": [
    "6. Compute the arbitrageurs profit"
   ]
  },
  {
   "cell_type": "code",
   "execution_count": 78,
   "id": "4165e654-a553-406f-bd7e-1ee27d5c1188",
   "metadata": {},
   "outputs": [
    {
     "data": {
      "text/plain": [
       "-0.8720812321597577"
      ]
     },
     "execution_count": 78,
     "metadata": {},
     "output_type": "execute_result"
    }
   ],
   "source": [
    "P_new * (AMM_after_swap_2.y - AMM_after_arb.y) - (AMM_after_arb.x - AMM_after_swap_2.x) * (1+AMM_after_swap_2.fee_rate)"
   ]
  },
  {
   "cell_type": "markdown",
   "id": "4a6a4b1c-2248-4105-a81b-65fe7c4a95b1",
   "metadata": {},
   "source": [
    "Because of the trading fees, the arbitrageurs are at a loss!\n",
    "\n",
    "The presence of trading fee mitigates the impermanent loss. We should acount for the trading fees within the arbitrageur's optimization program:\n",
    "\n",
    "The arbitrageurs aims at maximizing\n",
    "\n",
    "$$\n",
    "\\underset{dy}{\\max} P'dy - dx(1+\\alpha) = \\underset{dy}{\\max} P'dy - \\frac{x dy}{y - dy}(1+\\alpha) = \\underset{dy}{\\max} f(dy)\n",
    "$$\n",
    "\n",
    "we have that \n",
    "$$\n",
    "f'(dy) = 0 \\Rightarrow dy = y - \\sqrt{\\frac{K(1+\\alpha)}{P'}}\n",
    "$$\n",
    "\n",
    "and $f''(dy)<0$.\n",
    "\n",
    "6. Use the method swap_x_for_y to get $dy = y - \\sqrt{\\frac{K(1+\\alpha)}{P'}}$ of token Y. We go from state AMM_after_swap_2 to state AMM_after_arb."
   ]
  },
  {
   "cell_type": "code",
   "execution_count": 79,
   "id": "21ce7c9a-ca7e-4a86-bf44-b9b16451784e",
   "metadata": {
    "tags": []
   },
   "outputs": [
    {
     "name": "stdout",
     "output_type": "stream",
     "text": [
      "The state of the AMM is\n",
      "Number of token X: 15352.989471574769\n",
      "Number of token Y: 29.310252627551833\n",
      "Constant k: 450000.0\n",
      "Price of Y: 523.8095238095237\n",
      "Amount of Liquidity: 670.8203932499368\n",
      "Number of Liquidity provider: ['LP1', 'LP2']\n",
      "Weights of Liquidity provider: [0.66666667 0.33333333]\n",
      "Fees collected by LPs: [83.19488715 41.59744357]\n",
      "--------------\n"
     ]
    }
   ],
   "source": [
    "AMM_after_arb = AMM_after_swap_2.swap_x_for_y(max(AMM_after_swap_2.y - np.sqrt(AMM_after_swap_2.k * (1+AMM_after_swap_2.fee_rate) / P_new), 0))\n",
    "print(AMM_after_arb)"
   ]
  },
  {
   "cell_type": "markdown",
   "id": "8d9f9daa-d683-41a4-86bf-c08174cd3c7b",
   "metadata": {},
   "source": [
    "7. Compute the arbitrageur's profit "
   ]
  },
  {
   "cell_type": "code",
   "execution_count": 80,
   "id": "65e5cd40-e8d6-4b65-83d8-243da6c1654b",
   "metadata": {},
   "outputs": [
    {
     "data": {
      "text/plain": [
       "8.722109692984816"
      ]
     },
     "execution_count": 80,
     "metadata": {},
     "output_type": "execute_result"
    }
   ],
   "source": [
    "P_new * (AMM_after_swap_2.y - AMM_after_arb.y) - (AMM_after_arb.x - AMM_after_swap_2.x) * (1 + AMM_after_swap_2.fee_rate)"
   ]
  },
  {
   "cell_type": "markdown",
   "id": "22e7eeab-9148-4210-9d23-f3cdce06220e",
   "metadata": {},
   "source": [
    "8. Compute the impermanet loss of the LPs"
   ]
  },
  {
   "cell_type": "code",
   "execution_count": 81,
   "id": "df166b8d-bc66-4564-92d4-fb2e9f2e60e0",
   "metadata": {},
   "outputs": [
    {
     "data": {
      "text/plain": [
       "8.722109692982485"
      ]
     },
     "execution_count": 81,
     "metadata": {},
     "output_type": "execute_result"
    }
   ],
   "source": [
    "P_new * (AMM_after_swap_2.y) + AMM_after_swap_2.x - (P_new * AMM_after_arb.y + AMM_after_arb.x + (AMM_after_arb.x - AMM_after_swap_2.x ) * AMM_after_swap_2.fee_rate)"
   ]
  },
  {
   "cell_type": "code",
   "execution_count": null,
   "id": "79307d60-58bd-4c50-8788-0041cc70d1ae",
   "metadata": {},
   "outputs": [],
   "source": []
  }
 ],
 "metadata": {
  "kernelspec": {
   "display_name": "Python 3 (ipykernel)",
   "language": "python",
   "name": "python3"
  },
  "language_info": {
   "codemirror_mode": {
    "name": "ipython",
    "version": 3
   },
   "file_extension": ".py",
   "mimetype": "text/x-python",
   "name": "python",
   "nbconvert_exporter": "python",
   "pygments_lexer": "ipython3",
   "version": "3.9.18"
  }
 },
 "nbformat": 4,
 "nbformat_minor": 5
}
