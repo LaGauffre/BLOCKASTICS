{
 "cells": [
  {
   "cell_type": "code",
   "execution_count": 2,
   "id": "6e6f5351-3b39-4ec4-9b6f-9d04de35c1cf",
   "metadata": {},
   "outputs": [],
   "source": [
    "import scipy as sc\n",
    "import numpy as np"
   ]
  },
  {
   "cell_type": "markdown",
   "id": "c2e79736-ec56-4711-a7fc-bceefae4f324",
   "metadata": {},
   "source": [
    "Let $(N_t)_{t\\geq0}$ be a Poisson process of intensity $\\lambda$  and $(M_t)_{t\\geq0}$ is a renewal process then the **p.d.f.** of $\\tau_0 = \\inf\\{t\\geq 0\\text{ ; }x+N_t = M_t\\}$ is given by\n",
    "\\begin{equation}\\label{eq:DS_time_pdf}\n",
    "f_{\\tau_0}(t)=\\mathbb{E}\\left[\\frac{x}{x+N_t}f_{S_{N_t+x}}(t)\\right],\\text{ for }t\\geq0.\n",
    "\\end{equation}\n",
    "where the $S_i$'s are the jump times of the process $(M_t)_{t\\geq0}$.\n",
    "\n",
    "We wish to verify the formula above in the case where $(M_t)_{t\\geq0}$ is a Poisson process of intensity $\\mu<\\lambda$. \n",
    "\n",
    "Write a function that approximate the expectation above as a truncated sum and integrate it over $(0, \\infty)$ to verify whether it gets close to $(\\mu/\\lambda)^x$. We will take as parameters \n",
    "- $x = 2$\n",
    "- $\\lambda = 4$ \n",
    "- $\\mu = 2$"
   ]
  },
  {
   "cell_type": "code",
   "execution_count": 3,
   "id": "22628d54-80e2-4fd9-b197-79d043a8718b",
   "metadata": {},
   "outputs": [
    {
     "data": {
      "text/plain": [
       "((0.24998605401886406, 1.1414499804751374e-09), 0.25)"
      ]
     },
     "execution_count": 3,
     "metadata": {},
     "output_type": "execute_result"
    }
   ],
   "source": [
    "x, λ, μ = 2, 4, 2\n",
    "integrand = lambda t : sum([x / (x + n) * np.exp(-μ*t) * t**(n+x - 1) * μ**(n+x) / sc.special.gamma(x + n)  * sc.stats.poisson.pmf(n, λ*t) for n in range(50)])\n",
    "sc.integrate.quad(integrand, 0, np.inf), (μ / λ) ** x"
   ]
  },
  {
   "cell_type": "code",
   "execution_count": null,
   "id": "b79f7409-3d76-4718-a768-d54dbbd18d82",
   "metadata": {},
   "outputs": [],
   "source": []
  }
 ],
 "metadata": {
  "kernelspec": {
   "display_name": "Python 3 (ipykernel)",
   "language": "python",
   "name": "python3"
  },
  "language_info": {
   "codemirror_mode": {
    "name": "ipython",
    "version": 3
   },
   "file_extension": ".py",
   "mimetype": "text/x-python",
   "name": "python",
   "nbconvert_exporter": "python",
   "pygments_lexer": "ipython3",
   "version": "3.9.18"
  }
 },
 "nbformat": 4,
 "nbformat_minor": 5
}
