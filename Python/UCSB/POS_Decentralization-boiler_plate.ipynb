{
 "cells": [
  {
   "cell_type": "code",
   "execution_count": 1,
   "metadata": {},
   "outputs": [],
   "source": [
    "import numpy as np\n",
    "import pandas as pd\n",
    "import matplotlib.pyplot as plt\n",
    "import seaborn as sns\n",
    "import scipy.special as sp\n",
    "import scipy.stats as ss\n",
    "import scipy as sc"
   ]
  },
  {
   "cell_type": "markdown",
   "metadata": {},
   "source": [
    "# Proof of stake and decentrality\n",
    "\n",
    "## Share of coins owned by each peer through simulation\n",
    "\n",
    "Let $p$ be the number of peers and $Z^{(x)}_0$ the number of coins of owned by peer $x\\in\\{1,\\ldots, p\\}$ at time $n=0$ and $Z_0 = \\sum_x Z^{(x)}_0$ the total number of coins.\n",
    "\n",
    "We define the processes $(Z_n^{(x)})_{n\\geq0}$ and  $(W_n^{(x)})_{n\\geq0}$ as the number and proportion of coins of each peer at time $n\\geq0$.\n",
    "\n",
    "1. Consider a network of $p=6$ peers, give them each a number of coins uniformly drawn from the discrete set $\\{1,2,\\ldots, 5\\}$ and plot a bar diagram that shows the proportion of coins owned by each peer. To be clear, we sample \n",
    "$$\n",
    "Z^{(x)}_0\\sim\\text{unif}(\\{1,\\ldots, 5\\}),\\text{ for } x\\in\\{1,\\ldots, p\\}\n",
    "$$\n",
    "and set \n",
    "$$\n",
    "W^{(x)}_0= \\frac{Z^{(x)}_0}{\\sum_{i=1}^pZ^{(x)}_0}.\n",
    "$$"
   ]
  },
  {
   "cell_type": "code",
   "execution_count": 30,
   "metadata": {},
   "outputs": [],
   "source": [
    "# Initialization of the process\n",
    "np.random.seed(1234)\n",
    "p = 6\n"
   ]
  },
  {
   "cell_type": "markdown",
   "metadata": {},
   "source": [
    "When the reward for finding a block is $r=1$ then $(W_n^{(1)},\\ldots, W_n^{(p)})$ converges toward a Dirichlet distribution of parameter $Z_0^{i},\\text{ }i=1,\\ldots, p$. The $i^{th}$ component of $(W_n^{(1)},\\ldots, W_n^{(p)})$ then converges toward a Beta distribution of parameter $(Z_0^{(i)},  \\sum_{j\\neq i}Z_0^{(j)})$. \n",
    "\n",
    "2. Sample $1,000$ realizations of $$(W_{100}^{(1)},\\ldots, W_{100}^{(p)})$$ and draw the histograms for each component of $W_{100}^{(i)}\\text{ for }i = 1, \\ldots, p$, add on top the pdf of the beta distribution."
   ]
  },
  {
   "cell_type": "code",
   "execution_count": 11,
   "metadata": {},
   "outputs": [],
   "source": []
  },
  {
   "cell_type": "code",
   "execution_count": null,
   "metadata": {},
   "outputs": [],
   "source": []
  },
  {
   "cell_type": "code",
   "execution_count": null,
   "metadata": {},
   "outputs": [],
   "source": []
  }
 ],
 "metadata": {
  "kernelspec": {
   "display_name": "Python 3 (ipykernel)",
   "language": "python",
   "name": "python3"
  },
  "language_info": {
   "codemirror_mode": {
    "name": "ipython",
    "version": 3
   },
   "file_extension": ".py",
   "mimetype": "text/x-python",
   "name": "python",
   "nbconvert_exporter": "python",
   "pygments_lexer": "ipython3",
   "version": "3.9.18"
  }
 },
 "nbformat": 4,
 "nbformat_minor": 4
}
