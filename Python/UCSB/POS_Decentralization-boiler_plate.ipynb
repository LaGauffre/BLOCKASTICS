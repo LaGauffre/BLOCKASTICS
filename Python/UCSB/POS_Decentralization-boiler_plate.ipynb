{
 "cells": [
  {
   "cell_type": "code",
   "execution_count": 2,
   "metadata": {},
   "outputs": [],
   "source": [
    "import numpy as np\n",
    "import pandas as pd\n",
    "import matplotlib.pyplot as plt\n",
    "import seaborn as sns\n",
    "import scipy.special as sp\n",
    "import scipy.stats as ss\n",
    "import scipy as sc"
   ]
  },
  {
   "cell_type": "markdown",
   "metadata": {},
   "source": [
    "# Proof of stake and decentrality\n",
    "\n",
    "## Share of coins owned by each peer through simulation\n",
    "\n",
    "Let $p$ be the number of peers and $N_x$ the number of coins of owned by peer $x\\in\\{1,\\ldots, p\\}$ at time $n=0$ and $N = \\sum_x N_x$ the total number of coins.\n",
    "\n",
    "We define the processes $(Y_n)_{n\\geq0}$ and  $(Z_n)_{n\\geq0}$ as the number and proportion of coins of each peer at time $n\\geq0$.\n",
    "\n",
    "1. Consider a network of $p=6$ peers, give them each a number of coins uniformly drawn from the discrete set $\\{1,2,\\ldots, 5\\}$ and plot a bar diagram that shows the proportion of coins owned by each peer. To be clear, we sample \n",
    "$$\n",
    "Y_0\\sim\\text{unif}(\\{1,\\ldots, 5\\}) \n",
    "$$\n",
    "and set \n",
    "$$\n",
    "Z_0 = \\frac{Y_0^i}{\\sum_{i=1}^pY_0^i}.\n",
    "$$"
   ]
  },
  {
   "cell_type": "code",
   "execution_count": 3,
   "metadata": {},
   "outputs": [],
   "source": [
    "# Initialization of the process\n",
    "np.random.seed(1234)\n",
    "p = 6\n"
   ]
  },
  {
   "cell_type": "markdown",
   "metadata": {},
   "source": [
    "When the reward for finding a block is $r=1$ then $Z_n$ converges toward a Dirichlet distribution of parameter $Y_0^{i},\\text{ }i=1,\\ldots, p$. The $i^{th}$ component of $Z_n = (Z_n^1,\\ldots, Z_n^p)$ then converges toward a Beta distribution of parameter $(Y_0^{i},  \\sum_{j\\neq i}Y_0^{j})$. \n",
    "\n",
    "2. Sample $1,000$ realizations of $Z_{100}$ and draw the histograms for each component of $Z_100$, add on top the pdf of the beta distribution."
   ]
  },
  {
   "cell_type": "code",
   "execution_count": null,
   "metadata": {},
   "outputs": [],
   "source": []
  }
 ],
 "metadata": {
  "kernelspec": {
   "display_name": "Python 3 (ipykernel)",
   "language": "python",
   "name": "python3"
  },
  "language_info": {
   "codemirror_mode": {
    "name": "ipython",
    "version": 3
   },
   "file_extension": ".py",
   "mimetype": "text/x-python",
   "name": "python",
   "nbconvert_exporter": "python",
   "pygments_lexer": "ipython3",
   "version": "3.9.7"
  }
 },
 "nbformat": 4,
 "nbformat_minor": 4
}
