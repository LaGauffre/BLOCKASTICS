{
 "cells": [
  {
   "cell_type": "code",
   "execution_count": 1,
   "id": "02b0d330-f58a-469a-945c-9753f27d0c96",
   "metadata": {},
   "outputs": [],
   "source": [
    "import numpy as np\n",
    "import scipy.special as sp\n",
    "import matplotlib.pyplot as plt\n",
    "import seaborn as sns"
   ]
  },
  {
   "cell_type": "markdown",
   "id": "8d7cc469-c5f1-44fe-97a7-b87474fb8f89",
   "metadata": {},
   "source": [
    "# Double spending time distribution with random walk\n",
    "\n",
    "The difference between the number of blocks of the public blockchain and the private one is given by \n",
    "$$\n",
    "X_0 = x,\\text{ }X_n = X_{n-1}+\\xi_n,\\text{ for }n\\geq1,\n",
    "$$\n",
    "where the $\\xi_i$'s are iid with probability mass fuunction \n",
    "\n",
    "$$\n",
    "\\mathbb{P}(Y = 1)=p\\text{ and }\\mathbb{P}(Y = -1)=1-p = q.\n",
    "$$\n",
    "\n",
    "Define the double spending time as $\\tau_0 = \\inf\\{n\\geq0\\text{ ; }X_n = 0\\}$\n",
    "\n",
    "We wish to verify the following formula\n",
    "\n",
    "$$\n",
    "\\mathbb{P}(\\tau_0 = n|X_0 = x) = \n",
    "\\begin{cases}\n",
    "\\frac{x}{n}\\binom{n}{(n-x)/2}p^{(n-x)/2}q^{(n+x)/2},& \\text{ if }x\\text{ is even and }n\\geq x, \\\\\n",
    "0,&\\text{otherwise}.\n",
    "\\end{cases}\n",
    "$$\n",
    "\n",
    "via simulations.\n",
    "\n",
    "1) Write a function **pmf_ds** that compute the probability mass function of the double spending time. the **pmf_ds** takes as argument \n",
    "\n",
    "- p the hashpower of the honest miners\n",
    "- x the number of blocks that the honest chain is ahead of the dishonest one\n",
    "- n the time horizon\n",
    "\n",
    "and returns the $\\mathbb{P}(\\tau_0 = n|X_0 = x)$. Evaluate it with $p= 2/3, x = 2,$ and $n = 6$. "
   ]
  },
  {
   "cell_type": "code",
   "execution_count": null,
   "id": "cba2be6b-ae73-4bea-a005-6921bf380bcd",
   "metadata": {},
   "outputs": [],
   "source": []
  },
  {
   "cell_type": "markdown",
   "id": "4f4be0bc-266c-4375-904f-c721a3cb2537",
   "metadata": {},
   "source": [
    "2) Verify that it checks out with the probability of double spending"
   ]
  },
  {
   "cell_type": "code",
   "execution_count": null,
   "id": "5d3ccc44-f33c-4025-949e-bd210a10652a",
   "metadata": {},
   "outputs": [],
   "source": []
  },
  {
   "cell_type": "markdown",
   "id": "0f2350ec-cbd9-483f-86b8-33826d6dbfec",
   "metadata": {},
   "source": [
    "3) Write a function **sample_ds_time** that sample value of $\\tau_0$ up to given time horizon $n$. **pmf_ds_MC** takes as argument\n",
    "\n",
    "- K the number of MC runs\n",
    "- n the time horizon (beyond which we state that $\\tau_0 = \\infty$)\n",
    "- p the hashpower of the honest miners\n",
    "- x the number of blocks that the honest chain is ahead of the dishonest one\n",
    "\n",
    "and returns a vector of values of $\\tau_0$. Estimate the ds probability with $p= 2/3, x = 2,n = 6$ and $K = 10,000$."
   ]
  },
  {
   "cell_type": "code",
   "execution_count": null,
   "id": "69af7dad-de44-4da7-a06c-b5ec579f2f3e",
   "metadata": {},
   "outputs": [],
   "source": []
  },
  {
   "cell_type": "markdown",
   "id": "309f0a09-1f8f-4bb1-ab4a-469eb10bd7af",
   "metadata": {},
   "source": [
    "4) Compare the Monte Carlo approximation and the true value by plotting the values $\\mathbb{P}(\\tau_0 = n|X_0 = x)$ for $n =2,4,6,\\ldots,20$. We want the true value surrounded by the $5\\%$ confidence band of the MC estimator. "
   ]
  },
  {
   "cell_type": "code",
   "execution_count": null,
   "id": "efa93985-fe6c-4d50-a68f-290f9fa6ee55",
   "metadata": {},
   "outputs": [],
   "source": []
  },
  {
   "cell_type": "code",
   "execution_count": null,
   "id": "a7f7b1ae-39ec-4e7c-abe2-5dccce01babf",
   "metadata": {},
   "outputs": [],
   "source": []
  }
 ],
 "metadata": {
  "kernelspec": {
   "display_name": "Python 3 (ipykernel)",
   "language": "python",
   "name": "python3"
  },
  "language_info": {
   "codemirror_mode": {
    "name": "ipython",
    "version": 3
   },
   "file_extension": ".py",
   "mimetype": "text/x-python",
   "name": "python",
   "nbconvert_exporter": "python",
   "pygments_lexer": "ipython3",
   "version": "3.9.18"
  }
 },
 "nbformat": 4,
 "nbformat_minor": 5
}
