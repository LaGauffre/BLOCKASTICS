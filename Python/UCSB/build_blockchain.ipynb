{
 "cells": [
  {
   "cell_type": "markdown",
   "metadata": {},
   "source": [
    "# Building a blockchain in python\n",
    "\n",
    "Inspired from [Python Tutorial: Build A Blockchain In < 60 Lines of Code](https://medium.com/coinmonks/python-tutorial-build-a-blockchain-713c706f6531) and [Learn Blockchains by Building One](https://hackernoon.com/learn-blockchains-by-building-one-117428612f46)."
   ]
  },
  {
   "cell_type": "code",
   "execution_count": 5,
   "metadata": {},
   "outputs": [],
   "source": [
    "import datetime\n",
    "import hashlib\n",
    "import numpy as np\n",
    "import matplotlib.pyplot as plt\n",
    "import pandas as pd"
   ]
  },
  {
   "cell_type": "markdown",
   "metadata": {},
   "source": [
    "## The SHA-256 function"
   ]
  },
  {
   "cell_type": "code",
   "execution_count": 6,
   "metadata": {},
   "outputs": [
    {
     "data": {
      "text/plain": [
       "'81b524b34b3f0959ff89f59a505ce51564a9917d3c7d18276dbab55772e056a1'"
      ]
     },
     "execution_count": 6,
     "metadata": {},
     "output_type": "execute_result"
    }
   ],
   "source": [
    "hashlib.sha256(b\"Is DeFi the future\").hexdigest()"
   ]
  },
  {
   "cell_type": "markdown",
   "metadata": {},
   "source": [
    "The \"b\" before the text means that it is presented as a bytes objects rathers than a string. One popular encoding format for a string is ASCII. Each caracter is a specific sequence of 8 bits (0 or 1) making a byte."
   ]
  },
  {
   "cell_type": "code",
   "execution_count": 7,
   "metadata": {},
   "outputs": [
    {
     "name": "stdout",
     "output_type": "stream",
     "text": [
      "['01001001', '01110011', '00100000', '01000100', '01100101', '01000110', '01101001', '00100000', '01110100', '01101000', '01100101', '00100000', '01100110', '01110101', '01110100', '01110101', '01110010', '01100101']\n"
     ]
    }
   ],
   "source": [
    "text = \"Is DeFi the future\"\n",
    "binary_numbers = [bin(ord(char))[2:].zfill(8) for char in text]\n",
    "print(binary_numbers)"
   ]
  },
  {
   "cell_type": "markdown",
   "metadata": {},
   "source": [
    "## The block class"
   ]
  },
  {
   "cell_type": "code",
   "execution_count": 8,
   "metadata": {},
   "outputs": [],
   "source": [
    "class Block:\n",
    "    hash = None # Hash of the block info\n",
    "    index = 0 # Index of the block inside the chain\n",
    "    timestamp = datetime.datetime.now() # Time of creation of the block\n",
    "    nonce = 0 # Solution to the cryptopuzzle\n",
    "    transactions = [] # Transaction data\n",
    "    mined = False # Boolean set to True whenever the problem has been solved\n",
    "    previous_hash = 0x0 # Hash of the previous block\n",
    "    \n",
    "\n",
    "    def __init__(self, transactions):\n",
    "        self.transactions = transactions\n",
    "        self.timestamp = datetime.datetime.now()\n",
    "\n",
    "    def hash(self):# Compute the hash of the blockdata\n",
    "        h = hashlib.sha256()\n",
    "        h.update(\n",
    "        str(self.nonce).encode('utf-8') +\n",
    "        str(self.transactions).encode('utf-8') +\n",
    "        str(self.previous_hash).encode('utf-8') \n",
    "        )\n",
    "        return h.hexdigest()\n",
    "    \n",
    "    # Add a new transaction to a block\n",
    "    def new_transaction(self, sender, recipient, amount, fee):\n",
    "        transaction = {\n",
    "            'sender': sender,\n",
    "            'recipient': recipient,\n",
    "            'amount': amount,\n",
    "            'fee' : fee\n",
    "        }\n",
    "        self.transactions.append(transaction)\n",
    "    \n",
    "    # Print the block info\n",
    "    def __str__(self):\n",
    "        return \"Block Height: \" + str(self.index) + \\\n",
    "    \"\\nBlock Hash: \" + str(self.hash()) + \\\n",
    "    \"\\nTime:\" + str(self.timestamp) + \\\n",
    "    \"\\nBlock data: \" + str(self.transactions) + \\\n",
    "    \"\\nMined: \" + str(self.mined) + \\\n",
    "    \"\\nPrevious block hash: \" + str(self.previous_hash) +\"\\n--------------\"\n",
    "    \n",
    "    # Solve the cryptopuzzle of the block\n",
    "    \n"
   ]
  },
  {
   "cell_type": "markdown",
   "metadata": {},
   "source": [
    "1. Create an empty block and add two transactions to it. Use the print() function to display your block."
   ]
  },
  {
   "cell_type": "code",
   "execution_count": 9,
   "metadata": {},
   "outputs": [
    {
     "name": "stdout",
     "output_type": "stream",
     "text": [
      "Block Height: 0\n",
      "Block Hash: 99f27c54043f4464a1f7a2ef0960a68c4ad07f3f0b863c57023b5a19efdf9a7c\n",
      "Time:2024-04-23 12:20:20.875298\n",
      "Block data: [{'sender': 'Coinbase', 'recipient': 'Satoshi', 'amount': 100, 'fee': 0}, {'sender': 'Satoshi', 'recipient': 'Pierre-O', 'amount': 5, 'fee': 2}]\n",
      "Mined: False\n",
      "Previous block hash: 0\n",
      "--------------\n"
     ]
    }
   ],
   "source": [
    "B1 = Block([])\n",
    "B1.new_transaction(\"Coinbase\", \"Satoshi\", 100, 0)\n",
    "B1.new_transaction(\"Satoshi\", \"Pierre-O\", 5, 2)\n",
    "print(B1)\n"
   ]
  },
  {
   "cell_type": "markdown",
   "metadata": {},
   "source": [
    "## The blockchain class"
   ]
  },
  {
   "cell_type": "code",
   "execution_count": 12,
   "metadata": {},
   "outputs": [],
   "source": [
    "class Blockchain:\n",
    "    diff = 0\n",
    "    maxNonce = 2**32\n",
    "    target = 2 ** (256-diff)\n",
    "    reward = 50\n",
    "    miner = \"Miner\"\n",
    "\n",
    "    def __init__(self, genesis_block):\n",
    "        self.chain = [genesis_block]\n",
    "        self.pending_transactions = []\n",
    "        \n",
    "    def new_transaction(self, sender, recipient, amount, fee):\n",
    "        transaction = {\n",
    "            'sender': sender,\n",
    "            'recipient': recipient,\n",
    "            'amount': amount,\n",
    "            'fee' : fee\n",
    "        }\n",
    "        self.pending_transactions.append(transaction) \n",
    "    \n",
    "    def add_block(self):\n",
    "#         blockchain.pending_transactions\n",
    "        current_block = blockchain.chain[-1]\n",
    "        new_block = Block(blockchain.pending_transactions)\n",
    "        new_block.index = current_block.index + 1\n",
    "        new_block.previous_hash = current_block.hash()\n",
    "        blockchain.chain.append(new_block)\n",
    "        blockchain.pending_transactions = []\n",
    "    \n",
    "    def adjust_difficulty(self, new_diff):\n",
    "        self.diff = new_diff\n",
    "        self.target = 2 ** (256-new_diff)\n",
    "    \n",
    "    def halve_reward(self):\n",
    "        self.reward = self.reward / 2\n",
    "    \n",
    "    def mine(self):\n",
    "        block = self.chain[-1]\n",
    "        target = self.target\n",
    "\n",
    "        if block.transactions:\n",
    "            fee = pd.DataFrame.from_records(block.transactions).fee.sum()\n",
    "        else:\n",
    "            fee = 0\n",
    "\n",
    "        block.new_transaction(\"Coinbase\", self.miner, self.reward + fee, 0)\n",
    "        while int(block.hash(), 16) > target:\n",
    "            block.nonce = int(np.random.uniform(low = 0, high = 2**32 + 1))\n",
    "        block.mined = True\n",
    "        block.timestamp = datetime.datetime.now() \n",
    "        \n",
    "\n"
   ]
  },
  {
   "cell_type": "markdown",
   "metadata": {},
   "source": [
    "2. Initialize your blockchain by creating a genesis block. Print the last block of your blockchain. "
   ]
  },
  {
   "cell_type": "code",
   "execution_count": 32,
   "metadata": {},
   "outputs": [
    {
     "name": "stdout",
     "output_type": "stream",
     "text": [
      "Block Height: 0\n",
      "Block Hash: 32369d15916932bd1ade51c0cae9f32f5ded2cccd29d81d7eec27066c813e39d\n",
      "Time:2024-04-23 12:43:02.041731\n",
      "Block data: []\n",
      "Mined: False\n",
      "Previous block hash: 0\n",
      "--------------\n"
     ]
    }
   ],
   "source": [
    "genesis_block = Block([])\n",
    "blockchain = Blockchain(genesis_block)\n",
    "print(blockchain.chain[-1])\n"
   ]
  },
  {
   "cell_type": "markdown",
   "metadata": {},
   "source": [
    "3. Set the difficulty of your blockchain to $4$, halve the reward and mine the last block of your blockchain befire printing it. "
   ]
  },
  {
   "cell_type": "code",
   "execution_count": 33,
   "metadata": {},
   "outputs": [
    {
     "name": "stdout",
     "output_type": "stream",
     "text": [
      "Block Height: 0\n",
      "Block Hash: 0000b2a5884d763f318e2b250a6da8a22cf8314cfcae1add76de8816c3ddc6aa\n",
      "Time:2024-04-23 12:43:03.125641\n",
      "Block data: [{'sender': 'Coinbase', 'recipient': 'Miner', 'amount': 25.0, 'fee': 0}]\n",
      "Mined: True\n",
      "Previous block hash: 0\n",
      "--------------\n"
     ]
    }
   ],
   "source": [
    "blockchain.adjust_difficulty(16)\n",
    "blockchain.halve_reward()\n",
    "blockchain.mine()\n",
    "print(blockchain.chain[-1])"
   ]
  },
  {
   "cell_type": "markdown",
   "metadata": {},
   "source": [
    "4. Add two transactions to the list of pending transaction of your blockchain. Add a new block and print the the blocks of your blockchain using a for loop. "
   ]
  },
  {
   "cell_type": "code",
   "execution_count": 34,
   "metadata": {},
   "outputs": [
    {
     "name": "stdout",
     "output_type": "stream",
     "text": [
      "Block Height: 0\n",
      "Block Hash: 0000b2a5884d763f318e2b250a6da8a22cf8314cfcae1add76de8816c3ddc6aa\n",
      "Time:2024-04-23 12:43:03.125641\n",
      "Block data: [{'sender': 'Coinbase', 'recipient': 'Miner', 'amount': 25.0, 'fee': 0}]\n",
      "Mined: True\n",
      "Previous block hash: 0\n",
      "--------------\n",
      "Block Height: 1\n",
      "Block Hash: 2e4fee63aded7b230eceaf5dedd2b9c4eb837356d308b86ad08a167909a301e4\n",
      "Time:2024-04-23 12:43:07.680197\n",
      "Block data: [{'sender': 'miner', 'recipient': 'Pierre-O', 'amount': 5, 'fee': 0.1}, {'sender': 'miner', 'recipient': 'Satoshi', 'amount': 10, 'fee': 0.2}]\n",
      "Mined: False\n",
      "Previous block hash: 0000b2a5884d763f318e2b250a6da8a22cf8314cfcae1add76de8816c3ddc6aa\n",
      "--------------\n"
     ]
    }
   ],
   "source": [
    "blockchain.new_transaction(\"miner\", \"Pierre-O\", 5, 0.1)\n",
    "blockchain.new_transaction(\"miner\", \"Satoshi\", 10, 0.2)\n",
    "# print(blockchain.pending_transactions)\n",
    "blockchain.add_block()\n",
    "for block in blockchain.chain: \n",
    "    print(block)"
   ]
  },
  {
   "cell_type": "markdown",
   "metadata": {},
   "source": [
    "5. Mine the last block of your blockchain and print all the blocks. "
   ]
  },
  {
   "cell_type": "code",
   "execution_count": 35,
   "metadata": {},
   "outputs": [
    {
     "name": "stdout",
     "output_type": "stream",
     "text": [
      "Block Height: 0\n",
      "Block Hash: 0000b2a5884d763f318e2b250a6da8a22cf8314cfcae1add76de8816c3ddc6aa\n",
      "Time:2024-04-23 12:43:03.125641\n",
      "Block data: [{'sender': 'Coinbase', 'recipient': 'Miner', 'amount': 25.0, 'fee': 0}]\n",
      "Mined: True\n",
      "Previous block hash: 0\n",
      "--------------\n",
      "Block Height: 1\n",
      "Block Hash: 000092491f78830e9a60fa157a0d103ec7c10e9ce206280293bac4e33a260c16\n",
      "Time:2024-04-23 12:43:11.208338\n",
      "Block data: [{'sender': 'miner', 'recipient': 'Pierre-O', 'amount': 5, 'fee': 0.1}, {'sender': 'miner', 'recipient': 'Satoshi', 'amount': 10, 'fee': 0.2}, {'sender': 'Coinbase', 'recipient': 'Miner', 'amount': 25.3, 'fee': 0}]\n",
      "Mined: True\n",
      "Previous block hash: 0000b2a5884d763f318e2b250a6da8a22cf8314cfcae1add76de8816c3ddc6aa\n",
      "--------------\n"
     ]
    }
   ],
   "source": [
    "blockchain.mine()\n",
    "for block in blockchain.chain: \n",
    "    print(block)"
   ]
  }
 ],
 "metadata": {
  "kernelspec": {
   "display_name": "Python 3 (ipykernel)",
   "language": "python",
   "name": "python3"
  },
  "language_info": {
   "codemirror_mode": {
    "name": "ipython",
    "version": 3
   },
   "file_extension": ".py",
   "mimetype": "text/x-python",
   "name": "python",
   "nbconvert_exporter": "python",
   "pygments_lexer": "ipython3",
   "version": "3.9.18"
  }
 },
 "nbformat": 4,
 "nbformat_minor": 4
}
