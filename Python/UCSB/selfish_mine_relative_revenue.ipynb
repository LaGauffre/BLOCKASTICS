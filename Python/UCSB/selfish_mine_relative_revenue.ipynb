{
 "cells": [
  {
   "cell_type": "code",
   "execution_count": 1,
   "id": "d8250c61-2b82-4118-ac58-8ee939ef7e26",
   "metadata": {},
   "outputs": [],
   "source": [
    "import numpy as np\n",
    "import scipy.special as sp\n",
    "import matplotlib.pyplot as plt\n",
    "import seaborn as sns"
   ]
  },
  {
   "cell_type": "code",
   "execution_count": 14,
   "id": "98ec441f-5a50-41c5-b0a4-e2d7e4b30cac",
   "metadata": {},
   "outputs": [],
   "source": [
    "q, γ = 1/4, 1/2\n",
    "def compute_rel_rev(q, γ):\n",
    "    p0, p0_star, p1 = 1/(1 + 2 * q - q**2), q/(1 + 2 * q - q**2), (1-q) * q / (1 + 2 * q - q**2) \n",
    "    B = (1 - q) * γ * p0_star + 2 * q * p0_star + 2 * p1 * q \n",
    "    C = p0 * (1-q) + p0_star * (1-q) * γ + 2 * p0_star * (1-q) * (1-γ)  \n",
    "    return(B/(B + C) -q)"
   ]
  },
  {
   "cell_type": "code",
   "execution_count": 34,
   "id": "1512a56f-8665-4291-8e35-cbb8e71cdf06",
   "metadata": {},
   "outputs": [
    {
     "data": {
      "image/png": "[encoded data removed]",
      "text/plain": [
       "<Figure size 432x288 with 2 Axes>"
      ]
     },
     "metadata": {
      "needs_background": "light"
     },
     "output_type": "display_data"
    }
   ],
   "source": [
    "import matplotlib\n",
    "import matplotlib.pyplot as plt\n",
    "from matplotlib.colors import BoundaryNorm\n",
    "from matplotlib.ticker import MaxNLocator\n",
    "import numpy as np\n",
    "\n",
    "\n",
    "# make these smaller to increase the resolution\n",
    "dx, dy = 0.001, 0.001\n",
    "\n",
    "# generate 2 2d grids for the x & y bounds\n",
    "q, γ = np.mgrid[slice(0, 1/2, dy),\n",
    "                slice(0, 1, dx)]\n",
    "\n",
    "z = compute_rel_rev(q, γ)\n",
    "\n",
    "# x and y are bounds, so z should be the value *inside* those bounds.\n",
    "# Therefore, remove the last value from the z array.\n",
    "z = z[:-1, :-1]\n",
    "levels = MaxNLocator(nbins=15).tick_values(z.min(), z.max())\n",
    "\n",
    "\n",
    "# pick the desired colormap, sensible levels, and define a normalization\n",
    "# instance which takes data values and translates those into levels.\n",
    "cmap = plt.get_cmap('PiYG')\n",
    "norm = BoundaryNorm(levels, ncolors=cmap.N, clip=True)\n",
    "\n",
    "fig,  ax1 = plt.subplots()\n",
    "\n",
    "# im = ax0.pcolormesh(q, γ, z, cmap=cmap, norm=norm)\n",
    "# fig.colorbar(im, ax=ax0)\n",
    "# ax0.set_title('pcolormesh with levels')\n",
    "\n",
    "\n",
    "# contours are *point* based plots, so convert our bound into point\n",
    "# centers\n",
    "cf = ax1.contourf(q[:-1, :-1] + dx/2.,\n",
    "                  γ[:-1, :-1] + dy/2., z, levels=levels,\n",
    "                  cmap=cmap)\n",
    "fig.colorbar(cf, ax=ax1)\n",
    "# adjust spacing between subplots so `ax1` title and `ax0` tick labels\n",
    "# don't overlap\n",
    "ax1.set_title('Relative revenue heatmap')\n",
    "ax1.set_xlabel('q')\n",
    "ax1.set_ylabel('γ')\n",
    "# set the limits of the plot to the limits of the data\n",
    "ax1.axis([q.min(), q.max(), γ.min(), γ.max()])\n",
    "\n",
    "fig.tight_layout()\n",
    "sns.despine()\n",
    "plt.savefig('../../Figures/relative_rev_map.pdf')\n",
    "\n",
    "\n",
    "plt.show()"
   ]
  },
  {
   "cell_type": "code",
   "execution_count": 55,
   "id": "7af2f324-aa11-4ce7-9530-81342cdef983",
   "metadata": {},
   "outputs": [
    {
     "data": {
      "text/plain": [
       "-0.07671320486001368"
      ]
     },
     "execution_count": 55,
     "metadata": {},
     "output_type": "execute_result"
    },
    {
     "data": {
      "image/png": "[encoded data removed]",
      "text/plain": [
       "<Figure size 432x288 with 1 Axes>"
      ]
     },
     "metadata": {
      "needs_background": "light"
     },
     "output_type": "display_data"
    }
   ],
   "source": [
    "p, λ, b = 1/4, 2, 1\n",
    "c = (1-0.5) * p * λ * b\n",
    "def CL_equation(θ):\n",
    "    return(θ * c + p * λ *(np.exp(- b * θ) - 1))\n",
    "θ = np.arange(-0.5, 1, 0.005)\n",
    "plt.plot(θ, CL_equation(θ))\n",
    "CL_equation(np.log(p * λ * b / c) / b)"
   ]
  },
  {
   "cell_type": "code",
   "execution_count": null,
   "id": "6365ecdf-dc2e-4447-824a-a10b035ca93c",
   "metadata": {},
   "outputs": [],
   "source": []
  }
 ],
 "metadata": {
  "kernelspec": {
   "display_name": "Python 3 (ipykernel)",
   "language": "python",
   "name": "python3"
  },
  "language_info": {
   "codemirror_mode": {
    "name": "ipython",
    "version": 3
   },
   "file_extension": ".py",
   "mimetype": "text/x-python",
   "name": "python",
   "nbconvert_exporter": "python",
   "pygments_lexer": "ipython3",
   "version": "3.9.7"
  }
 },
 "nbformat": 4,
 "nbformat_minor": 5
}
