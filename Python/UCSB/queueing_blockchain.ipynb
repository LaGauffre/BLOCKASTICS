{
 "cells": [
  {
   "cell_type": "code",
   "execution_count": 24,
   "metadata": {},
   "outputs": [],
   "source": [
    "import numpy as np\n",
    "import pandas as pd\n",
    "import matplotlib.pyplot as plt\n",
    "import seaborn as sns\n",
    "import scipy.special as sp\n",
    "import scipy.stats as ss\n",
    "import scipy as sc"
   ]
  },
  {
   "cell_type": "markdown",
   "metadata": {},
   "source": [
    "# Blockchain queue\n",
    "\n",
    "Blockchain efficiency is characterized by the \n",
    "- throughput (how many transactions are confirmed per time unit) \n",
    "- latency (the average confirmation time of a transaction). \n",
    "\n",
    "These quantities are studied within the frame of a queueing model. \n",
    "\n",
    "- The pending transactions arrive at a Poisson rate $\\lambda$ to form a queue, \n",
    "- a fixed number $b$ (the first which entered the queue) will be processed in a block. \n",
    "- The block generation time has distribution $G$ on $\\mathbb{R}_+$. \n",
    "\n",
    "The result is a $M/G^b/1$ queue. \n",
    "\n",
    "We are going to simulate trajectories of this process to study the average confirmation time and the number of pending transaction in the queue at stationarity. \n",
    "\n",
    "Let us assume that $G$ is exponential with mean $1/\\mu$, which corresponds to the empirical data on the block arrival time in the bitcoin blockchain.\n",
    "\n",
    "Denote by $(S_i)$ the transaction arrival time and $(T_i)$ the blockarrival times.\n",
    "\n",
    "We denote by $N_t$ the number of transaction and $M_t$ the number of block up to time $t>0$. Both of the processes are Poisson process with respective intensity $\\lambda$ and $\\mu$.\n",
    "\n",
    "The incoming transactions form the queue. When a block is built, some transactions move from the queue to the server via a first in first out discipline. The server may contain at most $b$ transactions which will be part of the next block. \n",
    "\n",
    "1. Write a function *MC_queue_blockchain(λ, μ, b, t)* that returns a list with the number of transactions in the server between two block arrival and the time spent by a transaction in the queue. The queueing process is simulated up to some time horizon $t$, the larger the better in terms of accuracy. Compute the average number of transaction in the server and the average time spent by transactions in the queue with the following parameters\n",
    "\n",
    "$$\n",
    "\\mu =1, \\lambda=2, b=4, t=10000\n",
    "$$"
   ]
  },
  {
   "cell_type": "code",
   "execution_count": 28,
   "metadata": {},
   "outputs": [
    {
     "data": {
      "text/plain": [
       "(1.9893808855940693, 1.444498895236342)"
      ]
     },
     "execution_count": 28,
     "metadata": {},
     "output_type": "execute_result"
    }
   ],
   "source": [
    "# MC_queue_blockchain function\n",
    "def MC_queue_blockchain(λ, μ, b, t):\n",
    "    \n",
    "    queue = np.array([])# Arrival times of transactions in the queue\n",
    "    server = []\n",
    "    queue_times = []\n",
    "    # Number of transactions issued and number of blocks generated\n",
    "    N_t, M_t = np.random.poisson(λ * t), np.random.poisson(μ * t)\n",
    "    # Transaction and block arrival times\n",
    "    S, T = np.sort(np.random.uniform(low = 0, high = t, size = N_t)), np.sort(np.random.uniform(low = 0, high = t, size = M_t))\n",
    "    T = np.insert(T, 0, 0)\n",
    "    for k in range(len(T)-1):\n",
    "        queue = np.append(queue, S[np.logical_and(S > T[k], S < T[k+1])])\n",
    "        if len(queue) <= b:\n",
    "            server = np.append(server, len(queue))\n",
    "            queue_times = np.append(queue_times, T[k+1] - queue)\n",
    "            queue = np.array([])\n",
    "        else:\n",
    "            server = np.append(server, b)\n",
    "            queue_times = np.append(queue_times, T[k+1] - queue[:b])\n",
    "            queue = queue[b:]\n",
    "    return(server, queue_times)\n",
    "\n",
    "# Parameters of the transaction arrival, the block size and the service time\n",
    "np.random.seed(1234)\n",
    "\n",
    "# MC verification\n",
    "server, queue_time = MC_queue_blockchain(λ, μ, b, t)\n",
    "np.mean(server), np.mean(queue_time)\n",
    "# (1.9893808855940693, 1.444426157490472)\n"
   ]
  },
  {
   "cell_type": "markdown",
   "metadata": {},
   "source": [
    "Theoreticaly the mean confirmation time (time spent by a transaction in the queue and then in the server) is given by \n",
    "\n",
    "$$\n",
    "\\frac{p}{(1-p)\\lambda}\n",
    "$$\n",
    "where $p=1/z^\\ast$ and $z^\\ast$ is the only root to \n",
    "$$\n",
    "-\\frac{\\lambda}{\\mu}z^{b+1}+z^b\\left(\\frac{\\lambda}{\\mu}+1\\right) - 1,\n",
    "$$\n",
    "such that $|z^\\ast$|>1.   \n",
    "\n",
    "Throughput is the average number of transactions being processed per time unit, we have\n",
    "\n",
    "$$\n",
    "    \\text{Throughput} = \\mu\\mathbb{E}(N^q\\mathbb{I}_{N^q\\leq b}+b\\mathbb{I}_{N^q> b}) = \\mu\\sum_{n = 0}^bn(1-p)p^n + bp^{b+1}.\n",
    "$$\n",
    "\n",
    "where $N^{q}$ is geometrically distributed random variable with parameter $p$ such that \n",
    "$$\n",
    "\\mathbb{P}(N^{q} = n) = (1-p)p^{n},\\text{ }n\\geq 0\n",
    "$$\n",
    "that corresponds to the number of transactions in the queue.\n",
    "\n",
    "2. Write a function to compute the theoretical troughput and latency. Compare the theoretical throughput and latency to the Monte Carlo approximation provided by the previous function. The parameters are once again\n",
    "\n",
    "$$\n",
    "\\mu =1, \\lambda=2, b=4, t=10000\n",
    "$$"
   ]
  },
  {
   "cell_type": "code",
   "execution_count": 29,
   "metadata": {},
   "outputs": [
    {
     "name": "stdout",
     "output_type": "stream",
     "text": [
      "(2.432523324276415, 1.9999999999999987)\n",
      "2.5061684515196534 2.0369771671044656\n"
     ]
    }
   ],
   "source": [
    "\n",
    "def exact_latency_throughput(λ, μ, b):\n",
    "\n",
    "    def f(x):\n",
    "        return(- λ / μ *x**(b+1) + x**b * (λ / μ + 1) - 1 )\n",
    "\n",
    "    sol = sc.optimize.root_scalar(f, bracket=[1.00001, 100000], method='brentq')\n",
    "    p = 1/sol.root\n",
    "    geom_pmf = np.array([p**k * (1-p) for k in np.arange(0,b+1)])\n",
    "    latency, throughput = p/(1-p)/λ + 1 / μ, μ*(sum(np.arange(0,b+1) * geom_pmf) + p**(b+1)*b)\n",
    "\n",
    "    return(latency, throughput)\n",
    "\n",
    "# Parameters of the transaction arrival, the block size and the service time\n",
    "print(exact_latency_throughput(λ, μ, b))\n",
    "\n",
    "# MC verification\n",
    "server, queue_time = MC_queue_blockchain(λ, μ, b, t)\n",
    "print(np.mean(queue_time) + 1/μ, μ * np.mean(server))\n",
    "# (2.432523324276415, 1.9999999999999987)\n",
    "# 2.444426157490472 1.9893808855940693\n"
   ]
  },
  {
   "cell_type": "markdown",
   "metadata": {},
   "source": [
    "3. plot the histogram of the number of transaction in the server using the function *MC_queue_blockchain(λ, μ, b, t)* and the following parameters\n",
    "$$\n",
    "\\mu =1, \\lambda=2, b=4, t=10000\n",
    "$$\n",
    "It provides us insight on the server occupancy"
   ]
  },
  {
   "cell_type": "code",
   "execution_count": 31,
   "metadata": {},
   "outputs": [
    {
     "data": {
      "image/png": "[encoded data removed]",
      "text/plain": [
       "<Figure size 640x480 with 1 Axes>"
      ]
     },
     "metadata": {},
     "output_type": "display_data"
    }
   ],
   "source": [
    "# Parameters of the transaction arrival, the block size and the service time\n",
    "\n",
    "server, queue_time = MC_queue_blockchain(λ, μ, b, t)\n",
    "plt.bar(np.arange(0, b+1,1), np.array([np.mean(np.array(server)==k) for k in range(b+1)]), alpha = 0.5)\n",
    "plt.xticks(np.arange(0, b+1,1))\n",
    "plt.xlabel('Number of transactions in the server')\n",
    "plt.title('Probability mass function')\n",
    "sns.despine()"
   ]
  },
  {
   "cell_type": "code",
   "execution_count": null,
   "metadata": {},
   "outputs": [],
   "source": []
  },
  {
   "cell_type": "code",
   "execution_count": null,
   "metadata": {},
   "outputs": [],
   "source": []
  }
 ],
 "metadata": {
  "kernelspec": {
   "display_name": "Python 3 (ipykernel)",
   "language": "python",
   "name": "python3"
  },
  "language_info": {
   "codemirror_mode": {
    "name": "ipython",
    "version": 3
   },
   "file_extension": ".py",
   "mimetype": "text/x-python",
   "name": "python",
   "nbconvert_exporter": "python",
   "pygments_lexer": "ipython3",
   "version": "3.9.18"
  }
 },
 "nbformat": 4,
 "nbformat_minor": 4
}
