{
 "cells": [
  {
   "cell_type": "code",
   "execution_count": 1,
   "id": "e4bd9986-eb4a-4aa8-9544-8bd552e80b53",
   "metadata": {},
   "outputs": [],
   "source": [
    "# Fetching transactions and events ofthe RPToken contract\n",
    "from decode_simple_swap import *\n",
    "from fetch_simple_swap  import *"
   ]
  },
  {
   "cell_type": "markdown",
   "id": "d8069a22-911c-4965-bbc7-73f3537ab8c9",
   "metadata": {},
   "source": [
    "# Transaction Analysis"
   ]
  },
  {
   "cell_type": "code",
   "execution_count": 2,
   "id": "57de7115-e4cd-4d78-942e-4b9d3f801ddd",
   "metadata": {},
   "outputs": [
    {
     "data": {
      "text/html": [
       "<div>\n",
       "<style scoped>\n",
       "    .dataframe tbody tr th:only-of-type {\n",
       "        vertical-align: middle;\n",
       "    }\n",
       "\n",
       "    .dataframe tbody tr th {\n",
       "        vertical-align: top;\n",
       "    }\n",
       "\n",
       "    .dataframe thead th {\n",
       "        text-align: right;\n",
       "    }\n",
       "</style>\n",
       "<table border=\"1\" class=\"dataframe\">\n",
       "  <thead>\n",
       "    <tr style=\"text-align: right;\">\n",
       "      <th></th>\n",
       "      <th>blockNumber</th>\n",
       "      <th>timeStamp</th>\n",
       "      <th>hash</th>\n",
       "      <th>nonce</th>\n",
       "      <th>blockHash</th>\n",
       "      <th>transactionIndex</th>\n",
       "      <th>from</th>\n",
       "      <th>to</th>\n",
       "      <th>value</th>\n",
       "      <th>gas</th>\n",
       "      <th>gasPrice</th>\n",
       "      <th>isError</th>\n",
       "      <th>txreceipt_status</th>\n",
       "      <th>input</th>\n",
       "      <th>contractAddress</th>\n",
       "      <th>cumulativeGasUsed</th>\n",
       "      <th>gasUsed</th>\n",
       "      <th>confirmations</th>\n",
       "      <th>methodId</th>\n",
       "      <th>functionName</th>\n",
       "    </tr>\n",
       "  </thead>\n",
       "  <tbody>\n",
       "    <tr>\n",
       "      <th>0</th>\n",
       "      <td>6875366</td>\n",
       "      <td>1728924708</td>\n",
       "      <td>0xbaf5280383ecb7edf5273945f5249147845dd3014d0d...</td>\n",
       "      <td>54</td>\n",
       "      <td>0xaa764eef8a3c993475909f2e6048c447fe3ecf018325...</td>\n",
       "      <td>62</td>\n",
       "      <td>0xe8e79b8b8c0481fa33a8e0fca902ad5754bfe1c3</td>\n",
       "      <td></td>\n",
       "      <td>0</td>\n",
       "      <td>884020</td>\n",
       "      <td>18493187776</td>\n",
       "      <td>0</td>\n",
       "      <td>1</td>\n",
       "      <td>0x60806040523480156200001157600080fd5b50604051...</td>\n",
       "      <td>0xe94254b3cee9ca341d8c71b787aa567c6729e388</td>\n",
       "      <td>6479068</td>\n",
       "      <td>875901</td>\n",
       "      <td>35</td>\n",
       "      <td>0x60806040</td>\n",
       "      <td></td>\n",
       "    </tr>\n",
       "    <tr>\n",
       "      <th>1</th>\n",
       "      <td>6875378</td>\n",
       "      <td>1728924876</td>\n",
       "      <td>0x1444ac98c2b47970756faa54abd26d2d5aa578e3648b...</td>\n",
       "      <td>34</td>\n",
       "      <td>0x1a3ddbac101211fa66a38332bff939a46db0942b87dc...</td>\n",
       "      <td>64</td>\n",
       "      <td>0x2cf8ed1664616483c12ef3113f6f62e68f1a810a</td>\n",
       "      <td>0xe94254b3cee9ca341d8c71b787aa567c6729e388</td>\n",
       "      <td>0</td>\n",
       "      <td>62265</td>\n",
       "      <td>20585222279</td>\n",
       "      <td>0</td>\n",
       "      <td>1</td>\n",
       "      <td>0x51c6590a000000000000000000000000000000000000...</td>\n",
       "      <td></td>\n",
       "      <td>5617219</td>\n",
       "      <td>61438</td>\n",
       "      <td>23</td>\n",
       "      <td>0x51c6590a</td>\n",
       "      <td>addLiquidity(uint256 spc)</td>\n",
       "    </tr>\n",
       "    <tr>\n",
       "      <th>2</th>\n",
       "      <td>6875385</td>\n",
       "      <td>1728924972</td>\n",
       "      <td>0x05d1c3119ca0662f7a38a5142a395b9d697224de9a9b...</td>\n",
       "      <td>23</td>\n",
       "      <td>0x6f45e0cb81d36fa4ccab46ddeeb3dd546b13c03ab9ed...</td>\n",
       "      <td>12</td>\n",
       "      <td>0xd34a37613a382ba503f1599f514c9788df3659c4</td>\n",
       "      <td>0xe94254b3cee9ca341d8c71b787aa567c6729e388</td>\n",
       "      <td>0</td>\n",
       "      <td>35729</td>\n",
       "      <td>20608775202</td>\n",
       "      <td>0</td>\n",
       "      <td>1</td>\n",
       "      <td>0xd7da2e72000000000000000000000000000000000000...</td>\n",
       "      <td></td>\n",
       "      <td>1045579</td>\n",
       "      <td>35368</td>\n",
       "      <td>16</td>\n",
       "      <td>0xd7da2e72</td>\n",
       "      <td></td>\n",
       "    </tr>\n",
       "    <tr>\n",
       "      <th>3</th>\n",
       "      <td>6875400</td>\n",
       "      <td>1728925200</td>\n",
       "      <td>0x6504ddae1c283ee7671a57172fad9047721ab767facb...</td>\n",
       "      <td>55</td>\n",
       "      <td>0x0fb287d1603897192f68381643bb8034dbec69ff27f7...</td>\n",
       "      <td>10</td>\n",
       "      <td>0xe8e79b8b8c0481fa33a8e0fca902ad5754bfe1c3</td>\n",
       "      <td>0xe94254b3cee9ca341d8c71b787aa567c6729e388</td>\n",
       "      <td>0</td>\n",
       "      <td>43261</td>\n",
       "      <td>20287650143</td>\n",
       "      <td>0</td>\n",
       "      <td>1</td>\n",
       "      <td>0x0a861f2a000000000000000000000000000000000000...</td>\n",
       "      <td></td>\n",
       "      <td>2732946</td>\n",
       "      <td>38374</td>\n",
       "      <td>1</td>\n",
       "      <td>0x0a861f2a</td>\n",
       "      <td>withdrawLiquidity(uint256 demandIndex)</td>\n",
       "    </tr>\n",
       "  </tbody>\n",
       "</table>\n",
       "</div>"
      ],
      "text/plain": [
       "  blockNumber   timeStamp                                               hash  \\\n",
       "0     6875366  1728924708  0xbaf5280383ecb7edf5273945f5249147845dd3014d0d...   \n",
       "1     6875378  1728924876  0x1444ac98c2b47970756faa54abd26d2d5aa578e3648b...   \n",
       "2     6875385  1728924972  0x05d1c3119ca0662f7a38a5142a395b9d697224de9a9b...   \n",
       "3     6875400  1728925200  0x6504ddae1c283ee7671a57172fad9047721ab767facb...   \n",
       "\n",
       "  nonce                                          blockHash transactionIndex  \\\n",
       "0    54  0xaa764eef8a3c993475909f2e6048c447fe3ecf018325...               62   \n",
       "1    34  0x1a3ddbac101211fa66a38332bff939a46db0942b87dc...               64   \n",
       "2    23  0x6f45e0cb81d36fa4ccab46ddeeb3dd546b13c03ab9ed...               12   \n",
       "3    55  0x0fb287d1603897192f68381643bb8034dbec69ff27f7...               10   \n",
       "\n",
       "                                         from  \\\n",
       "0  0xe8e79b8b8c0481fa33a8e0fca902ad5754bfe1c3   \n",
       "1  0x2cf8ed1664616483c12ef3113f6f62e68f1a810a   \n",
       "2  0xd34a37613a382ba503f1599f514c9788df3659c4   \n",
       "3  0xe8e79b8b8c0481fa33a8e0fca902ad5754bfe1c3   \n",
       "\n",
       "                                           to value     gas     gasPrice  \\\n",
       "0                                                 0  884020  18493187776   \n",
       "1  0xe94254b3cee9ca341d8c71b787aa567c6729e388     0   62265  20585222279   \n",
       "2  0xe94254b3cee9ca341d8c71b787aa567c6729e388     0   35729  20608775202   \n",
       "3  0xe94254b3cee9ca341d8c71b787aa567c6729e388     0   43261  20287650143   \n",
       "\n",
       "  isError txreceipt_status                                              input  \\\n",
       "0       0                1  0x60806040523480156200001157600080fd5b50604051...   \n",
       "1       0                1  0x51c6590a000000000000000000000000000000000000...   \n",
       "2       0                1  0xd7da2e72000000000000000000000000000000000000...   \n",
       "3       0                1  0x0a861f2a000000000000000000000000000000000000...   \n",
       "\n",
       "                              contractAddress cumulativeGasUsed gasUsed  \\\n",
       "0  0xe94254b3cee9ca341d8c71b787aa567c6729e388           6479068  875901   \n",
       "1                                                       5617219   61438   \n",
       "2                                                       1045579   35368   \n",
       "3                                                       2732946   38374   \n",
       "\n",
       "  confirmations    methodId                            functionName  \n",
       "0            35  0x60806040                                          \n",
       "1            23  0x51c6590a               addLiquidity(uint256 spc)  \n",
       "2            16  0xd7da2e72                                          \n",
       "3             1  0x0a861f2a  withdrawLiquidity(uint256 demandIndex)  "
      ]
     },
     "execution_count": 2,
     "metadata": {},
     "output_type": "execute_result"
    }
   ],
   "source": [
    "import pandas as pd\n",
    "transactions_df = pd.DataFrame(transactions['result'])\n",
    "transactions_df"
   ]
  },
  {
   "cell_type": "markdown",
   "id": "ef701d4d-5d6e-427d-81f8-09fa7f2daa77",
   "metadata": {},
   "source": [
    "# Event Logs Analysis"
   ]
  },
  {
   "cell_type": "code",
   "execution_count": 3,
   "id": "57659395-b6b4-4a61-b9a3-b8567ae47da3",
   "metadata": {},
   "outputs": [
    {
     "data": {
      "text/plain": [
       "[{'event': 'LiquidityAdded',\n",
       "  'provider': '0xe8e79b8b8c0481fa33a8e0fca902ad5754bfe1c3',\n",
       "  'x': 1,\n",
       "  'y': 10},\n",
       " {'event': 'LiquidityAdded',\n",
       "  'provider': '0x2cf8ed1664616483c12ef3113f6f62e68f1a810a',\n",
       "  'x': 5,\n",
       "  'y': 50},\n",
       " {'event': 'Swapped',\n",
       "  'trader': '0xd34a37613a382ba503f1599f514c9788df3659c4',\n",
       "  'x': 1,\n",
       "  'y': 12,\n",
       "  'isXtoY': True},\n",
       " {'event': 'LiquidityWithdrawn',\n",
       "  'provider': '0xe8e79b8b8c0481fa33a8e0fca902ad5754bfe1c3',\n",
       "  'x': 1,\n",
       "  'y': 14}]"
      ]
     },
     "execution_count": 3,
     "metadata": {},
     "output_type": "execute_result"
    }
   ],
   "source": [
    "decoded_events = [decode_event(event, event_signature_hashes) for event in events[\"result\"]]\n",
    "decoded_events"
   ]
  },
  {
   "cell_type": "code",
   "execution_count": 11,
   "id": "e34ca463",
   "metadata": {},
   "outputs": [
    {
     "name": "stdout",
     "output_type": "stream",
     "text": [
      "0xe8e79b8b8c0481fa33a8e0fca902ad5754bfe1c3 1 10\n"
     ]
    },
    {
     "data": {
      "text/plain": [
       "False"
      ]
     },
     "execution_count": 11,
     "metadata": {},
     "output_type": "execute_result"
    }
   ],
   "source": [
    "X, Y, r, k, LPs = [0], [0], [0], [0], {}\n",
    "decoded_event = decoded_events[0]\n",
    "if decoded_event['event'] == 'LiquidityAdded':\n",
    "    provider, x, y = decoded_event['provider'], decoded_event['x'], decoded_event['y']\n",
    "    print(provider, x, y)\n",
    "    X.append(X[-1] + x), Y.append(Y[-1] + y)\n",
    "    k.append(X[-1] * Y[-1]), r.append(X[-1] / Y[-1])\n",
    "    if provider in list(LPs.keys()):\n",
    "        LPs[provider] += sqrt(x * y)\n"
   ]
  },
  {
   "cell_type": "code",
   "execution_count": null,
   "id": "00552966",
   "metadata": {},
   "outputs": [],
   "source": []
  }
 ],
 "metadata": {
  "kernelspec": {
   "display_name": "base",
   "language": "python",
   "name": "python3"
  },
  "language_info": {
   "codemirror_mode": {
    "name": "ipython",
    "version": 3
   },
   "file_extension": ".py",
   "mimetype": "text/x-python",
   "name": "python",
   "nbconvert_exporter": "python",
   "pygments_lexer": "ipython3",
   "version": "3.9.18"
  }
 },
 "nbformat": 4,
 "nbformat_minor": 5
}
