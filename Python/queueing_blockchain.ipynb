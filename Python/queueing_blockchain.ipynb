{
 "cells": [
  {
   "cell_type": "markdown",
   "metadata": {},
   "source": [
    "# Blockchain queue\n",
    "\n",
    "Blockchain efficiency is characterized by the throughput (how many transactions are confirmed per time unit) and latency (the average confirmation time of a transaction). These quantities of interest are study within the frame of a queueing model. The pending transactions arrive at a Poisson rate to form a queue, a fixed number $b$ (the first which entered the queue) will be processed in a block. The block generation time has distribution $G$ on $\\mathbb{R}_+$. The result is a $M/G^b/1$ queue. We are going to simulate trajectories of this process to study the average confirmation time and the number of pending transaction in the queue at stationarity. Let us assume that $G$ is exponential, which corresponds to the empirical data on the block arrival time in the bitcoin blockchain.\n",
    "\n",
    "Denote by $(S_i)$ the transaction arrival time and $(T_i)$ the blockarrival times.We denote by $N_t$ the number of transaction and $M_t$ the number of block up to time $t>0$. Both of the processes are Poisson process with respective intensity $\\lambda$ and $\\mu$."
   ]
  },
  {
   "cell_type": "code",
   "execution_count": 2,
   "metadata": {},
   "outputs": [],
   "source": [
    "import numpy as np\n",
    "import pandas as pd\n",
    "import matplotlib.pyplot as plt\n",
    "import seaborn as sns"
   ]
  },
  {
   "cell_type": "code",
   "execution_count": 29,
   "metadata": {},
   "outputs": [],
   "source": [
    "# Parameters of the transaction arrival, the block size and the service time\n",
    "μ, λ, b = 1 / 10, 1, 10\n",
    "# We set a time horizon, the higher the better to reach stationarity\n",
    "t = 100\n",
    "N_t, M_t = np.random.poisson(λ * t), np.random.poisson(μ * t)\n",
    "S, T = np.sort(np.random.uniform(low = 0, high = t, size = N_t)), np.sort(np.random.uniform(low = 0, high = t, size = M_t))\n",
    "T = np.insert(T, 0, 0)"
   ]
  },
  {
   "cell_type": "code",
   "execution_count": 35,
   "metadata": {},
   "outputs": [
    {
     "name": "stdout",
     "output_type": "stream",
     "text": [
      "[2.31261507 2.40739255 4.41698404 4.58368965 5.20643509 5.53732112\n",
      " 6.11382121 6.42434934 6.99663202 7.03752026]\n",
      "[ 7.66280745  9.66985144  9.67991834  9.74840034 10.7374923  13.56234834\n",
      " 13.71753433 15.5402014  16.10536734 19.49507446]\n",
      "[20.59049412 22.56524462 23.34420112 23.72166546 26.13425805 26.23710103\n",
      " 28.24172611 28.50900864 28.52492461 29.0947932 ]\n",
      "[29.6450713  30.004947   30.37500008 31.24869214 31.42968548 31.50049525\n",
      " 35.5462508  35.80181936 36.63520475 38.17724943]\n",
      "[38.49107715 38.65210616 39.16064232 39.50683672 40.24498958 41.13333834\n",
      " 41.83018052 44.65441936 44.75808624 49.14163607]\n",
      "[50.55548522 52.32535604 52.37227539 52.41000679 53.25069059 53.25535166\n",
      " 59.42423991 61.26602312 61.55321928 62.86915763]\n",
      "[63.37878161 64.80859222 64.88897688 67.3277136  68.05968697 68.58026406\n",
      " 69.06210132 69.9240518  70.51565219 72.06614874]\n"
     ]
    },
    {
     "data": {
      "text/plain": [
       "25.07856912861772"
      ]
     },
     "execution_count": 35,
     "metadata": {},
     "output_type": "execute_result"
    }
   ],
   "source": [
    "queue = np.array([])\n",
    "conf_time = []\n",
    "for k in range(len(T)-1):\n",
    "    \n",
    "    queue = np.append(queue, S[np.logical_and(S>T[k], S < T[k+1])])\n",
    "    print(queue[0:b])\n",
    "    if len(queue) > b:\n",
    "        conf_time.append(np.mean(T[k+1] - queue[0:b]))\n",
    "        queue = queue[b:]\n",
    "    else:\n",
    "        conf_time.append(np.mean(T[k+1] - queue))\n",
    "        queue = np.array([])\n",
    "np.mean(conf_time)"
   ]
  },
  {
   "cell_type": "code",
   "execution_count": 1,
   "metadata": {},
   "outputs": [],
   "source": [
    "from scipy import optimize\n",
    "def f(x):\n",
    "    return (x**b - μ /(μ + λ - λ * x))"
   ]
  },
  {
   "cell_type": "code",
   "execution_count": 3,
   "metadata": {},
   "outputs": [
    {
     "data": {
      "text/plain": [
       "0.9659482365412922"
      ]
     },
     "execution_count": 3,
     "metadata": {},
     "output_type": "execute_result"
    }
   ],
   "source": [
    "sum([0.491339608377670,0.249924997537324,0.127126947269431,0.0646644427971925,0.0328922405596748])"
   ]
  },
  {
   "cell_type": "code",
   "execution_count": 5,
   "metadata": {},
   "outputs": [
    {
     "data": {
      "text/plain": [
       "0.9958270506654306"
      ]
     },
     "execution_count": 5,
     "metadata": {},
     "output_type": "execute_result"
    }
   ],
   "source": [
    "sum([0.665736757668534,0.222531327130710,0.074384042979363,0.0248638513095753,0.00831107157724838])"
   ]
  },
  {
   "cell_type": "code",
   "execution_count": null,
   "metadata": {},
   "outputs": [],
   "source": []
  }
 ],
 "metadata": {
  "kernelspec": {
   "display_name": "Python 3",
   "language": "python",
   "name": "python3"
  },
  "language_info": {
   "codemirror_mode": {
    "name": "ipython",
    "version": 3
   },
   "file_extension": ".py",
   "mimetype": "text/x-python",
   "name": "python",
   "nbconvert_exporter": "python",
   "pygments_lexer": "ipython3",
   "version": "3.8.5"
  }
 },
 "nbformat": 4,
 "nbformat_minor": 4
}
