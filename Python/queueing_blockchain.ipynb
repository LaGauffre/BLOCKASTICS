{
 "cells": [
  {
   "cell_type": "code",
   "execution_count": 3,
   "metadata": {},
   "outputs": [],
   "source": [
    "import numpy as np\n",
    "import pandas as pd\n",
    "import matplotlib.pyplot as plt\n",
    "import seaborn as sns\n",
    "import scipy.special as sp"
   ]
  },
  {
   "cell_type": "markdown",
   "metadata": {},
   "source": [
    "# Decentrality\n",
    "\n",
    "We can measure decentrality by calculating the expected Shannon entropy of the resulting distribution of coins among the peers"
   ]
  },
  {
   "cell_type": "code",
   "execution_count": 26,
   "metadata": {},
   "outputs": [
    {
     "name": "stdout",
     "output_type": "stream",
     "text": [
      "[1. 1. 1. 1.] 4.0\n"
     ]
    },
    {
     "data": {
      "text/plain": [
       "(1.083333333333333, 1.3862943611198906)"
      ]
     },
     "execution_count": 26,
     "metadata": {},
     "output_type": "execute_result"
    }
   ],
   "source": [
    "p = 4\n",
    "N_x, N = np.ones(p), sum(N_x) \n",
    "print(N_x, N)\n",
    "-sum(N_x/N*(sp.psi(N_x + 1) - sp.psi(N + 1))), np.log(p)"
   ]
  },
  {
   "cell_type": "markdown",
   "metadata": {},
   "source": [
    "# Blockchain queue\n",
    "\n",
    "Blockchain efficiency is characterized by the throughput (how many transactions are confirmed per time unit) and latency (the average confirmation time of a transaction). These quantities of interest are study within the frame of a queueing model. The pending transactions arrive at a Poisson rate to form a queue, a fixed number $b$ (the first which entered the queue) will be processed in a block. The block generation time has distribution $G$ on $\\mathbb{R}_+$. The result is a $M/G^b/1$ queue. We are going to simulate trajectories of this process to study the average confirmation time and the number of pending transaction in the queue at stationarity. Let us assume that $G$ is exponential, which corresponds to the empirical data on the block arrival time in the bitcoin blockchain.\n",
    "\n",
    "Denote by $(S_i)$ the transaction arrival time and $(T_i)$ the blockarrival times.We denote by $N_t$ the number of transaction and $M_t$ the number of block up to time $t>0$. Both of the processes are Poisson process with respective intensity $\\lambda$ and $\\mu$."
   ]
  },
  {
   "cell_type": "code",
   "execution_count": 1,
   "metadata": {},
   "outputs": [],
   "source": []
  },
  {
   "cell_type": "code",
   "execution_count": 184,
   "metadata": {},
   "outputs": [],
   "source": [
    "# Parameters of the transaction arrival, the block size and the service time\n",
    "μ, λ, b = 3, 2, 3\n",
    "# We set a time horizon, the higher the better to reach stationarity\n",
    "t = 10000\n",
    "N_t, M_t = np.random.poisson(λ * t), np.random.poisson(μ * t)\n",
    "S, T = np.sort(np.random.uniform(low = 0, high = t, size = N_t)), np.sort(np.random.uniform(low = 0, high = t, size = M_t))\n",
    "T = np.insert(T, 0, 0)"
   ]
  },
  {
   "cell_type": "code",
   "execution_count": 185,
   "metadata": {},
   "outputs": [],
   "source": [
    "queue = np.array([])\n",
    "server = []\n",
    "conf_time = []\n",
    "for k in range(len(T)-1):    \n",
    "    queue = np.append(queue, S[np.logical_and(S>T[k], S < T[k+1])])\n",
    "    if len(queue) > b:\n",
    "        conf_time.append(np.sum(T[k+1] - queue[:b]))\n",
    "        server.append(b)\n",
    "        queue = queue[b:]\n",
    "    else:\n",
    "        if len(queue) > 0:\n",
    "            conf_time.append(np.sum(T[k+1] - queue))\n",
    "            server.append(len(queue))\n",
    "            queue = np.array([])\n",
    "        else:\n",
    "            server.append(0)\n"
   ]
  },
  {
   "cell_type": "code",
   "execution_count": 186,
   "metadata": {},
   "outputs": [
    {
     "name": "stdout",
     "output_type": "stream",
     "text": [
      "0.35569455176670367 0.661092161472994\n"
     ]
    }
   ],
   "source": [
    "print(np.sum(conf_time) / sum(S < T[-1]), np.mean(server))"
   ]
  },
  {
   "cell_type": "code",
   "execution_count": 187,
   "metadata": {},
   "outputs": [
    {
     "name": "stdout",
     "output_type": "stream",
     "text": [
      "0.3596746103626663 0.6666666666666665\n"
     ]
    }
   ],
   "source": [
    "import scipy as sc\n",
    "def f(x):\n",
    "    return(- λ / μ *x**(b+1) + x**b * (λ / μ + 1) - 1 )\n",
    "\n",
    "sol = sc.optimize.root_scalar(f, bracket=[1.00001, 100000], method='brentq')\n",
    "p = 1/sol.root\n",
    "geom_pmf = np.array([p**k * (1-p) for k in np.arange(0,b+1)])\n",
    "latency, throughput = p/(1-p)/λ, sum(np.arange(0,b+1) * geom_pmf) + p**(b+1)*b\n",
    "print(latency, throughput)"
   ]
  },
  {
   "cell_type": "code",
   "execution_count": null,
   "metadata": {},
   "outputs": [],
   "source": []
  }
 ],
 "metadata": {
  "kernelspec": {
   "display_name": "Python 3",
   "language": "python",
   "name": "python3"
  },
  "language_info": {
   "codemirror_mode": {
    "name": "ipython",
    "version": 3
   },
   "file_extension": ".py",
   "mimetype": "text/x-python",
   "name": "python",
   "nbconvert_exporter": "python",
   "pygments_lexer": "ipython3",
   "version": "3.8.5"
  }
 },
 "nbformat": 4,
 "nbformat_minor": 4
}
