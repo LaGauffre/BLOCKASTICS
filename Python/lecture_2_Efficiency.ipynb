{
 "cells": [
  {
   "cell_type": "code",
   "execution_count": 2,
   "metadata": {},
   "outputs": [],
   "source": [
    "import numpy as np\n",
    "import pandas as pd\n",
    "import matplotlib.pyplot as plt\n",
    "import seaborn as sns\n",
    "import scipy.special as sp\n",
    "import scipy.stats as ss\n",
    "import scipy as sc"
   ]
  },
  {
   "cell_type": "markdown",
   "metadata": {},
   "source": [
    "# Blockchain queue\n",
    "\n",
    "Blockchain efficiency is characterized by the \n",
    "- throughput (how many transactions are confirmed per time unit) \n",
    "- latency (the average confirmation time of a transaction). \n",
    "\n",
    "These quantities are studied within the frame of a queueing model. \n",
    "\n",
    "- The pending transactions arrive at a Poisson rate $\\lambda$ to form a queue, \n",
    "- a fixed number $b$ (the first which entered the queue) will be processed in a block. \n",
    "- The block generation time has distribution $G$ on $\\mathbb{R}_+$. \n",
    "\n",
    "The result is a $M/G^b/1$ queue. \n",
    "\n",
    "We are going to simulate trajectories of this process to study the average confirmation time and the number of pending transaction in the queue at stationarity. \n",
    "\n",
    "Let us assume that $G$ is exponential with mean $1/\\mu$, which corresponds to the empirical data on the block arrival time in the bitcoin blockchain.\n",
    "\n",
    "Denote by $(S_i)$ the transaction arrival time and $(T_i)$ the blockarrival times.\n",
    "\n",
    "We denote by $N_t$ the number of transaction and $M_t$ the number of block up to time $t>0$. Both of the processes are Poisson process with respective intensity $\\lambda$ and $\\mu$."
   ]
  },
  {
   "cell_type": "code",
   "execution_count": 3,
   "metadata": {},
   "outputs": [
    {
     "name": "stdout",
     "output_type": "stream",
     "text": [
      "stationarity condition holds? True\n"
     ]
    }
   ],
   "source": [
    "# Parameters of the transaction arrival, the block size and the service time\n",
    "μ, λ, b = 1, 2, 4\n",
    "print(\"stationarity condition holds? \"+ str(λ < b * μ) )\n",
    "# We set a time horizon, the higher the better to reach stationarity\n",
    "t = 10000\n",
    "# Number of transactions issued and number of blocks generated\n",
    "N_t, M_t = np.random.poisson(λ * t), np.random.poisson(μ * t)\n",
    "# Transaction and block arrival times\n",
    "S, T = np.sort(np.random.uniform(low = 0, high = t, size = N_t)), np.sort(np.random.uniform(low = 0, high = t, size = M_t))\n",
    "T = np.insert(T, 0, 0)"
   ]
  },
  {
   "cell_type": "code",
   "execution_count": 4,
   "metadata": {},
   "outputs": [],
   "source": [
    "queue = np.array([])\n",
    "server = []\n",
    "conf_time = []\n",
    "for k in range(len(T)-1):    \n",
    "    queue = np.append(queue, S[np.logical_and(S>T[k], S < T[k+1])])\n",
    "    if len(queue) > b:\n",
    "        conf_time.append(np.sum(T[k+1] - queue[:b]))\n",
    "        server.append(b)\n",
    "        queue = queue[b:]\n",
    "    else:\n",
    "        if len(queue) > 0:\n",
    "            conf_time.append(np.sum(T[k+1] -queue))\n",
    "            server.append(len(queue))\n",
    "            queue = np.array([])\n",
    "        else:\n",
    "            server.append(0)\n"
   ]
  },
  {
   "cell_type": "code",
   "execution_count": 5,
   "metadata": {},
   "outputs": [
    {
     "name": "stdout",
     "output_type": "stream",
     "text": [
      "1.380139010673382 1.977886243649766\n"
     ]
    }
   ],
   "source": [
    "print(np.sum(conf_time) / sum(S < T[-1]), np.mean(server))"
   ]
  },
  {
   "cell_type": "markdown",
   "metadata": {},
   "source": [
    "Theoreticaly the mean confirmation time is given by \n",
    "\n",
    "$$\n",
    "\\frac{p}{(1-p)\\lambda}\n",
    "$$\n",
    "where $p=1/z^\\ast$ and $z^\\ast$ is the only root to \n",
    "$$\n",
    "-\\frac{\\lambda}{\\mu}z^{b+1}+z^b\\left(\\frac{\\lambda}{\\mu}+1\\right) - 1,\n",
    "$$\n",
    "such that $|z^\\ast$|>1."
   ]
  },
  {
   "cell_type": "code",
   "execution_count": 6,
   "metadata": {},
   "outputs": [
    {
     "name": "stdout",
     "output_type": "stream",
     "text": [
      "1.4325233242764148 1.9999999999999987\n"
     ]
    }
   ],
   "source": [
    "def f(x):\n",
    "    return(- λ / μ *x**(b+1) + x**b * (λ / μ + 1) - 1 )\n",
    "\n",
    "sol = sc.optimize.root_scalar(f, bracket=[1.00001, 100000], method='brentq')\n",
    "p = 1/sol.root\n",
    "geom_pmf = np.array([p**k * (1-p) for k in np.arange(0,b+1)])\n",
    "latency, throughput = p/(1-p)/λ, sum(np.arange(0,b+1) * geom_pmf) + p**(b+1)*b\n",
    "\n",
    "print(latency, throughput)"
   ]
  },
  {
   "cell_type": "markdown",
   "metadata": {},
   "source": [
    "What is the server occupancy?"
   ]
  },
  {
   "cell_type": "code",
   "execution_count": 7,
   "metadata": {},
   "outputs": [
    {
     "data": {
      "image/png": "[encoded data removed]",
      "text/plain": [
       "<Figure size 432x288 with 1 Axes>"
      ]
     },
     "metadata": {
      "needs_background": "light"
     },
     "output_type": "display_data"
    }
   ],
   "source": [
    "# sum(server == 0)/len(server)\n",
    "plt.bar(np.arange(0, b+1,1), np.array([np.mean(np.array(server)==k) for k in range(b+1)]), alpha = 0.5)\n",
    "plt.xticks(np.arange(0, b+1,1))\n",
    "plt.xlabel('Number of transactions in the server')\n",
    "plt.title('Probability mass function')\n",
    "sns.despine()"
   ]
  },
  {
   "cell_type": "code",
   "execution_count": null,
   "metadata": {},
   "outputs": [],
   "source": []
  }
 ],
 "metadata": {
  "kernelspec": {
   "display_name": "Python 3",
   "language": "python",
   "name": "python3"
  },
  "language_info": {
   "codemirror_mode": {
    "name": "ipython",
    "version": 3
   },
   "file_extension": ".py",
   "mimetype": "text/x-python",
   "name": "python",
   "nbconvert_exporter": "python",
   "pygments_lexer": "ipython3",
   "version": "3.8.5"
  }
 },
 "nbformat": 4,
 "nbformat_minor": 4
}
