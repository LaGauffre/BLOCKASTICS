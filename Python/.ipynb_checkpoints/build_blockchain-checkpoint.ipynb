{
 "cells": [
  {
   "cell_type": "markdown",
   "metadata": {},
   "source": [
    "# Building a blockchain in python"
   ]
  },
  {
   "cell_type": "code",
   "execution_count": 82,
   "metadata": {},
   "outputs": [],
   "source": [
    "import datetime\n",
    "import hashlib\n",
    "import numpy as np\n",
    "import matplotlib.pyplot as plt"
   ]
  },
  {
   "cell_type": "markdown",
   "metadata": {},
   "source": [
    "## The SHA-256 function"
   ]
  },
  {
   "cell_type": "code",
   "execution_count": 53,
   "metadata": {},
   "outputs": [
    {
     "data": {
      "text/plain": [
       "'44f35faf6794fb53e4ab82540e710659e78086a3fd4b1a2d1b32b94a551790bc'"
      ]
     },
     "execution_count": 53,
     "metadata": {},
     "output_type": "execute_result"
    }
   ],
   "source": [
    "hashlib.sha256(b\"Welcome to the BFS summer school\").hexdigest()"
   ]
  },
  {
   "cell_type": "markdown",
   "metadata": {},
   "source": [
    "## The block class"
   ]
  },
  {
   "cell_type": "code",
   "execution_count": 54,
   "metadata": {},
   "outputs": [],
   "source": [
    "class Block:\n",
    "    hash = None # Hash of the block info\n",
    "    index = 0 # Index of the block inside the chain\n",
    "    timestamp = datetime.datetime.now() # Time of creation of the block\n",
    "    nonce = 0 # Solution to the cryptopuzzle\n",
    "    transactions = [] # Transaction data\n",
    "    mined = False # Boolean set to True whenever the problem has been solved\n",
    "    previous_hash = 0x0 # Hash of the previous block\n",
    "    \n",
    "\n",
    "    def __init__(self, transactions):\n",
    "        self.transactions = transactions\n",
    "\n",
    "    def hash(self):# Compute the hash of the blockdata\n",
    "        h = hashlib.sha256()\n",
    "        h.update(\n",
    "        str(self.nonce).encode('utf-8') +\n",
    "        str(self.transactions).encode('utf-8') +\n",
    "        str(self.previous_hash).encode('utf-8') \n",
    "        )\n",
    "        return h.hexdigest()\n",
    "    \n",
    "    # Add a new transaction to a block\n",
    "    def new_transaction(self, sender, recipient, amount, fee):\n",
    "        transaction = {\n",
    "            'sender': sender,\n",
    "            'recipient': recipient,\n",
    "            'amount': amount,\n",
    "            'fee' : fee\n",
    "        }\n",
    "        self.transactions.append(transaction)\n",
    "    \n",
    "    # Print the block info\n",
    "    def __str__(self):\n",
    "        return \"Block Height: \" + str(self.index) + \\\n",
    "    \"\\nBlock Hash: \" + str(self.hash()) + \\\n",
    "    \"\\nTime:\" + str(self.timestamp) + \\\n",
    "    \"\\nBlock data: \" + str(self.transactions) + \\\n",
    "    \"\\nMined: \" + str(self.mined) + \\\n",
    "    \"\\nPrevious block hash: \" + str(self.previous_hash) +\"\\n--------------\"\n",
    "    \n",
    "    # Solve the cryptopuzzle of the block\n",
    "    def mine(self, diff):\n",
    "        target = 2**(256-diff)\n",
    "        while int(self.hash(), 16) > target:\n",
    "            self.nonce = int(np.random.uniform(low = 0, high = 2**32 + 1))\n",
    "        self.mined = True\n",
    "        self.timestamp = datetime.datetime.now()\n"
   ]
  },
  {
   "cell_type": "code",
   "execution_count": 84,
   "metadata": {},
   "outputs": [
    {
     "name": "stdout",
     "output_type": "stream",
     "text": [
      "Block Height: 0\n",
      "Block Hash: a52bea61a9f4131588cc101e8e1c731fa9f69f16934c5ab3a05a2134a42c13e0\n",
      "Time:2021-07-12 10:03:04.812744\n",
      "Block data: [{'sender': 'Coinbase', 'recipient': 'Satoshi', 'amount': 100, 'fee': 1}]\n",
      "Mined: False\n",
      "Previous block hash: 0\n",
      "--------------\n"
     ]
    },
    {
     "name": "stderr",
     "output_type": "stream",
     "text": [
      "<ipython-input-84-5e98c6deaf18>:6: UserWarning: Matplotlib is currently using module://ipykernel.pylab.backend_inline, which is a non-GUI backend, so cannot show the figure.\n",
      "  fig.show()\n"
     ]
    },
    {
     "data": {
      "text/plain": [
       "<Figure size 432x288 with 0 Axes>"
      ]
     },
     "metadata": {},
     "output_type": "display_data"
    }
   ],
   "source": [
    "B1 = Block([])\n",
    "B1.new_transaction(\"Coinbase\", \"Satoshi\", 100, 1 )\n",
    "print(B1)\n",
    "B1.__str__()\n",
    "fig= plt.figure()\n",
    "fig.show()"
   ]
  },
  {
   "cell_type": "code",
   "execution_count": 81,
   "metadata": {},
   "outputs": [
    {
     "data": {
      "text/plain": [
       "''"
      ]
     },
     "execution_count": 81,
     "metadata": {},
     "output_type": "execute_result"
    }
   ],
   "source": [
    "from fpdf import FPDF\n",
    "\n",
    "pdf = FPDF('L', 'mm', 'A4')\n",
    "pdf.add_page()\n",
    "pdf.set_xy(0, 0)\n",
    "pdf.set_font('times', 'B', 12)\n",
    "pdf.multi_cell(0,5,txt=B1.__str__())\n",
    "pdf.output('../Figures/test.pdf', 'F')"
   ]
  },
  {
   "cell_type": "markdown",
   "metadata": {},
   "source": [
    "## The blockchain class"
   ]
  },
  {
   "cell_type": "code",
   "execution_count": 57,
   "metadata": {},
   "outputs": [],
   "source": [
    "class Blockchain:\n",
    "    diff = 0\n",
    "    maxNonce = 2**32\n",
    "    target = 2 ** (256-diff)\n",
    "\n",
    "    def __init__(self, genesis_block):\n",
    "        self.chain = [genesis_block]\n",
    "        self.pending_transactions = []\n",
    "        \n",
    "    def new_transaction(self, sender, recipient, amount, fee):\n",
    "        transaction = {\n",
    "            'sender': sender,\n",
    "            'recipient': recipient,\n",
    "            'amount': amount,\n",
    "            'fee' : fee\n",
    "        }\n",
    "        self.pending_transactions.append(transaction) \n",
    "    \n",
    "    def add_block(self):\n",
    "        blockchain.pending_transactions\n",
    "        current_block = blockchain.chain[-1]\n",
    "        new_block = Block(blockchain.pending_transactions)\n",
    "        new_block.index = current_block.index + 1\n",
    "        new_block.previous_hash = current_block.hash()\n",
    "        blockchain.chain.append(new_block)\n",
    "        blockchain.pending_transactions = []\n",
    "    \n",
    "    def adjust_difficulty(self, new_diff):\n",
    "        self.diff = new_diff\n",
    "        "
   ]
  },
  {
   "cell_type": "code",
   "execution_count": 60,
   "metadata": {},
   "outputs": [
    {
     "name": "stdout",
     "output_type": "stream",
     "text": [
      "Block Height: 0\n",
      "Block Hash: 32369d15916932bd1ade51c0cae9f32f5ded2cccd29d81d7eec27066c813e39d\n",
      "Time:2021-07-12 10:03:04.812744\n",
      "Block data: []\n",
      "Mined: False\n",
      "Previous block hash: 0\n",
      "--------------\n"
     ]
    }
   ],
   "source": [
    "# print(Block([]))\n",
    "genesis_block = Block([])\n",
    "blockchain = Blockchain(genesis_block)\n",
    "print(blockchain.chain[0])\n",
    "\n",
    "blockchain.new_transaction(\"Coinbase\", \"Satoshi\", 100, 0)\n",
    "blockchain.new_transaction(\"Coinbase\", \"Pierre-O\", 100, 0)"
   ]
  },
  {
   "cell_type": "code",
   "execution_count": 61,
   "metadata": {},
   "outputs": [],
   "source": [
    "# blockchain.pending_transactions\n",
    "# current_block = blockchain.chain[-1]\n",
    "# new_block = Block(blockchain.pending_transactions)\n",
    "# new_block.index = current_block.index + 1\n",
    "# new_block.previous_hash = current_block.hash()\n",
    "# blockchain.chain.append(new_block)\n",
    "blockchain.add_block()"
   ]
  },
  {
   "cell_type": "code",
   "execution_count": 62,
   "metadata": {},
   "outputs": [
    {
     "name": "stdout",
     "output_type": "stream",
     "text": [
      "Block Height: 1\n",
      "Block Hash: fd6fe9def137a73e59998df2faf64737f091c3a3cf675e967f609f4a6b17acd5\n",
      "Time:2021-07-12 10:03:04.812744\n",
      "Block data: [{'sender': 'Coinbase', 'recipient': 'Satoshi', 'amount': 100, 'fee': 0}, {'sender': 'Coinbase', 'recipient': 'Pierre-O', 'amount': 100, 'fee': 0}]\n",
      "Mined: False\n",
      "Previous block hash: 32369d15916932bd1ade51c0cae9f32f5ded2cccd29d81d7eec27066c813e39d\n",
      "--------------\n"
     ]
    }
   ],
   "source": [
    "print(blockchain.chain[-1])"
   ]
  },
  {
   "cell_type": "code",
   "execution_count": 63,
   "metadata": {},
   "outputs": [],
   "source": [
    "blockchain.adjust_difficulty( 4)\n",
    "blockchain.chain[-1].mine(blockchain.diff)"
   ]
  },
  {
   "cell_type": "code",
   "execution_count": 64,
   "metadata": {},
   "outputs": [
    {
     "name": "stdout",
     "output_type": "stream",
     "text": [
      "Block Height: 1\n",
      "Block Hash: 03ef1214f95c7873e8b412e787b58ea9bfe6cd9f4ec077d088e6020057117958\n",
      "Time:2021-07-12 10:04:23.537764\n",
      "Block data: [{'sender': 'Coinbase', 'recipient': 'Satoshi', 'amount': 100, 'fee': 0}, {'sender': 'Coinbase', 'recipient': 'Pierre-O', 'amount': 100, 'fee': 0}]\n",
      "Mined: True\n",
      "Previous block hash: 32369d15916932bd1ade51c0cae9f32f5ded2cccd29d81d7eec27066c813e39d\n",
      "--------------\n"
     ]
    }
   ],
   "source": [
    "print(blockchain.chain[-1])"
   ]
  },
  {
   "cell_type": "code",
   "execution_count": 65,
   "metadata": {},
   "outputs": [],
   "source": [
    "blockchain.add_block()"
   ]
  },
  {
   "cell_type": "code",
   "execution_count": 66,
   "metadata": {},
   "outputs": [
    {
     "name": "stdout",
     "output_type": "stream",
     "text": [
      "Block Height: 2\n",
      "Block Hash: f9a7fa57da91ee5d89e85e001cd4fccb90d3b779ffea1a8bddf6ce09f52760fb\n",
      "Time:2021-07-12 10:03:04.812744\n",
      "Block data: []\n",
      "Mined: False\n",
      "Previous block hash: 03ef1214f95c7873e8b412e787b58ea9bfe6cd9f4ec077d088e6020057117958\n",
      "--------------\n"
     ]
    }
   ],
   "source": [
    "print(blockchain.chain[-1])"
   ]
  },
  {
   "cell_type": "code",
   "execution_count": 67,
   "metadata": {},
   "outputs": [
    {
     "name": "stdout",
     "output_type": "stream",
     "text": [
      "Block Height: 2\n",
      "Block Hash: 093941e2c34d1645cc7b627029f306add63916817428e54eb7a0c224a7d91bc2\n",
      "Time:2021-07-12 10:04:55.230318\n",
      "Block data: []\n",
      "Mined: True\n",
      "Previous block hash: 03ef1214f95c7873e8b412e787b58ea9bfe6cd9f4ec077d088e6020057117958\n",
      "--------------\n"
     ]
    }
   ],
   "source": [
    "blockchain.chain[-1].mine(blockchain.diff)\n",
    "print(blockchain.chain[-1])"
   ]
  },
  {
   "cell_type": "code",
   "execution_count": null,
   "metadata": {},
   "outputs": [],
   "source": []
  }
 ],
 "metadata": {
  "kernelspec": {
   "display_name": "Python 3",
   "language": "python",
   "name": "python3"
  },
  "language_info": {
   "codemirror_mode": {
    "name": "ipython",
    "version": 3
   },
   "file_extension": ".py",
   "mimetype": "text/x-python",
   "name": "python",
   "nbconvert_exporter": "python",
   "pygments_lexer": "ipython3",
   "version": "3.8.5"
  }
 },
 "nbformat": 4,
 "nbformat_minor": 4
}
