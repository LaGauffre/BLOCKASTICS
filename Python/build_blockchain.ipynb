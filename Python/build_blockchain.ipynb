{
 "cells": [
  {
   "cell_type": "markdown",
   "metadata": {},
   "source": [
    "# Building a blockchain in python"
   ]
  },
  {
   "cell_type": "code",
   "execution_count": 6,
   "metadata": {},
   "outputs": [],
   "source": [
    "import datetime\n",
    "import hashlib\n",
    "\n",
    "import requests"
   ]
  },
  {
   "cell_type": "code",
   "execution_count": 7,
   "metadata": {},
   "outputs": [],
   "source": [
    "r = requests.get('https://api.smartbit.com.au/v1/blockchain/block/0')"
   ]
  },
  {
   "cell_type": "code",
   "execution_count": 8,
   "metadata": {},
   "outputs": [
    {
     "data": {
      "text/plain": [
       "'{\"success\":true,\"block\":{\"height\":0,\"confirmations\":689923,\"hash\":\"000000000019d6689c085ae165831e934ff763ae46a2a6c172b3f1b60a8ce26f\",\"previous_block_hash\":null,\"next_block_hash\":\"00000000839a8e6886ab5951d76f411475428afc90947ee320161bbf18eb6048\",\"merkleroot\":\"4a5e1e4baab89f3a32518a88c31bc87f618f76673e2cc77ab2127b7afdeda33b\",\"chainwork\":\"0000000000000000000000000000000000000000000000000000000100010001\",\"size\":285,\"stripped_size\":285,\"version\":1,\"time\":1231006505,\"first_seen\":1530432498,\"nonce\":2083236893,\"bits\":\"1d00ffff\",\"difficulty\":\"1.000000000000\",\"input_count\":0,\"output_count\":0,\"input_amount\":\"0.00000000\",\"input_amount_int\":0,\"output_amount\":\"0.00000000\",\"output_amount_int\":0,\"fees\":\"0.00000000\",\"fees_int\":0,\"fee_size\":\"0.00000000\",\"reward\":\"0.00000000\",\"reward_int\":0,\"pool\":null,\"coinbase\":null,\"dupe_coinbase\":null,\"transaction_count\":1}}'"
      ]
     },
     "execution_count": 8,
     "metadata": {},
     "output_type": "execute_result"
    }
   ],
   "source": [
    "r.text"
   ]
  },
  {
   "cell_type": "code",
   "execution_count": null,
   "metadata": {},
   "outputs": [],
   "source": []
  }
 ],
 "metadata": {
  "kernelspec": {
   "display_name": "Python 3",
   "language": "python",
   "name": "python3"
  },
  "language_info": {
   "codemirror_mode": {
    "name": "ipython",
    "version": 3
   },
   "file_extension": ".py",
   "mimetype": "text/x-python",
   "name": "python",
   "nbconvert_exporter": "python",
   "pygments_lexer": "ipython3",
   "version": "3.8.5"
  }
 },
 "nbformat": 4,
 "nbformat_minor": 4
}
