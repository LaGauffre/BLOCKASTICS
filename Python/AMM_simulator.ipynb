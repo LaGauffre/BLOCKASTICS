{
 "cells": [
  {
   "cell_type": "code",
   "execution_count": 1,
   "id": "4c893a91-109e-49f5-bb31-75292263d1ee",
   "metadata": {},
   "outputs": [],
   "source": [
    "import numpy as np"
   ]
  },
  {
   "cell_type": "markdown",
   "id": "fbcf4556-1c69-431a-8238-19b05b80cf35",
   "metadata": {},
   "source": [
    "# Simulated Automated Market Maker (AMM)\n",
    "\n",
    "We simulate an AMM to swap between two token equipped with a constant product market maker (CPMM). Let $x$ be the number of stable coin (DAI) and $y$ be the number of crypto (ETH). CPMM means that there exists $k$ such that \n",
    "\n",
    "$$\n",
    "x\\cdot y =k\n",
    "$$\n",
    "\n",
    "Assume that the initial price of token $Y$ is $\\pi^Y_0 = \\$500$ while the price for token $X$ is constant equal to $\\$1$. The first Liquidity Provider (LP) supply $\\$10,000$ worth of each asset to the pool.\n",
    "\n",
    "|| Price | Supplied | Value|\n",
    "|-----|-------|----------|---------|\n",
    "| DAI |1|10,000|10,000|\n",
    "| ETH |500|20| 10,000|  \n",
    "\n",
    "We have $k = 20,000$. The price of token $Y$ is given by $\\pi^Y_0 = x / y = 500$ and the initial liquidity is given by $L = \\sqrt{x\\cdot y}$ (this is the geometric mean of the number of units of token $X$ and $Y$.\n",
    "\n",
    "We add two features, the ability to swap one token for the other and the ability to add lquidity to the pool. \n",
    "\n",
    "1. I want to get $dy$ quantity of $Y$ so I must add $dx = \\frac{x\\cdot dy}{y-dy}$\n",
    "2. I want to increase the liquidity of the pool by providing $\\$5000$, I need to provide $\\$2500$ worth of each token. We then write a function to add liquidity where $dx = 2500$ units of token $X$ is provided, so we must provide $dy = \\frac{y}{x}dx$ \n",
    "\n",
    "\n"
   ]
  },
  {
   "cell_type": "code",
   "execution_count": 32,
   "id": "74f2b896-7ab5-46cd-adb0-fcde27a114c0",
   "metadata": {},
   "outputs": [],
   "source": [
    "class AMM:\n",
    "    x = 10000 \n",
    "    y = 20\n",
    "    def __init__(self, x, y, fee_rate=0.3):\n",
    "        self.x = x # Units of token X\n",
    "        self.y = y # Units of token Y\n",
    "        k = x * y\n",
    "        self.k = k # Constant k\n",
    "        self.π = x / y # Price of Y (X is the numeraire)\n",
    "        self.L = np.sqrt(k) # Measure of Liquidity\n",
    "        self.fee_rate = fee_rate # Liquidity Providers' cut on each swap transaction\n",
    "        self.LP = 1 # Number of Liquidity Providers\n",
    "        self.share = [1]\n",
    "        self.fee_collected = np.array([0]) # Fee accumulated by the pool\n",
    "        \n",
    "        \n",
    "    def swap_x_for_y(self, dy):\n",
    "        x = self.x + self.x * dy / (self.y - dy)\n",
    "        y = self.y - dy\n",
    "        res = AMM(x,y, self.fee_rate)\n",
    "        res.fee_collected = np.array(self.share) / np.sum(np.array(self.share)) * self.fee_rate * self.x * dy / (self.y - dy)\n",
    "        return(res)\n",
    "\n",
    "        \n",
    "    def swap_y_for_x(self, dx):\n",
    "        y = self.y + self.y * dx / (self.x - dx)\n",
    "        x = self.x - dx\n",
    "        return(AMM(x,y, self.fee_rate))\n",
    "    \n",
    "    def add_liquidity(self, dx, new_LP):\n",
    "        y = AMM_0.y + AMM_0.y / AMM_0.x * dx\n",
    "        x = AMM_0.x + dx\n",
    "        res = AMM(x,y, self.fee_rate)\n",
    "        if new_LP:\n",
    "            res.LP += 1\n",
    "            s = sum(AMM_0.share)*(np.sqrt(x*y / AMM_0.x / AMM_0.y )-1)\n",
    "            res.share.append(s)\n",
    "        return(res)\n",
    "        \n",
    "    def __str__(self):\n",
    "        return \"The state of the AMM is\" + \\\n",
    "    \"\\nNumber of token X: \" + str(self.x) + \\\n",
    "    \"\\nNumber of token Y: \" + str(self.y) + \\\n",
    "    \"\\nConstant k: \" + str(self.k) + \\\n",
    "    \"\\nPrice of Y: \" + str(self.π)  + \\\n",
    "    \"\\nAmount of Liquidity: \" + str(self.L)  +\\\n",
    "    \"\\nNumber of Liquidity provider: \" + str(self.LP)  + \\\n",
    "    \"\\nWeights of Liquidity provider: \" + str(np.array(self.share) / sum(self.share) )  + \\\n",
    "    \"\\nFees collected by LPs: \" + str(self.fee_collected) + \"\\n--------------\""
   ]
  },
  {
   "cell_type": "markdown",
   "id": "6d3bbf77-c2ab-4523-8369-ed35d2f74184",
   "metadata": {},
   "source": [
    "Let us see what goes on in the pool when we take $dy$ of the $Y$ token from the pool.  "
   ]
  },
  {
   "cell_type": "code",
   "execution_count": 33,
   "id": "be5b2212-9888-4e66-829c-671a000b827f",
   "metadata": {},
   "outputs": [
    {
     "name": "stdout",
     "output_type": "stream",
     "text": [
      "The state of the AMM is\n",
      "Number of token X: 10000\n",
      "Number of token Y: 20\n",
      "Constant k: 200000\n",
      "Price of Y: 500.0\n",
      "Amount of Liquidity: 447.21359549995793\n",
      "Number of Liquidity provider: 1\n",
      "Weights of Liquidity provider: [1.]\n",
      "Fees collected by LPs: [0]\n",
      "--------------\n",
      "The state of the AMM is\n",
      "Number of token X: 11111.111111111111\n",
      "Number of token Y: 18\n",
      "Constant k: 200000.0\n",
      "Price of Y: 617.283950617284\n",
      "Amount of Liquidity: 447.21359549995793\n",
      "Number of Liquidity provider: 1\n",
      "Weights of Liquidity provider: [1.]\n",
      "Fees collected by LPs: [333.33333333]\n",
      "--------------\n"
     ]
    }
   ],
   "source": [
    "AMM_0 = AMM(10000, 20)\n",
    "print(AMM_0)\n",
    "AMM_after_swap = AMM_0.swap_x_for_y(2)\n",
    "print(AMM_after_swap)\n",
    "# AMM_back_to_normal = AMM_after_swap.swap_y_for_x(AMM_after_swap.x-AMM_0.x)\n",
    "# print(AMM_back_to_normal)"
   ]
  },
  {
   "cell_type": "markdown",
   "id": "20b63abb-41c1-440a-b62c-5cdad303757a",
   "metadata": {},
   "source": [
    "Let see now what goes on in the pool when we add some liquidity"
   ]
  },
  {
   "cell_type": "code",
   "execution_count": 21,
   "id": "c254e2e6-6d80-4e23-8801-d697eaf55867",
   "metadata": {},
   "outputs": [
    {
     "name": "stdout",
     "output_type": "stream",
     "text": [
      "The state of the AMM is\n",
      "Number of token X: 10000\n",
      "Number of token Y: 20\n",
      "Constant k: 200000\n",
      "Price of Y: 500.0\n",
      "Amount of Liquidity: 447.21359549995793\n",
      "Number of Liquidity provider: 1\n",
      "Weights of Liquidity provider: [1.]\n",
      "--------------\n",
      "The state of the AMM is\n",
      "Number of token X: 12500\n",
      "Number of token Y: 25.0\n",
      "Constant k: 312500.0\n",
      "Price of Y: 500.0\n",
      "Amount of Liquidity: 559.0169943749474\n",
      "Number of Liquidity provider: 2\n",
      "Weights of Liquidity provider: [0.8 0.2]\n",
      "--------------\n"
     ]
    }
   ],
   "source": [
    "AMM_after_adding_liquidity = AMM_0.add_liquidity(dx, new_LP)\n",
    "print(AMM_0)\n",
    "print(AMM_after_adding_liquidity)"
   ]
  },
  {
   "cell_type": "code",
   "execution_count": 13,
   "id": "3ed71394-acf1-4eec-8d4a-530b69993215",
   "metadata": {},
   "outputs": [
    {
     "name": "stdout",
     "output_type": "stream",
     "text": [
      "12500 25.0\n",
      "The state of the AMM is\n",
      "Number of token X: 12500\n",
      "Number of token Y: 25.0\n",
      "Constant k: 312500.0\n",
      "Price of Y: 500.0\n",
      "Amount of Liquidity: 559.0169943749474\n",
      "Number of Liquidity provider: 1\n",
      "Weights of Liquidity provider: [1.]\n",
      "--------------\n",
      "The state of the AMM is\n",
      "Number of token X: 12500\n",
      "Number of token Y: 25.0\n",
      "Constant k: 312500.0\n",
      "Price of Y: 500.0\n",
      "Amount of Liquidity: 559.0169943749474\n",
      "Number of Liquidity provider: 2\n",
      "Weights of Liquidity provider: [0.8 0.2]\n",
      "--------------\n"
     ]
    }
   ],
   "source": [
    "dx, new_LP = 2500, True\n",
    "y = AMM_0.y + AMM_0.y / AMM_0.x * dx\n",
    "x = AMM_0.x + dx\n",
    "print(x, y)\n",
    "res = AMM(x,y)\n",
    "print(res)\n",
    "if new_LP:\n",
    "    res.LP += 1\n",
    "    s = sum(AMM_0.share)*(np.sqrt(x*y / AMM_0.x / AMM_0.y )-1)\n",
    "    res.share.append(s)\n",
    "print(res)"
   ]
  },
  {
   "cell_type": "code",
   "execution_count": null,
   "id": "4165e654-a553-406f-bd7e-1ee27d5c1188",
   "metadata": {},
   "outputs": [],
   "source": []
  }
 ],
 "metadata": {
  "kernelspec": {
   "display_name": "Python 3 (ipykernel)",
   "language": "python",
   "name": "python3"
  },
  "language_info": {
   "codemirror_mode": {
    "name": "ipython",
    "version": 3
   },
   "file_extension": ".py",
   "mimetype": "text/x-python",
   "name": "python",
   "nbconvert_exporter": "python",
   "pygments_lexer": "ipython3",
   "version": "3.9.13"
  }
 },
 "nbformat": 4,
 "nbformat_minor": 5
}
