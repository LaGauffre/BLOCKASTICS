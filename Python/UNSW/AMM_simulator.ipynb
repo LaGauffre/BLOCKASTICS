{
 "cells": [
  {
   "cell_type": "code",
   "execution_count": 1,
   "id": "4c893a91-109e-49f5-bb31-75292263d1ee",
   "metadata": {},
   "outputs": [],
   "source": [
    "import numpy as np\n",
    "import matplotlib.pyplot as plt\n",
    "import seaborn as sns\n",
    "import copy"
   ]
  },
  {
   "cell_type": "markdown",
   "id": "fbcf4556-1c69-431a-8238-19b05b80cf35",
   "metadata": {},
   "source": [
    "# Simulated Automated Market Maker (AMM)\n",
    "\n",
    "We simulate an AMM to swap between two token equipped with a constant product market maker (CPMM). Let $x$ be the number of stable coin (DAI) and $y$ be the number of crypto (ETH). CPMM means that there exists $k$ such that \n",
    "\n",
    "$$\n",
    "x\\cdot y =k\n",
    "$$\n",
    "\n",
    "Assume that the initial price of token $Y$ is $\\pi^Y_0 = \\$500$ while the price for token $X$ is constant equal to $\\$1$. The first Liquidity Provider (LP) supply $\\$10,000$ worth of each asset to the pool.\n",
    "\n",
    "|| Price | Supplied | Value|\n",
    "|-----|-------|----------|---------|\n",
    "| DAI |1|10,000|10,000|\n",
    "| ETH |500|20| 10,000|  \n",
    "\n",
    "We have $k = 20,000$. The price of token $Y$ is given by $\\pi^Y_0 = x / y = 500$ and the initial liquidity is given by $L = \\sqrt{x\\cdot y}$ (this is the geometric mean of the number of units of token $X$ and $Y$.\n",
    "\n",
    "We add two features, the ability to swap one token for the other and the ability to add lquidity to the pool. \n",
    "\n",
    "1. I want to get $dy$ quantity of $Y$ so I must add $dx = \\frac{x\\cdot dy}{y-dy}$\n",
    "2. I want to increase the liquidity of the pool by providing $\\$5000$, I need to provide $\\$2500$ worth of each token. We then write a function to add liquidity where $dx = 2500$ units of token $X$ is provided, so we must provide $dy = \\frac{y}{x}dx$ \n",
    "\n",
    "\n"
   ]
  },
  {
   "cell_type": "code",
   "execution_count": 2,
   "id": "74f2b896-7ab5-46cd-adb0-fcde27a114c0",
   "metadata": {},
   "outputs": [],
   "source": [
    "class AMM:\n",
    "\n",
    "    def __init__(self, x, y, fee_rate=0.3):\n",
    "        self.x = x # Units of token X\n",
    "        self.y = y # Units of token Y\n",
    "        self.k = x * y # Constant k\n",
    "        self.π = x / y # Price of Y (X is the numeraire)\n",
    "        self.L = [np.sqrt(x * y)] # Measure of Liquidity\n",
    "        self.fee_rate = fee_rate # Liquidity Providers' cut on each swap transaction\n",
    "        self.LP = [\"LP1\"] # Id of Liquidity Providers\n",
    "        self.weights = [1]\n",
    "        self.fee_collected = np.array([0]) # Fee accumulated by the pool\n",
    "        \n",
    "\n",
    "    def swap_x_for_y(self, dy):\n",
    "        res = copy.deepcopy(self)\n",
    "        res.x = self.x + self.x * dy / (self.y - dy)\n",
    "        res.y = self.y - dy\n",
    "        res.π = res.x / res.y \n",
    "        res.fee_collected = self.fee_collected + np.array(self.weights) * self.fee_rate * self.x * dy / (self.y - dy)\n",
    "        return(res)\n",
    "        \n",
    "    def swap_y_for_x(self, dx):\n",
    "        res = copy.deepcopy(self)\n",
    "        res.y = self.y + self.y * dx / (self.x - dx)\n",
    "        res.x = self.x - dx\n",
    "        res.π = res.x / res.y \n",
    "        res.fee_collected = self.fee_collected + np.array(self.weights) * self.fee_rate * dx\n",
    "        return(res)\n",
    "    \n",
    "    def add_liquidity(self, dx, new_LP, which_LP):\n",
    "        res = copy.deepcopy(self)\n",
    "        dy = self.y / self.x * dx\n",
    "        res.y = self.y + dy\n",
    "        res.x = self.x + dx\n",
    "        res.k = res.y * res.x # Constant k\n",
    "        res.π = res.x / res.y # Price of Y (X is the numeraire)\n",
    "\n",
    "        if new_LP:\n",
    "            res.LP.append(\"LP\"+str(len(self.LP)+1))\n",
    "            res.L.append(np.sqrt(dx*dy))\n",
    "            res.weights = res.L/(sum(res.L))\n",
    "            res.fee_collected = np.append(res.fee_collected, 0)\n",
    "        else:\n",
    "            res.L[np.where(np.array(res.LP) == which_LP)[0][0]] += np.sqrt(dx*dy)  \n",
    "            res.weights = res.L/(sum(res.L))\n",
    "        return(res)\n",
    "        \n",
    "    def __str__(self):\n",
    "        return \"The state of the AMM is\" + \\\n",
    "    \"\\nNumber of token X: \" + str(self.x) + \\\n",
    "    \"\\nNumber of token Y: \" + str(self.y) + \\\n",
    "    \"\\nConstant k: \" + str(self.k) + \\\n",
    "    \"\\nPrice of Y: \" + str(self.π)  + \\\n",
    "    \"\\nAmount of Liquidity: \" + str(sum(self.L))  +\\\n",
    "    \"\\nNumber of Liquidity provider: \" + str(self.LP)  + \\\n",
    "    \"\\nWeights of Liquidity provider: \" + str(self.weights)  + \\\n",
    "    \"\\nFees collected by LPs: \" + str(self.fee_collected) + \"\\n--------------\""
   ]
  },
  {
   "cell_type": "markdown",
   "id": "6d3bbf77-c2ab-4523-8369-ed35d2f74184",
   "metadata": {},
   "source": [
    "Let us see what goes on in the pool when we take $dy$ of the $Y$ token from the pool.  "
   ]
  },
  {
   "cell_type": "code",
   "execution_count": 3,
   "id": "be5b2212-9888-4e66-829c-671a000b827f",
   "metadata": {},
   "outputs": [
    {
     "name": "stdout",
     "output_type": "stream",
     "text": [
      "The state of the AMM is\n",
      "Number of token X: 10000\n",
      "Number of token Y: 20\n",
      "Constant k: 200000\n",
      "Price of Y: 500.0\n",
      "Amount of Liquidity: 447.21359549995793\n",
      "Number of Liquidity provider: ['LP1']\n",
      "Weights of Liquidity provider: [1]\n",
      "Fees collected by LPs: [0]\n",
      "--------------\n",
      "The state of the AMM is\n",
      "Number of token X: 11111.111111111111\n",
      "Number of token Y: 18\n",
      "Constant k: 200000\n",
      "Price of Y: 617.283950617284\n",
      "Amount of Liquidity: 447.21359549995793\n",
      "Number of Liquidity provider: ['LP1']\n",
      "Weights of Liquidity provider: [1]\n",
      "Fees collected by LPs: [333.33333333]\n",
      "--------------\n"
     ]
    }
   ],
   "source": [
    "AMM_0 = AMM(10000, 20)\n",
    "print(AMM_0)\n",
    "AMM_after_swap = AMM_0.swap_x_for_y(2)\n",
    "print(AMM_after_swap)\n",
    "# AMM_back_to_normal = AMM_after_swap.swap_y_for_x(AMM_after_swap.x-AMM_0.x)\n",
    "# print(AMM_back_to_normal)"
   ]
  },
  {
   "cell_type": "markdown",
   "id": "20b63abb-41c1-440a-b62c-5cdad303757a",
   "metadata": {},
   "source": [
    "Let see now what goes on in the pool when we add some liquidity"
   ]
  },
  {
   "cell_type": "code",
   "execution_count": 4,
   "id": "3c6adca7-2130-491f-b6aa-c07037056095",
   "metadata": {},
   "outputs": [
    {
     "name": "stdout",
     "output_type": "stream",
     "text": [
      "The state of the AMM is\n",
      "Number of token X: 12500\n",
      "Number of token Y: 25.0\n",
      "Constant k: 312500.0\n",
      "Price of Y: 500.0\n",
      "Amount of Liquidity: 559.0169943749474\n",
      "Number of Liquidity provider: ['LP1', 'LP2']\n",
      "Weights of Liquidity provider: [0.8 0.2]\n",
      "Fees collected by LPs: [0 0]\n",
      "--------------\n",
      "The state of the AMM is\n",
      "Number of token X: 15000\n",
      "Number of token Y: 30.0\n",
      "Constant k: 450000.0\n",
      "Price of Y: 500.0\n",
      "Amount of Liquidity: 670.8203932499368\n",
      "Number of Liquidity provider: ['LP1', 'LP2']\n",
      "Weights of Liquidity provider: [0.66666667 0.33333333]\n",
      "Fees collected by LPs: [0 0]\n",
      "--------------\n"
     ]
    }
   ],
   "source": [
    "# Here we have a new comer LP2 that add 2500 units of token X\n",
    "dx, new_LP, which_LP = 2500, True, \"LP2\"\n",
    "AMM_after_drop = AMM_0.add_liquidity(dx, new_LP, which_LP)\n",
    "print(AMM_after_drop)\n",
    "\n",
    "# Now LP2 consolidates her position by providing more liquidity\n",
    "dx, new_LP, which_LP = 2500, False, \"LP2\"\n",
    "AMM_after_drop2 = AMM_after_drop.add_liquidity(dx, new_LP, which_LP)\n",
    "print(AMM_after_drop2)"
   ]
  },
  {
   "cell_type": "markdown",
   "id": "0382970a-f65a-4d22-80a9-e95181372fe5",
   "metadata": {},
   "source": [
    "After adding liquidity we change the level of the curve from $k$ to \n",
    "$$\n",
    "k' = (x+dx)\\cdot (y+dy)\n",
    "$$"
   ]
  },
  {
   "cell_type": "markdown",
   "id": "2a60a88b-54cd-467e-97ca-f238af9edf8c",
   "metadata": {},
   "source": [
    "Liquidity providers are exposed to the risk of unpermanent loss. This is the loss incurred when locking ones asset instead of holding them. Assume that th price of ETH to $\\$550$ on other trading venues. Arbitrageurs will come to the pool to buy ETH.\n",
    "\n",
    "How many ETH are being bought taking into account the price variation linked to the trade and the trading fee? \n",
    "\n",
    "Fisrt how many ETH can be bought so the price of ETH reaches $P' = 550$ in the pool (considering the state of the AMM after LP2 enters the game). We have \n",
    "$$\n",
    "P' = \\frac{x+dx}{y-dy}\\Leftrightarrow dy = \\frac{\\sqrt{P'}y-\\sqrt{k}}{\\sqrt{P'}}\n",
    "$$\n",
    "after multiplying both sides by $(y-dy)^2$. Then of course \n",
    "$$\n",
    "dx = \\frac{xdy}{y-dy}\n",
    "$$\n",
    "\n",
    "let use apply this trade!"
   ]
  },
  {
   "cell_type": "code",
   "execution_count": 5,
   "id": "3ed71394-acf1-4eec-8d4a-530b69993215",
   "metadata": {},
   "outputs": [
    {
     "name": "stdout",
     "output_type": "stream",
     "text": [
      "The state of the AMM is\n",
      "Number of token X: 10000\n",
      "Number of token Y: 20\n",
      "Constant k: 200000\n",
      "Price of Y: 500.0\n",
      "Amount of Liquidity: 447.21359549995793\n",
      "Number of Liquidity provider: ['LP1']\n",
      "Weights of Liquidity provider: [1]\n",
      "Fees collected by LPs: [0]\n",
      "--------------\n",
      "The state of the AMM is\n",
      "Number of token X: 10488.088481701516\n",
      "Number of token Y: 19.069251784911845\n",
      "Constant k: 200000\n",
      "Price of Y: 550.0\n",
      "Amount of Liquidity: 447.21359549995793\n",
      "Number of Liquidity provider: ['LP1']\n",
      "Weights of Liquidity provider: [1]\n",
      "Fees collected by LPs: [146.42654451]\n",
      "--------------\n"
     ]
    }
   ],
   "source": [
    "P_new = 550\n",
    "print(AMM_0)\n",
    "AMM_after_arb = AMM_0.swap_x_for_y(AMM_0.y - np.sqrt(AMM_0.k) / np.sqrt(P_new))\n",
    "print(AMM_after_arb)\n"
   ]
  },
  {
   "cell_type": "markdown",
   "id": "98c8b8a1-c71e-4d0b-a6be-369347bf71e4",
   "metadata": {},
   "source": [
    "The arbitageurs profit is "
   ]
  },
  {
   "cell_type": "code",
   "execution_count": 6,
   "id": "4165e654-a553-406f-bd7e-1ee27d5c1188",
   "metadata": {},
   "outputs": [
    {
     "data": {
      "text/plain": [
       "(23.82303659696936, 0.9307482150881548)"
      ]
     },
     "execution_count": 6,
     "metadata": {},
     "output_type": "execute_result"
    }
   ],
   "source": [
    "P_new * (AMM_0.y - AMM_after_arb.y) - (AMM_after_arb.x - AMM_0.x), AMM_0.y - AMM_after_arb.y"
   ]
  },
  {
   "cell_type": "markdown",
   "id": "247438c7-1a97-425c-b690-dd54758352db",
   "metadata": {},
   "source": [
    "The LP impermanent loss is given by the diffece in worth between holding and locking the assets in the the pool. We have"
   ]
  },
  {
   "cell_type": "code",
   "execution_count": 7,
   "id": "b05047b8-1483-4b58-a9dd-3e326b8d193d",
   "metadata": {},
   "outputs": [
    {
     "data": {
      "text/plain": [
       "23.82303659696845"
      ]
     },
     "execution_count": 7,
     "metadata": {},
     "output_type": "execute_result"
    }
   ],
   "source": [
    "P_new * (AMM_0.y) + AMM_0.x - (P_new * AMM_after_arb.y + AMM_after_arb.x)"
   ]
  },
  {
   "cell_type": "markdown",
   "id": "4a6a4b1c-2248-4105-a81b-65fe7c4a95b1",
   "metadata": {},
   "source": [
    "The presence of trading fee mitigates this impermanent loss as the arbitrageurs aims at maximizing\n",
    "$$\n",
    "\\underset{dy}{\\max} P'dy - dx(1+\\alpha) = \\underset{dy}{\\max} P'dy - \\frac{x dy}{y - dy}(1+\\alpha) = \\underset{dy}{\\max} f(dy)\n",
    "$$\n",
    "\n",
    "we have that \n",
    "$$\n",
    "f'(dy) = 0 \\Rightarrow dy = y - \\sqrt{\\frac{K(1+\\alpha)}{P'}}\n",
    "$$\n",
    "\n",
    "and $f''(dy)<0$."
   ]
  },
  {
   "cell_type": "code",
   "execution_count": 8,
   "id": "21ce7c9a-ca7e-4a86-bf44-b9b16451784e",
   "metadata": {
    "tags": []
   },
   "outputs": [
    {
     "name": "stdout",
     "output_type": "stream",
     "text": [
      "The state of the AMM is\n",
      "Number of token X: 10000\n",
      "Number of token Y: 20\n",
      "Constant k: 200000\n",
      "Price of Y: 500.0\n",
      "Amount of Liquidity: 447.21359549995793\n",
      "Number of Liquidity provider: ['LP1']\n",
      "Weights of Liquidity provider: [1]\n",
      "Fees collected by LPs: [0]\n",
      "--------------\n",
      "The state of the AMM is\n",
      "Number of token X: 10235.32631438318\n",
      "Number of token Y: 19.540168418367887\n",
      "Constant k: 200000\n",
      "Price of Y: 523.8095238095239\n",
      "Amount of Liquidity: 447.21359549995793\n",
      "Number of Liquidity provider: ['LP1']\n",
      "Weights of Liquidity provider: [1]\n",
      "Fees collected by LPs: [11.76631572]\n",
      "--------------\n"
     ]
    }
   ],
   "source": [
    "α = 0.05\n",
    "AMM_0 = AMM(10000, 20, α)\n",
    "print(AMM_0)\n",
    "AMM_after_arb = AMM_0.swap_x_for_y(max(AMM_0.y - np.sqrt(AMM_0.k * (1+AMM_0.fee_rate) / P_new), 0))\n",
    "print(AMM_after_arb)\n"
   ]
  },
  {
   "cell_type": "markdown",
   "id": "8d9f9daa-d683-41a4-86bf-c08174cd3c7b",
   "metadata": {},
   "source": [
    "The arbitrageur's profit now becomes"
   ]
  },
  {
   "cell_type": "code",
   "execution_count": 9,
   "id": "65e5cd40-e8d6-4b65-83d8-243da6c1654b",
   "metadata": {},
   "outputs": [
    {
     "data": {
      "text/plain": [
       "5.814739795323817"
      ]
     },
     "execution_count": 9,
     "metadata": {},
     "output_type": "execute_result"
    }
   ],
   "source": [
    "P_new * (AMM_0.y - AMM_after_arb.y) - (AMM_after_arb.x - AMM_0.x) * (1 + AMM_0.fee_rate)"
   ]
  },
  {
   "cell_type": "markdown",
   "id": "22e7eeab-9148-4210-9d23-f3cdce06220e",
   "metadata": {},
   "source": [
    "The impermanent loss is"
   ]
  },
  {
   "cell_type": "code",
   "execution_count": 10,
   "id": "df166b8d-bc66-4564-92d4-fb2e9f2e60e0",
   "metadata": {},
   "outputs": [
    {
     "data": {
      "text/plain": [
       "5.814739795325295"
      ]
     },
     "execution_count": 10,
     "metadata": {},
     "output_type": "execute_result"
    }
   ],
   "source": [
    "P_new * (AMM_0.y) + AMM_0.x - (P_new * AMM_after_arb.y + AMM_after_arb.x + (AMM_after_arb.x - AMM_0.x ) * AMM_0.fee_rate)"
   ]
  },
  {
   "cell_type": "code",
   "execution_count": null,
   "id": "79307d60-58bd-4c50-8788-0041cc70d1ae",
   "metadata": {},
   "outputs": [],
   "source": []
  }
 ],
 "metadata": {
  "kernelspec": {
   "display_name": "Python 3 (ipykernel)",
   "language": "python",
   "name": "python3"
  },
  "language_info": {
   "codemirror_mode": {
    "name": "ipython",
    "version": 3
   },
   "file_extension": ".py",
   "mimetype": "text/x-python",
   "name": "python",
   "nbconvert_exporter": "python",
   "pygments_lexer": "ipython3",
   "version": "3.9.18"
  }
 },
 "nbformat": 4,
 "nbformat_minor": 5
}
