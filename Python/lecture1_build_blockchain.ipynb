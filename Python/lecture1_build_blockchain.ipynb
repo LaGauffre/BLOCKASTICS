{
 "cells": [
  {
   "cell_type": "markdown",
   "metadata": {},
   "source": [
    "# Building a blockchain in python\n",
    "\n",
    "Inspired from [Python Tutorial: Build A Blockchain In < 60 Lines of Code](https://medium.com/coinmonks/python-tutorial-build-a-blockchain-713c706f6531) and [Learn Blockchains by Building One](https://hackernoon.com/learn-blockchains-by-building-one-117428612f46)."
   ]
  },
  {
   "cell_type": "code",
   "execution_count": 30,
   "metadata": {},
   "outputs": [],
   "source": [
    "import datetime\n",
    "import hashlib\n",
    "import numpy as np\n",
    "import matplotlib.pyplot as plt\n",
    "import pandas as pd"
   ]
  },
  {
   "cell_type": "markdown",
   "metadata": {},
   "source": [
    "## The SHA-256 function"
   ]
  },
  {
   "cell_type": "code",
   "execution_count": 33,
   "metadata": {},
   "outputs": [
    {
     "data": {
      "text/plain": [
       "'44f35faf6794fb53e4ab82540e710659e78086a3fd4b1a2d1b32b94a551790bc'"
      ]
     },
     "execution_count": 33,
     "metadata": {},
     "output_type": "execute_result"
    }
   ],
   "source": [
    "hashlib.sha256(b\"Welcome to the BFS summer school\").hexdigest()"
   ]
  },
  {
   "cell_type": "markdown",
   "metadata": {},
   "source": [
    "## The block class"
   ]
  },
  {
   "cell_type": "code",
   "execution_count": 34,
   "metadata": {},
   "outputs": [],
   "source": [
    "class Block:\n",
    "    hash = None # Hash of the block info\n",
    "    index = 0 # Index of the block inside the chain\n",
    "    timestamp = datetime.datetime.now() # Time of creation of the block\n",
    "    nonce = 0 # Solution to the cryptopuzzle\n",
    "    transactions = [] # Transaction data\n",
    "    mined = False # Boolean set to True whenever the problem has been solved\n",
    "    previous_hash = 0x0 # Hash of the previous block\n",
    "    \n",
    "\n",
    "    def __init__(self, transactions):\n",
    "        self.transactions = transactions\n",
    "        self.timestamp = datetime.datetime.now()\n",
    "\n",
    "    def hash(self):# Compute the hash of the blockdata\n",
    "        h = hashlib.sha256()\n",
    "        h.update(\n",
    "        str(self.nonce).encode('utf-8') +\n",
    "        str(self.transactions).encode('utf-8') +\n",
    "        str(self.previous_hash).encode('utf-8') \n",
    "        )\n",
    "        return h.hexdigest()\n",
    "    \n",
    "    # Add a new transaction to a block\n",
    "    def new_transaction(self, sender, recipient, amount, fee):\n",
    "        transaction = {\n",
    "            'sender': sender,\n",
    "            'recipient': recipient,\n",
    "            'amount': amount,\n",
    "            'fee' : fee\n",
    "        }\n",
    "        self.transactions.append(transaction)\n",
    "    \n",
    "    # Print the block info\n",
    "    def __str__(self):\n",
    "        return \"Block Height: \" + str(self.index) + \\\n",
    "    \"\\nBlock Hash: \" + str(self.hash()) + \\\n",
    "    \"\\nTime:\" + str(self.timestamp) + \\\n",
    "    \"\\nBlock data: \" + str(self.transactions) + \\\n",
    "    \"\\nMined: \" + str(self.mined) + \\\n",
    "    \"\\nPrevious block hash: \" + str(self.previous_hash) +\"\\n--------------\"\n",
    "    \n",
    "    # Solve the cryptopuzzle of the block\n",
    "    \n"
   ]
  },
  {
   "cell_type": "code",
   "execution_count": 38,
   "metadata": {},
   "outputs": [
    {
     "name": "stdout",
     "output_type": "stream",
     "text": [
      "Block Height: 0\n",
      "Block Hash: 381809089e815ae87ca5ac536df84d4f97f24a32b6143b84667bf9de5cfacdf6\n",
      "Time:2021-09-18 13:56:23.689435\n",
      "Block data: [{'sender': 'Coinbase', 'recipient': 'Satoshi', 'amount': 100, 'fee': 1}, {'sender': 'Satoshi', 'recipient': 'Pierre-O', 'amount': 5, 'fee': 2}]\n",
      "Mined: False\n",
      "Previous block hash: 0\n",
      "--------------\n"
     ]
    }
   ],
   "source": [
    "B1 = Block([])\n",
    "B1.new_transaction(\"Coinbase\", \"Satoshi\", 100, 1)\n",
    "B1.new_transaction(\"Satoshi\", \"Pierre-O\", 5, 2)\n",
    "\n",
    "print(B1)\n"
   ]
  },
  {
   "cell_type": "markdown",
   "metadata": {},
   "source": [
    "## The blockchain class"
   ]
  },
  {
   "cell_type": "code",
   "execution_count": 15,
   "metadata": {},
   "outputs": [],
   "source": [
    "class Blockchain:\n",
    "    diff = 0\n",
    "    maxNonce = 2**32\n",
    "    target = 2 ** (256-diff)\n",
    "    reward = 50\n",
    "    miner = \"Miner\"\n",
    "\n",
    "    def __init__(self, genesis_block):\n",
    "        self.chain = [genesis_block]\n",
    "        self.pending_transactions = []\n",
    "        \n",
    "    def new_transaction(self, sender, recipient, amount, fee):\n",
    "        transaction = {\n",
    "            'sender': sender,\n",
    "            'recipient': recipient,\n",
    "            'amount': amount,\n",
    "            'fee' : fee\n",
    "        }\n",
    "        self.pending_transactions.append(transaction) \n",
    "    \n",
    "    def add_block(self):\n",
    "#         blockchain.pending_transactions\n",
    "        current_block = blockchain.chain[-1]\n",
    "        new_block = Block(blockchain.pending_transactions)\n",
    "        new_block.index = current_block.index + 1\n",
    "        new_block.previous_hash = current_block.hash()\n",
    "        blockchain.chain.append(new_block)\n",
    "        blockchain.pending_transactions = []\n",
    "    \n",
    "    def adjust_difficulty(self, new_diff):\n",
    "        self.diff = new_diff\n",
    "        self.target = 2 ** (256-new_diff)\n",
    "    \n",
    "    def halve_reward(self):\n",
    "        self.reward = self.reward / 2\n",
    "    \n",
    "    def mine(self):\n",
    "        block = self.chain[-1]\n",
    "        target = self.target\n",
    "\n",
    "        if block.transactions:\n",
    "            fee = pd.DataFrame.from_records(block.transactions).fee.sum()\n",
    "        else:\n",
    "            fee = 0\n",
    "\n",
    "        block.new_transaction(\"Coinbase\", self.miner, self.reward + fee, 0)\n",
    "        while int(block.hash(), 16) > target:\n",
    "            block.nonce = int(np.random.uniform(low = 0, high = 2**32 + 1))\n",
    "        block.mined = True\n",
    "        block.timestamp = datetime.datetime.now() \n",
    "        \n",
    "\n"
   ]
  },
  {
   "cell_type": "code",
   "execution_count": 42,
   "metadata": {},
   "outputs": [
    {
     "name": "stdout",
     "output_type": "stream",
     "text": [
      "Block Height: 0\n",
      "Block Hash: 32369d15916932bd1ade51c0cae9f32f5ded2cccd29d81d7eec27066c813e39d\n",
      "Time:2021-09-18 14:02:54.407819\n",
      "Block data: []\n",
      "Mined: False\n",
      "Previous block hash: 0\n",
      "--------------\n",
      "Block Height: 0\n",
      "Block Hash: 00000bc07a352292fdc062bb13fb5e9a9e1217fa378fe1bb6d3500d336a80ac7\n",
      "Time:2021-09-18 14:03:02.801793\n",
      "Block data: [{'sender': 'Coinbase', 'recipient': 'Miner', 'amount': 25.0, 'fee': 0}]\n",
      "Mined: True\n",
      "Previous block hash: 0\n",
      "--------------\n"
     ]
    }
   ],
   "source": [
    "genesis_block = Block([])\n",
    "blockchain = Blockchain(genesis_block)\n",
    "print(blockchain.chain[-1])\n",
    "blockchain.adjust_difficulty(20)\n",
    "blockchain.halve_reward()\n",
    "blockchain.mine()\n",
    "print(blockchain.chain[-1])"
   ]
  },
  {
   "cell_type": "code",
   "execution_count": 43,
   "metadata": {},
   "outputs": [
    {
     "name": "stdout",
     "output_type": "stream",
     "text": [
      "[{'sender': 'miner', 'recipient': 'Pierre-O', 'amount': 5, 'fee': 0.1}, {'sender': 'miner', 'recipient': 'Satoshi', 'amount': 10, 'fee': 0.2}]\n",
      "Block Height: 0\n",
      "Block Hash: 00000bc07a352292fdc062bb13fb5e9a9e1217fa378fe1bb6d3500d336a80ac7\n",
      "Time:2021-09-18 14:03:02.801793\n",
      "Block data: [{'sender': 'Coinbase', 'recipient': 'Miner', 'amount': 25.0, 'fee': 0}]\n",
      "Mined: True\n",
      "Previous block hash: 0\n",
      "--------------\n",
      "Block Height: 1\n",
      "Block Hash: 46770636f504549dfe38e721aaad15f7784222202389a6fa60f59d18a4d73944\n",
      "Time:2021-09-18 14:04:07.128489\n",
      "Block data: [{'sender': 'miner', 'recipient': 'Pierre-O', 'amount': 5, 'fee': 0.1}, {'sender': 'miner', 'recipient': 'Satoshi', 'amount': 10, 'fee': 0.2}]\n",
      "Mined: False\n",
      "Previous block hash: 00000bc07a352292fdc062bb13fb5e9a9e1217fa378fe1bb6d3500d336a80ac7\n",
      "--------------\n"
     ]
    }
   ],
   "source": [
    "blockchain.new_transaction(\"miner\", \"Pierre-O\", 5, 0.1)\n",
    "blockchain.new_transaction(\"miner\", \"Satoshi\", 10, 0.2)\n",
    "print(blockchain.pending_transactions)\n",
    "blockchain.add_block()\n",
    "for block in blockchain.chain: \n",
    "    print(block)"
   ]
  },
  {
   "cell_type": "code",
   "execution_count": 44,
   "metadata": {},
   "outputs": [
    {
     "name": "stdout",
     "output_type": "stream",
     "text": [
      "Block Height: 0\n",
      "Block Hash: 00000bc07a352292fdc062bb13fb5e9a9e1217fa378fe1bb6d3500d336a80ac7\n",
      "Time:2021-09-18 14:03:02.801793\n",
      "Block data: [{'sender': 'Coinbase', 'recipient': 'Miner', 'amount': 25.0, 'fee': 0}]\n",
      "Mined: True\n",
      "Previous block hash: 0\n",
      "--------------\n",
      "Block Height: 1\n",
      "Block Hash: 000006a3552a0bc8bef3e46bfdb79602a3981f971382cd57cbe46e825f8d206a\n",
      "Time:2021-09-18 14:04:25.512666\n",
      "Block data: [{'sender': 'miner', 'recipient': 'Pierre-O', 'amount': 5, 'fee': 0.1}, {'sender': 'miner', 'recipient': 'Satoshi', 'amount': 10, 'fee': 0.2}, {'sender': 'Coinbase', 'recipient': 'Miner', 'amount': 25.3, 'fee': 0}]\n",
      "Mined: True\n",
      "Previous block hash: 00000bc07a352292fdc062bb13fb5e9a9e1217fa378fe1bb6d3500d336a80ac7\n",
      "--------------\n"
     ]
    }
   ],
   "source": [
    "blockchain.mine()\n",
    "for block in blockchain.chain: \n",
    "    print(block)"
   ]
  },
  {
   "cell_type": "code",
   "execution_count": null,
   "metadata": {},
   "outputs": [],
   "source": [
    "\n"
   ]
  }
 ],
 "metadata": {
  "kernelspec": {
   "display_name": "Python 3",
   "language": "python",
   "name": "python3"
  },
  "language_info": {
   "codemirror_mode": {
    "name": "ipython",
    "version": 3
   },
   "file_extension": ".py",
   "mimetype": "text/x-python",
   "name": "python",
   "nbconvert_exporter": "python",
   "pygments_lexer": "ipython3",
   "version": "3.8.5"
  }
 },
 "nbformat": 4,
 "nbformat_minor": 4
}
